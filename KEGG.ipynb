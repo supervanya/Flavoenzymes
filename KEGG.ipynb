{
 "cells": [
  {
   "cell_type": "code",
   "execution_count": 125,
   "metadata": {
    "colab": {},
    "colab_type": "code",
    "id": "JgRQ8-v3VitM"
   },
   "outputs": [],
   "source": [
    "import bioservices\n",
    "import json\n",
    "import re\n",
    "\n",
    "from cache import kegg_cached_reqest\n",
    "from cache import get_smile_string\n",
    "from helpers import print_percent_done"
   ]
  },
  {
   "cell_type": "code",
   "execution_count": 109,
   "metadata": {},
   "outputs": [
    {
     "name": "stdout",
     "output_type": "stream",
     "text": [
      "found JSON cache\n"
     ]
    },
    {
     "data": {
      "text/plain": [
       "<module 'cache' from '/Users/oneoPk/Desktop/flavo/flavoenzymes/cache.py'>"
      ]
     },
     "execution_count": 109,
     "metadata": {},
     "output_type": "execute_result"
    }
   ],
   "source": [
    "# import cache\n",
    "# import importlib\n",
    "# importlib.reload(cache)"
   ]
  },
  {
   "cell_type": "code",
   "execution_count": 57,
   "metadata": {
    "colab": {
     "base_uri": "https://localhost:8080/",
     "height": 119
    },
    "colab_type": "code",
    "executionInfo": {
     "elapsed": 484,
     "status": "ok",
     "timestamp": 1575238962378,
     "user": {
      "displayName": "Austin Topkis",
      "photoUrl": "",
      "userId": "11500520552127769483"
     },
     "user_tz": 360
    },
    "id": "twQMgP-QVitR",
    "outputId": "4cb3a089-d9dd-4835-8e8f-02f42c18417e"
   },
   "outputs": [],
   "source": [
    "k = bioservices.kegg.KEGG()\n",
    "parser = bioservices.kegg.KEGGParser()"
   ]
  },
  {
   "cell_type": "markdown",
   "metadata": {},
   "source": [
    "# This file is WIP still:\n",
    "### TODO:\n",
    "- Convert the enzymes to a SMILES strings\n",
    "- Allow to fetch data from Kegg for ECs that are in Brenda (or other databases)\n",
    "    - perhaps first, a master list of all FlavoEnzymes can be made, then itterated over\n",
    "        \n",
    "\n",
    "### QUESTIONS:\n",
    "- SMILES string\n",
    "    - https://www.genome.jp/tools/simcomp/"
   ]
  },
  {
   "cell_type": "code",
   "execution_count": null,
   "metadata": {},
   "outputs": [],
   "source": []
  },
  {
   "cell_type": "markdown",
   "metadata": {
    "colab_type": "text",
    "id": "ZCat-sQIVitT"
   },
   "source": [
    "### Configurables\n",
    "Edit the folling options before running the scraper"
   ]
  },
  {
   "cell_type": "code",
   "execution_count": 163,
   "metadata": {
    "colab": {},
    "colab_type": "code",
    "id": "KgMXHXidVitU"
   },
   "outputs": [],
   "source": [
    "useCaching = True # setting this parameter to False will fetch new data from server, instead of using cache\n",
    "keywords = ['FAD', 'FMN', 'flavin', 'flavoenzyme']\n",
    "import_file = \"export/kegg.json\"\n",
    "export_file = \"export/kegg.json\"\n",
    "poster_child = '1.14.13.2'"
   ]
  },
  {
   "cell_type": "markdown",
   "metadata": {
    "colab_type": "text",
    "id": "zzVd_dPfVitW"
   },
   "source": [
    "### Helper functions"
   ]
  },
  {
   "cell_type": "code",
   "execution_count": 37,
   "metadata": {
    "colab": {},
    "colab_type": "code",
    "id": "KYsekHFfVitX"
   },
   "outputs": [],
   "source": [
    "def read_past_data(path=import_file):\n",
    "    try:\n",
    "        with open(path) as json_file:\n",
    "            return json.load(json_file)\n",
    "    except:\n",
    "        return {}"
   ]
  },
  {
   "cell_type": "code",
   "execution_count": 38,
   "metadata": {
    "colab": {},
    "colab_type": "code",
    "id": "9Rvp_eBHVitZ"
   },
   "outputs": [],
   "source": [
    "def get_ids(keyword):\n",
    "    results = k.find(database='enzyme', query=keyword)\n",
    "    results_array = results.split('\\n')\n",
    "    ids_array = [i.split('\\t')[0] for i in results_array if (i)]\n",
    "    return set(ids_array)"
   ]
  },
  {
   "cell_type": "code",
   "execution_count": 62,
   "metadata": {},
   "outputs": [],
   "source": [
    "def get_ids_for_keywords(keywords):\n",
    "    all_ids_set = set()\n",
    "    for keyword in keywords:\n",
    "        kw_ids = get_ids(keyword);\n",
    "        all_ids_set = all_ids_set | kw_ids\n",
    "    return all_ids_set"
   ]
  },
  {
   "cell_type": "code",
   "execution_count": 49,
   "metadata": {
    "colab": {},
    "colab_type": "code",
    "id": "Ifor22oYVitb"
   },
   "outputs": [],
   "source": [
    "def kegg_request(id):\n",
    "    resp = kegg_cached_reqest(request_name=f'kegg_ec_request', ec=id, request_fn=k.get, useCaching=useCaching)\n",
    "    ec_parse = parser.parse(resp)\n",
    "    return ec_parse"
   ]
  },
  {
   "cell_type": "code",
   "execution_count": null,
   "metadata": {},
   "outputs": [],
   "source": []
  },
  {
   "cell_type": "code",
   "execution_count": null,
   "metadata": {},
   "outputs": [],
   "source": [
    "def update_compounds(list_of_compounds):\n",
    "    new_compounds = {}\n",
    "    pattern = '(.+) \\[CPD:(.+)\\]'\n",
    "\n",
    "    for substrate in list_of_compounds:\n",
    "        if 'CPD' in substrate:\n",
    "            match = re.findall(pattern, product)[0]\n",
    "            \n",
    "            cpd_number = 'cpd:' + match[1]\n",
    "            print(cpd_number)\n",
    "            \n",
    "            name = match[0]\n",
    "            smiles = cache.get_smile_string(cpd_number)\n",
    "            \n",
    "            # updating the entree\n",
    "            new_substrates[smiles] = {\n",
    "                'name': name,\n",
    "                'smiles': smiles,\n",
    "                'kegg_name': substrate,\n",
    "            }\n",
    "            print(f'{cpd_number} ==> smiles: {smiles}\\n\\n')\n",
    "        else:\n",
    "            print(f'Not a valid CPD number for a substrate: {substrate}')\n",
    "\n",
    "    return new_substrates\n"
   ]
  },
  {
   "cell_type": "code",
   "execution_count": 160,
   "metadata": {},
   "outputs": [],
   "source": [
    "def update_substrates(substrates):\n",
    "    print(\"=\"*30)\n",
    "    print(\"========= SUBSTRATE ==========\")\n",
    "    print(\"=\"*30)\n",
    "\n",
    "    new_substrates = {}\n",
    "    pattern = '(.+) \\[CPD:(.+)\\]'\n",
    "\n",
    "    for substrate in substrates:\n",
    "        if 'CPD' in substrate:\n",
    "            match = re.findall(pattern, substrate)[0]\n",
    "            \n",
    "            cpd_number = 'cpd:' + match[1]\n",
    "            print(cpd_number)\n",
    "            \n",
    "            name = match[0]\n",
    "            smiles = cache.get_smile_string(cpd_number)\n",
    "            \n",
    "            # updating the entree\n",
    "            new_substrates[smiles] = {\n",
    "                'name': name,\n",
    "                'smiles': smiles,\n",
    "                'kegg_name': substrate,\n",
    "            }\n",
    "            print(f'{cpd_number} ==> smiles: {smiles}\\n\\n')\n",
    "        else:\n",
    "            print(f'Not a valid CPD number for a substrate: {substrate}')\n",
    "\n",
    "    return new_substrates\n",
    "\n",
    "def update_products(products):\n",
    "    print(\"=\"*30)\n",
    "    print(\"========== PRODUCT ===========\")\n",
    "    print(\"=\"*30)\n",
    "    new_products = {}\n",
    "    pattern = '(.+) \\[CPD:(.+)\\]'\n",
    "    \n",
    "    for product in products:\n",
    "        if 'CPD' in product:\n",
    "            match = re.findall(pattern, product)[0]\n",
    "            \n",
    "            cpd_number = 'cpd:' + match[1]\n",
    "            print(cpd_number)\n",
    "            \n",
    "            name = match[0]\n",
    "            smiles = cache.get_smile_string(cpd_number)\n",
    "            \n",
    "            # updating the entree\n",
    "            new_products[smiles] = {\n",
    "                'name': name,\n",
    "                'smiles': smiles,\n",
    "                'kegg_name': product,\n",
    "            }\n",
    "            print(f'{cpd_number} ==> smiles: {smiles}\\n\\n')\n",
    "        else:\n",
    "            print(f'Not a valid CPD number for a product: {product}')\n",
    "\n",
    "    return new_products"
   ]
  },
  {
   "cell_type": "code",
   "execution_count": 164,
   "metadata": {},
   "outputs": [
    {
     "name": "stdout",
     "output_type": "stream",
     "text": [
      "Getting cached data...\n",
      "kegg_ec_request?ec=1.14.13.2\n",
      "==============================\n",
      "========= SUBSTRATE ==========\n",
      "==============================\n",
      "cpd:C00156\n",
      "Getting cached data...\n",
      "smile_string?cpd=cpd:C00156\n",
      "cpd:C00156 ==> smiles: OC(=O)c1ccc(O)cc1\n",
      "\n",
      "\n",
      "cpd:C00005\n",
      "Getting cached data...\n",
      "smile_string?cpd=cpd:C00005\n",
      "cpd:C00005 ==> smiles: NC(=O)C1=CN(C=CC1)[C@@H]1O[C@H](COP(O)(=O)OP(O)(=O)OC[C@H]2O[C@H]([C@H](OP(O)(O)=O)[C@@H]2O)n2cnc3c(N)ncnc23)[C@@H](O)[C@H]1O\n",
      "\n",
      "\n",
      "cpd:C00080\n",
      "Getting cached data...\n",
      "smile_string?cpd=cpd:C00080\n",
      "cpd:C00080 ==> smiles: [1H+]\n",
      "\n",
      "\n",
      "cpd:C00007\n",
      "Making a request for new data...\n",
      "compound_request, cpd: cpd:C00007\n",
      "cpd:C00007 ==> smiles: [O]\n",
      "\n",
      "\n",
      "==============================\n",
      "========== PRODUCT ===========\n",
      "==============================\n",
      "cpd:C00230\n",
      "Making a request for new data...\n",
      "compound_request, cpd: cpd:C00230\n",
      "cpd:C00230 ==> smiles: C(=O)(C1=CC(=C(C=C1)O)O)O\n",
      "\n",
      "\n",
      "cpd:C00006\n",
      "Getting cached data...\n",
      "smile_string?cpd=cpd:C00006\n",
      "cpd:C00006 ==> smiles: NC(=O)c1ccc[n+](c1)[C@@H]1O[C@H](COP(O)(=O)OP(O)(=O)OC[C@H]2O[C@H]([C@H](OP(O)(O)=O)[C@@H]2O)n2cnc3c(N)ncnc23)[C@@H](O)[C@H]1O\n",
      "\n",
      "\n",
      "cpd:C00001\n",
      "Getting cached data...\n",
      "smile_string?cpd=cpd:C00001\n",
      "cpd:C00001 ==> smiles: [H]O[H]\n",
      "\n",
      "\n"
     ]
    },
    {
     "data": {
      "text/plain": [
       "{'C(=O)(C1=CC(=C(C=C1)O)O)O': {'name': '3,4-dihydroxybenzoate',\n",
       "  'smiles': 'C(=O)(C1=CC(=C(C=C1)O)O)O',\n",
       "  'kegg_name': '3,4-dihydroxybenzoate [CPD:C00230];'},\n",
       " 'NC(=O)c1ccc[n+](c1)[C@@H]1O[C@H](COP(O)(=O)OP(O)(=O)OC[C@H]2O[C@H]([C@H](OP(O)(O)=O)[C@@H]2O)n2cnc3c(N)ncnc23)[C@@H](O)[C@H]1O': {'name': 'NADP+',\n",
       "  'smiles': 'NC(=O)c1ccc[n+](c1)[C@@H]1O[C@H](COP(O)(=O)OP(O)(=O)OC[C@H]2O[C@H]([C@H](OP(O)(O)=O)[C@@H]2O)n2cnc3c(N)ncnc23)[C@@H](O)[C@H]1O',\n",
       "  'kegg_name': 'NADP+ [CPD:C00006];'},\n",
       " '[H]O[H]': {'name': 'H2O',\n",
       "  'smiles': '[H]O[H]',\n",
       "  'kegg_name': 'H2O [CPD:C00001]'}}"
      ]
     },
     "execution_count": 164,
     "metadata": {},
     "output_type": "execute_result"
    }
   ],
   "source": [
    "data = kegg_request(poster_child)\n",
    "substrates = data['SUBSTRATE']\n",
    "products = data['PRODUCT']\n",
    "\n",
    "update_substrates(substrates)\n",
    "update_products(products)"
   ]
  },
  {
   "cell_type": "code",
   "execution_count": 161,
   "metadata": {},
   "outputs": [
    {
     "name": "stdout",
     "output_type": "stream",
     "text": [
      "==============================\n",
      ">>> ENZ: 1.1.1.1\n",
      "==============================\n",
      "Getting cached data...\n",
      "kegg_ec_request?ec=1.1.1.1\n",
      "==============================\n",
      "========= SUBSTRATE ==========\n",
      "==============================\n",
      "cpd:C00226\n",
      "Getting cached data...\n",
      "smile_string?cpd=cpd:C00226\n",
      "cpd:C00226 ==> smiles: *C(O)([H])[H]\n",
      "\n",
      "\n",
      "cpd:C00003\n",
      "Getting cached data...\n",
      "smile_string?cpd=cpd:C00003\n",
      "cpd:C00003 ==> smiles: NC(=O)c1ccc[n+](c1)[C@@H]1O[C@H](COP(O)(=O)OP(O)(=O)OC[C@H]2O[C@H]([C@H](O)[C@@H]2O)n2cnc3c(N)ncnc23)[C@@H](O)[C@H]1O\n",
      "\n",
      "\n",
      "cpd:C01612\n",
      "Getting cached data...\n",
      "smile_string?cpd=cpd:C01612\n",
      "cpd:C01612 ==> smiles: *C(*)O\n",
      "\n",
      "\n",
      "==============================\n",
      "========== PRODUCT ===========\n",
      "==============================\n",
      "cpd:C00071\n",
      "Getting cached data...\n",
      "smile_string?cpd=cpd:C00071\n",
      "cpd:C00071 ==> smiles: [H]C([*])=O\n",
      "\n",
      "\n",
      "cpd:C00004\n",
      "Getting cached data...\n",
      "smile_string?cpd=cpd:C00004\n",
      "cpd:C00004 ==> smiles: NC(=O)C1=CN(C=CC1)[C@@H]1O[C@H](COP(O)(=O)OP(O)(=O)OC[C@H]2O[C@H]([C@H](O)[C@@H]2O)n2cnc3c(N)ncnc23)[C@@H](O)[C@H]1O\n",
      "\n",
      "\n",
      "cpd:C00080\n",
      "Getting cached data...\n",
      "smile_string?cpd=cpd:C00080\n",
      "cpd:C00080 ==> smiles: [1H+]\n",
      "\n",
      "\n",
      "cpd:C01450\n",
      "Getting cached data...\n",
      "smile_string?cpd=cpd:C01450\n",
      "cpd:C01450 ==> smiles: [*]C([*])=O\n",
      "\n",
      "\n",
      "==============================\n",
      ">>> ENZ: 1.1.1.125\n",
      "==============================\n",
      "Getting cached data...\n",
      "kegg_ec_request?ec=1.1.1.125\n",
      "==============================\n",
      "========= SUBSTRATE ==========\n",
      "==============================\n",
      "cpd:C02782\n",
      "Getting cached data...\n",
      "smile_string?cpd=cpd:C02782\n",
      "cpd:C02782 ==> smiles: C(=O)(C[C@@H](O)[C@H](O)[C@H](O)CO)O\n",
      "\n",
      "\n",
      "cpd:C00003\n",
      "Getting cached data...\n",
      "smile_string?cpd=cpd:C00003\n",
      "cpd:C00003 ==> smiles: NC(=O)c1ccc[n+](c1)[C@@H]1O[C@H](COP(O)(=O)OP(O)(=O)OC[C@H]2O[C@H]([C@H](O)[C@@H]2O)n2cnc3c(N)ncnc23)[C@@H](O)[C@H]1O\n",
      "\n",
      "\n",
      "==============================\n",
      "========== PRODUCT ===========\n",
      "==============================\n",
      "cpd:C03926\n",
      "Getting cached data...\n",
      "smile_string?cpd=cpd:C03926\n",
      "cpd:C03926 ==> smiles: C(=O)(CC(=O)[C@H](O)[C@H](O)CO)O\n",
      "\n",
      "\n",
      "cpd:C00004\n",
      "Getting cached data...\n",
      "smile_string?cpd=cpd:C00004\n",
      "cpd:C00004 ==> smiles: NC(=O)C1=CN(C=CC1)[C@@H]1O[C@H](COP(O)(=O)OP(O)(=O)OC[C@H]2O[C@H]([C@H](O)[C@@H]2O)n2cnc3c(N)ncnc23)[C@@H](O)[C@H]1O\n",
      "\n",
      "\n",
      "cpd:C00080\n",
      "Getting cached data...\n",
      "smile_string?cpd=cpd:C00080\n",
      "cpd:C00080 ==> smiles: [1H+]\n",
      "\n",
      "\n",
      "==============================\n",
      ">>> ENZ: 1.1.1.181\n",
      "==============================\n",
      "Getting cached data...\n",
      "kegg_ec_request?ec=1.1.1.181\n",
      "==============================\n",
      "========= SUBSTRATE ==========\n",
      "==============================\n",
      "cpd:C03594\n",
      "Making a request for new data...\n",
      "compound_request, cpd: cpd:C03594\n",
      "cpd:C03594 ==> smiles: [H][C@@]1(CC[C@@]2([H])[C@]3([H])[C@H](O)C=C4C[C@@H](O)CC[C@]4(C)[C@@]3([H])CC[C@]12C)[C@H](C)CCCC(C)C\n",
      "\n",
      "\n",
      "cpd:C00003\n",
      "Getting cached data...\n",
      "smile_string?cpd=cpd:C00003\n",
      "cpd:C00003 ==> smiles: NC(=O)c1ccc[n+](c1)[C@@H]1O[C@H](COP(O)(=O)OP(O)(=O)OC[C@H]2O[C@H]([C@H](O)[C@@H]2O)n2cnc3c(N)ncnc23)[C@@H](O)[C@H]1O\n",
      "\n",
      "\n",
      "==============================\n",
      "========== PRODUCT ===========\n",
      "==============================\n",
      "cpd:C05455\n",
      "Getting cached data...\n",
      "smile_string?cpd=cpd:C05455\n",
      "cpd:C05455 ==> smiles: [H][C@@]1(CC[C@@]2([H])[C@]3([H])[C@H](O)CC4=CC(=O)CC[C@]4(C)[C@@]3([H])CC[C@]12C)[C@H](C)CCCC(C)C\n",
      "\n",
      "\n",
      "cpd:C00004\n",
      "Getting cached data...\n",
      "smile_string?cpd=cpd:C00004\n",
      "cpd:C00004 ==> smiles: NC(=O)C1=CN(C=CC1)[C@@H]1O[C@H](COP(O)(=O)OP(O)(=O)OC[C@H]2O[C@H]([C@H](O)[C@@H]2O)n2cnc3c(N)ncnc23)[C@@H](O)[C@H]1O\n",
      "\n",
      "\n",
      "cpd:C00080\n",
      "Getting cached data...\n",
      "smile_string?cpd=cpd:C00080\n",
      "cpd:C00080 ==> smiles: [1H+]\n",
      "\n",
      "\n",
      "==============================\n",
      ">>> ENZ: 1.1.1.184\n",
      "==============================\n",
      "Getting cached data...\n",
      "kegg_ec_request?ec=1.1.1.184\n",
      "==============================\n",
      "========= SUBSTRATE ==========\n",
      "==============================\n",
      "cpd:C01612\n",
      "Getting cached data...\n",
      "smile_string?cpd=cpd:C01612\n",
      "cpd:C01612 ==> smiles: *C(*)O\n",
      "\n",
      "\n",
      "cpd:C00006\n",
      "Making a request for new data...\n",
      "compound_request, cpd: cpd:C00006\n",
      "cpd:C00006 ==> smiles: NC(=O)c1ccc[n+](c1)[C@@H]1O[C@H](COP(O)(=O)OP(O)(=O)OC[C@H]2O[C@H]([C@H](OP(O)(O)=O)[C@@H]2O)n2cnc3c(N)ncnc23)[C@@H](O)[C@H]1O\n",
      "\n",
      "\n",
      "==============================\n",
      "========== PRODUCT ===========\n",
      "==============================\n",
      "cpd:C01450\n",
      "Getting cached data...\n",
      "smile_string?cpd=cpd:C01450\n",
      "cpd:C01450 ==> smiles: [*]C([*])=O\n",
      "\n",
      "\n",
      "cpd:C00005\n",
      "Getting cached data...\n",
      "smile_string?cpd=cpd:C00005\n",
      "cpd:C00005 ==> smiles: NC(=O)C1=CN(C=CC1)[C@@H]1O[C@H](COP(O)(=O)OP(O)(=O)OC[C@H]2O[C@H]([C@H](OP(O)(O)=O)[C@@H]2O)n2cnc3c(N)ncnc23)[C@@H](O)[C@H]1O\n",
      "\n",
      "\n",
      "cpd:C00080\n",
      "Getting cached data...\n",
      "smile_string?cpd=cpd:C00080\n",
      "cpd:C00080 ==> smiles: [1H+]\n",
      "\n",
      "\n",
      "==============================\n",
      ">>> ENZ: 1.1.1.189\n",
      "==============================\n",
      "Getting cached data...\n",
      "kegg_ec_request?ec=1.1.1.189\n",
      "==============================\n",
      "========= SUBSTRATE ==========\n",
      "==============================\n",
      "cpd:C00639\n",
      "Making a request for new data...\n",
      "compound_request, cpd: cpd:C00639\n",
      "cpd:C00639 ==> smiles: CCCCC[C@H](O)\\C=C\\[C@H]1[C@H](O)C[C@H](O)[C@@H]1C\\C=C/CCCC(O)=O\n",
      "\n",
      "\n",
      "cpd:C00006\n",
      "Getting cached data...\n",
      "smile_string?cpd=cpd:C00006\n",
      "cpd:C00006 ==> smiles: NC(=O)c1ccc[n+](c1)[C@@H]1O[C@H](COP(O)(=O)OP(O)(=O)OC[C@H]2O[C@H]([C@H](OP(O)(O)=O)[C@@H]2O)n2cnc3c(N)ncnc23)[C@@H](O)[C@H]1O\n",
      "\n",
      "\n",
      "==============================\n",
      "========== PRODUCT ===========\n",
      "==============================\n",
      "cpd:C00584\n",
      "Getting cached data...\n",
      "smile_string?cpd=cpd:C00584\n",
      "cpd:C00584 ==> smiles: CCCCC[C@H](O)\\C=C\\[C@H]1[C@H](O)CC(=O)[C@@H]1C\\C=C/CCCC(O)=O\n",
      "\n",
      "\n",
      "cpd:C00005\n",
      "Getting cached data...\n",
      "smile_string?cpd=cpd:C00005\n",
      "cpd:C00005 ==> smiles: NC(=O)C1=CN(C=CC1)[C@@H]1O[C@H](COP(O)(=O)OP(O)(=O)OC[C@H]2O[C@H]([C@H](OP(O)(O)=O)[C@@H]2O)n2cnc3c(N)ncnc23)[C@@H](O)[C@H]1O\n",
      "\n",
      "\n",
      "cpd:C00080\n",
      "Getting cached data...\n",
      "smile_string?cpd=cpd:C00080\n",
      "cpd:C00080 ==> smiles: [1H+]\n",
      "\n",
      "\n",
      "==============================\n",
      ">>> ENZ: 1.1.1.193\n",
      "==============================\n",
      "Getting cached data...\n",
      "kegg_ec_request?ec=1.1.1.193\n",
      "==============================\n",
      "========= SUBSTRATE ==========\n",
      "==============================\n",
      "cpd:C04454\n",
      "Making a request for new data...\n",
      "compound_request, cpd: cpd:C04454\n",
      "cpd:C04454 ==> smiles: Nc1c(NC[C@H](O)[C@H](O)[C@H](O)COP(O)(O)=O)[nH]c(=O)[nH]c1=O\n",
      "\n",
      "\n",
      "cpd:C00006\n",
      "Getting cached data...\n",
      "smile_string?cpd=cpd:C00006\n",
      "cpd:C00006 ==> smiles: NC(=O)c1ccc[n+](c1)[C@@H]1O[C@H](COP(O)(=O)OP(O)(=O)OC[C@H]2O[C@H]([C@H](OP(O)(O)=O)[C@@H]2O)n2cnc3c(N)ncnc23)[C@@H](O)[C@H]1O\n",
      "\n",
      "\n",
      "==============================\n",
      "========== PRODUCT ===========\n",
      "==============================\n",
      "Not a valid CPD number for a product: 5-amino-6-(5-phospho-D-ribosylamino)uracil;\n",
      "cpd:C00005\n",
      "Getting cached data...\n",
      "smile_string?cpd=cpd:C00005\n",
      "cpd:C00005 ==> smiles: NC(=O)C1=CN(C=CC1)[C@@H]1O[C@H](COP(O)(=O)OP(O)(=O)OC[C@H]2O[C@H]([C@H](OP(O)(O)=O)[C@@H]2O)n2cnc3c(N)ncnc23)[C@@H](O)[C@H]1O\n",
      "\n",
      "\n",
      "cpd:C00080\n",
      "Getting cached data...\n",
      "smile_string?cpd=cpd:C00080\n",
      "cpd:C00080 ==> smiles: [1H+]\n",
      "\n",
      "\n",
      "==============================\n",
      ">>> ENZ: 1.1.1.205\n",
      "==============================\n",
      "Getting cached data...\n",
      "kegg_ec_request?ec=1.1.1.205\n",
      "==============================\n",
      "========= SUBSTRATE ==========\n",
      "==============================\n",
      "cpd:C00130\n",
      "Making a request for new data...\n",
      "compound_request, cpd: cpd:C00130\n",
      "cpd:C00130 ==> smiles: O[C@@H]1[C@@H](COP(O)(O)=O)O[C@H]([C@@H]1O)n1cnc2c1nc[nH]c2=O\n",
      "\n",
      "\n",
      "cpd:C00003\n",
      "Getting cached data...\n",
      "smile_string?cpd=cpd:C00003\n",
      "cpd:C00003 ==> smiles: NC(=O)c1ccc[n+](c1)[C@@H]1O[C@H](COP(O)(=O)OP(O)(=O)OC[C@H]2O[C@H]([C@H](O)[C@@H]2O)n2cnc3c(N)ncnc23)[C@@H](O)[C@H]1O\n",
      "\n",
      "\n",
      "cpd:C00001\n",
      "Making a request for new data...\n",
      "compound_request, cpd: cpd:C00001\n",
      "cpd:C00001 ==> smiles: [H]O[H]\n",
      "\n",
      "\n",
      "==============================\n",
      "========== PRODUCT ===========\n",
      "==============================\n",
      "cpd:C00655\n",
      "Getting cached data...\n",
      "smile_string?cpd=cpd:C00655\n",
      "cpd:C00655 ==> smiles: O[C@@H]1[C@@H](COP(O)(O)=O)O[C@H]([C@@H]1O)n1cnc2c1[nH]c(=O)[nH]c2=O\n",
      "\n",
      "\n",
      "cpd:C00004\n",
      "Getting cached data...\n",
      "smile_string?cpd=cpd:C00004\n",
      "cpd:C00004 ==> smiles: NC(=O)C1=CN(C=CC1)[C@@H]1O[C@H](COP(O)(=O)OP(O)(=O)OC[C@H]2O[C@H]([C@H](O)[C@@H]2O)n2cnc3c(N)ncnc23)[C@@H](O)[C@H]1O\n",
      "\n",
      "\n",
      "cpd:C00080\n",
      "Getting cached data...\n",
      "smile_string?cpd=cpd:C00080\n",
      "cpd:C00080 ==> smiles: [1H+]\n",
      "\n",
      "\n",
      "==============================\n",
      ">>> ENZ: 1.1.1.215\n",
      "==============================\n",
      "Getting cached data...\n",
      "kegg_ec_request?ec=1.1.1.215\n",
      "==============================\n",
      "========= SUBSTRATE ==========\n",
      "==============================\n",
      "cpd:C00257\n",
      "Making a request for new data...\n",
      "compound_request, cpd: cpd:C00257\n",
      "cpd:C00257 ==> smiles: OC[C@@H](O)[C@@H](O)[C@H](O)[C@@H](O)C(O)=O\n",
      "\n",
      "\n",
      "cpd:C00006\n",
      "Getting cached data...\n",
      "smile_string?cpd=cpd:C00006\n",
      "cpd:C00006 ==> smiles: NC(=O)c1ccc[n+](c1)[C@@H]1O[C@H](COP(O)(=O)OP(O)(=O)OC[C@H]2O[C@H]([C@H](OP(O)(O)=O)[C@@H]2O)n2cnc3c(N)ncnc23)[C@@H](O)[C@H]1O\n",
      "\n",
      "\n",
      "==============================\n",
      "========== PRODUCT ===========\n",
      "==============================\n",
      "cpd:C06473\n",
      "Getting cached data...\n",
      "smile_string?cpd=cpd:C06473\n",
      "cpd:C06473 ==> smiles: OC[C@@H](O)[C@@H](O)[C@H](O)C(=O)C(O)=O\n",
      "\n",
      "\n",
      "cpd:C00005\n",
      "Getting cached data...\n",
      "smile_string?cpd=cpd:C00005\n",
      "cpd:C00005 ==> smiles: NC(=O)C1=CN(C=CC1)[C@@H]1O[C@H](COP(O)(=O)OP(O)(=O)OC[C@H]2O[C@H]([C@H](OP(O)(O)=O)[C@@H]2O)n2cnc3c(N)ncnc23)[C@@H](O)[C@H]1O\n",
      "\n",
      "\n",
      "cpd:C00080\n",
      "Getting cached data...\n",
      "smile_string?cpd=cpd:C00080\n",
      "cpd:C00080 ==> smiles: [1H+]\n",
      "\n",
      "\n",
      "==============================\n",
      ">>> ENZ: 1.1.1.216\n",
      "==============================\n",
      "Getting cached data...\n",
      "kegg_ec_request?ec=1.1.1.216\n",
      "==============================\n",
      "========= SUBSTRATE ==========\n",
      "==============================\n",
      "cpd:C01126\n",
      "Making a request for new data...\n",
      "compound_request, cpd: cpd:C01126\n",
      "cpd:C01126 ==> smiles: CC(C)=CCC\\C(C)=C\\CC\\C(C)=C\\CO\n",
      "\n",
      "\n",
      "cpd:C00006\n",
      "Getting cached data...\n",
      "smile_string?cpd=cpd:C00006\n",
      "cpd:C00006 ==> smiles: NC(=O)c1ccc[n+](c1)[C@@H]1O[C@H](COP(O)(=O)OP(O)(=O)OC[C@H]2O[C@H]([C@H](OP(O)(O)=O)[C@@H]2O)n2cnc3c(N)ncnc23)[C@@H](O)[C@H]1O\n",
      "\n",
      "\n",
      "==============================\n",
      "========== PRODUCT ===========\n",
      "==============================\n",
      "cpd:C03461\n",
      "Getting cached data...\n",
      "smile_string?cpd=cpd:C03461\n",
      "cpd:C03461 ==> smiles: [H]C(=O)\\C=C(/C)CC\\C=C(/C)CCC=C(C)C\n",
      "\n",
      "\n",
      "cpd:C00005\n",
      "Getting cached data...\n",
      "smile_string?cpd=cpd:C00005\n",
      "cpd:C00005 ==> smiles: NC(=O)C1=CN(C=CC1)[C@@H]1O[C@H](COP(O)(=O)OP(O)(=O)OC[C@H]2O[C@H]([C@H](OP(O)(O)=O)[C@@H]2O)n2cnc3c(N)ncnc23)[C@@H](O)[C@H]1O\n",
      "\n",
      "\n",
      "cpd:C00080\n",
      "Getting cached data...\n",
      "smile_string?cpd=cpd:C00080\n",
      "cpd:C00080 ==> smiles: [1H+]\n",
      "\n",
      "\n",
      "==============================\n",
      ">>> ENZ: 1.1.1.217\n",
      "==============================\n",
      "Getting cached data...\n",
      "kegg_ec_request?ec=1.1.1.217\n",
      "==============================\n",
      "========= SUBSTRATE ==========\n",
      "==============================\n",
      "cpd:C04561\n",
      "Making a request for new data...\n",
      "compound_request, cpd: cpd:C04561\n",
      "cpd:C04561 ==> smiles: C[C@H](O)[C@@H](C)C(=O)OCc1ccccc1\n",
      "\n",
      "\n",
      "cpd:C00006\n",
      "Getting cached data...\n",
      "smile_string?cpd=cpd:C00006\n",
      "cpd:C00006 ==> smiles: NC(=O)c1ccc[n+](c1)[C@@H]1O[C@H](COP(O)(=O)OP(O)(=O)OC[C@H]2O[C@H]([C@H](OP(O)(O)=O)[C@@H]2O)n2cnc3c(N)ncnc23)[C@@H](O)[C@H]1O\n",
      "\n",
      "\n",
      "==============================\n",
      "========== PRODUCT ===========\n",
      "==============================\n",
      "cpd:C04000\n",
      "Getting cached data...\n",
      "smile_string?cpd=cpd:C04000\n",
      "cpd:C04000 ==> smiles: CC(C(C)=O)C(=O)OCc1ccccc1\n",
      "\n",
      "\n",
      "cpd:C00005\n",
      "Getting cached data...\n",
      "smile_string?cpd=cpd:C00005\n",
      "cpd:C00005 ==> smiles: NC(=O)C1=CN(C=CC1)[C@@H]1O[C@H](COP(O)(=O)OP(O)(=O)OC[C@H]2O[C@H]([C@H](OP(O)(O)=O)[C@@H]2O)n2cnc3c(N)ncnc23)[C@@H](O)[C@H]1O\n",
      "\n",
      "\n",
      "cpd:C00080\n",
      "Getting cached data...\n",
      "smile_string?cpd=cpd:C00080\n",
      "cpd:C00080 ==> smiles: [1H+]\n",
      "\n",
      "\n"
     ]
    }
   ],
   "source": [
    "ec_numbers = sorted(kegg.keys())[:10]\n",
    "for ec in ec_numbers:\n",
    "    print(\"=\"*30)\n",
    "    print(f\">>> ENZ: {ec}\")\n",
    "    print(\"=\"*30)\n",
    "\n",
    "    data = kegg_request(ec)\n",
    "    substrates = data['SUBSTRATE']\n",
    "    products = data['PRODUCT']\n",
    "    \n",
    "    update_substrates(substrates)\n",
    "    update_products(products)"
   ]
  },
  {
   "cell_type": "code",
   "execution_count": 64,
   "metadata": {
    "colab": {},
    "colab_type": "code",
    "id": "boFR8ObGVitc"
   },
   "outputs": [],
   "source": [
    "def get_all_data(ids, previous_json, verbose=False):    \n",
    "    data_dict = previous_json\n",
    "    for index,id in enumerate(ids):\n",
    "        ec_data = kegg_request(id)\n",
    "        name = ec_data.get('SYSNAME',id) # if sysname not found, will use ec_number\n",
    "        ec_number = id.replace('ec:','')\n",
    "        \n",
    "        ec_data['KEGG_ID'] = id\n",
    "        ec_data['EC_NUMBER'] = ec_number\n",
    "        # WARNING: keys are now EC numbers istead of sysname, but can be changed \n",
    "        data_dict[ec_number] = ec_data \n",
    "        if verbose: \n",
    "            print_percent_done(index=index, length=len(ids))\n",
    "    return data_dict"
   ]
  },
  {
   "cell_type": "code",
   "execution_count": 82,
   "metadata": {
    "colab": {},
    "colab_type": "code",
    "id": "7baXowF7Vitf"
   },
   "outputs": [],
   "source": [
    "def scrape_kegg():\n",
    "    print(f'Kegg scraping script started...')\n",
    "    # Reading past results from KEGG\n",
    "    previous_json = read_past_data()\n",
    "    print(f'1. Successfully read previous json data, that has total of {len(previous_json)} records')\n",
    "    prev_ids = {enzyme['KEGG_ID'] for enzyme in list(previous_json.values())}\n",
    "    \n",
    "    # Getting IDs of all entries that are missing from past\n",
    "#     new_ids = get_ids_for_keywords(keywords)\n",
    "    new_ids = set(brenda_blacklist) - set(benda_not_found)\n",
    "    \n",
    "    all_ids = new_ids - prev_ids    \n",
    "                \n",
    "    # If new ids have been found, fetch the data\n",
    "    if len(all_ids) > 0:\n",
    "        print(f'2. Following potential flavins are missing from past results:')\n",
    "        [print(f'{ec}', end=\" | \") for ec in all_ids]\n",
    "    \n",
    "        # Scraping the data\n",
    "        print(f'\\n3. Fetching the data')\n",
    "        flavins = get_all_data(all_ids, previous_json, verbose=True)\n",
    "        \n",
    "        # Writing out the results to the file\n",
    "        with open(export_file, 'w') as outfile:\n",
    "            json.dump(flavins, outfile)\n",
    "        print(f'\\nSuccessfully written out {len(all_ids)} results to \"{export_file}\"')\n",
    "    else:\n",
    "        print(\"[i] Doesn't look like there are any new flavins on KEGG!\")"
   ]
  },
  {
   "cell_type": "markdown",
   "metadata": {
    "colab_type": "text",
    "id": "E8CdyA0PVith"
   },
   "source": [
    "### Running the program"
   ]
  },
  {
   "cell_type": "code",
   "execution_count": null,
   "metadata": {
    "colab": {
     "base_uri": "https://localhost:8080/",
     "height": 879
    },
    "colab_type": "code",
    "executionInfo": {
     "elapsed": 13244,
     "status": "error",
     "timestamp": 1575238991737,
     "user": {
      "displayName": "Austin Topkis",
      "photoUrl": "",
      "userId": "11500520552127769483"
     },
     "user_tz": 360
    },
    "id": "0ZB_Z3EQViti",
    "outputId": "997ecedf-0708-40f5-faa2-0f5dc2206304"
   },
   "outputs": [],
   "source": [
    "scrape_kegg()"
   ]
  },
  {
   "cell_type": "code",
   "execution_count": 39,
   "metadata": {},
   "outputs": [
    {
     "data": {
      "text/plain": [
       "['3.4.22.61',\n",
       " '1.16.8.1',\n",
       " '1.6.5.11',\n",
       " '2.7.7.95',\n",
       " '1.6.8.2',\n",
       " '1.14.99.40',\n",
       " '1.14.99.7',\n",
       " '3.4.24.15',\n",
       " '1.6.8.1',\n",
       " '1.7.99.5',\n",
       " '1.13.11.32',\n",
       " '2.5.1.77',\n",
       " '3.4.24.59',\n",
       " '3.4.22.3',\n",
       " '1.5.1.29',\n",
       " '3.4.24.69',\n",
       " '3.4.21.109',\n",
       " '3.4.16.4',\n",
       " '3.4.21.1',\n",
       " '1.14.19.7',\n",
       " '1.1.99.15',\n",
       " '3.4.22.56']"
      ]
     },
     "execution_count": 39,
     "metadata": {},
     "output_type": "execute_result"
    }
   ],
   "source": [
    "# prints all the ECs of items without SYSNAME\n",
    "kegg = read_past_data()\n",
    "sysnames = [ec for (ec, details) in list(kegg.items()) if not details.get('SYSNAME')]\n",
    "sysnames"
   ]
  },
  {
   "cell_type": "markdown",
   "metadata": {},
   "source": [
    "### Seeing how many brenda flavins are in Kegg"
   ]
  },
  {
   "cell_type": "code",
   "execution_count": 27,
   "metadata": {},
   "outputs": [],
   "source": [
    "brenda = read_past_data('export/brenda.json')\n",
    "brenda_ecs = sorted(brenda.keys())\n",
    "# brenda_flavins = get_all_data(brenda_ecs, previous_json = {}, verbose=True)\n",
    "benda_not_found=[]\n",
    "for index,id in enumerate(brenda_ecs):\n",
    "        try:\n",
    "            ec_data = kegg_request(id)\n",
    "        except:\n",
    "            benda_not_found.append(id)"
   ]
  },
  {
   "cell_type": "code",
   "execution_count": 29,
   "metadata": {},
   "outputs": [
    {
     "data": {
      "text/plain": [
       "781"
      ]
     },
     "execution_count": 29,
     "metadata": {},
     "output_type": "execute_result"
    }
   ],
   "source": [
    "len(benda_not_found)"
   ]
  },
  {
   "cell_type": "code",
   "execution_count": 93,
   "metadata": {},
   "outputs": [],
   "source": [
    "CPD = k.parse(k.get(\"cpd:C00156\"))"
   ]
  },
  {
   "cell_type": "code",
   "execution_count": 94,
   "metadata": {},
   "outputs": [
    {
     "data": {
      "text/plain": [
       "dict_keys(['ENTRY', 'NAME', 'FORMULA', 'EXACT_MASS', 'MOL_WEIGHT', 'REACTION', 'PATHWAY', 'MODULE', 'ENZYME', 'DBLINKS', 'ATOM', 'BOND'])"
      ]
     },
     "execution_count": 94,
     "metadata": {},
     "output_type": "execute_result"
    }
   ],
   "source": [
    "CPD.keys()"
   ]
  },
  {
   "cell_type": "code",
   "execution_count": 95,
   "metadata": {},
   "outputs": [
    {
     "data": {
      "text/plain": [
       "'C7H6O3'"
      ]
     },
     "execution_count": 95,
     "metadata": {},
     "output_type": "execute_result"
    }
   ],
   "source": [
    "CPD['FORMULA']"
   ]
  },
  {
   "cell_type": "code",
   "execution_count": 2,
   "metadata": {},
   "outputs": [],
   "source": [
    "import requests"
   ]
  },
  {
   "cell_type": "code",
   "execution_count": 22,
   "metadata": {},
   "outputs": [
    {
     "ename": "NameError",
     "evalue": "name 'requests' is not defined",
     "output_type": "error",
     "traceback": [
      "\u001b[0;31m---------------------------------------------------------------------------\u001b[0m",
      "\u001b[0;31mNameError\u001b[0m                                 Traceback (most recent call last)",
      "\u001b[0;32m<ipython-input-22-ae46c59fe4a8>\u001b[0m in \u001b[0;36m<module>\u001b[0;34m\u001b[0m\n\u001b[1;32m      3\u001b[0m \u001b[0mcpd\u001b[0m \u001b[0;34m=\u001b[0m \u001b[0;34m'cpd:C00156'\u001b[0m\u001b[0;34m\u001b[0m\u001b[0m\n\u001b[1;32m      4\u001b[0m \u001b[0murl\u001b[0m \u001b[0;34m=\u001b[0m \u001b[0;34mf'http://rest.kegg.jp/conv/{target_db}/{source_db}'\u001b[0m\u001b[0;34m\u001b[0m\u001b[0m\n\u001b[0;32m----> 5\u001b[0;31m \u001b[0mresp\u001b[0m \u001b[0;34m=\u001b[0m \u001b[0mrequests\u001b[0m\u001b[0;34m.\u001b[0m\u001b[0mget\u001b[0m\u001b[0;34m(\u001b[0m\u001b[0murl\u001b[0m\u001b[0;34m)\u001b[0m\u001b[0;34m\u001b[0m\u001b[0m\n\u001b[0m\u001b[1;32m      6\u001b[0m \u001b[0mprint\u001b[0m\u001b[0;34m(\u001b[0m\u001b[0mresp\u001b[0m\u001b[0;34m.\u001b[0m\u001b[0mtext\u001b[0m\u001b[0;34m)\u001b[0m\u001b[0;34m\u001b[0m\u001b[0m\n",
      "\u001b[0;31mNameError\u001b[0m: name 'requests' is not defined"
     ]
    }
   ],
   "source": [
    "\n",
    "    \n",
    "target_db = 'uniprot'\n",
    "source_db = 'compound'\n",
    "cpd = 'cpd:C00156'\n",
    "url = f'http://rest.kegg.jp/conv/{target_db}/{source_db}'\n",
    "resp = requests.get(url)\n",
    "print(resp.text)"
   ]
  },
  {
   "cell_type": "code",
   "execution_count": 25,
   "metadata": {},
   "outputs": [],
   "source": [
    "# perhaps we can use openbable or pybel?\n",
    "# https://pypi.org/project/openbabel/3.0.0/\n",
    "# to convert to smiles string?"
   ]
  },
  {
   "cell_type": "markdown",
   "metadata": {},
   "source": [
    "### Converting Kegg entry to SMILES"
   ]
  },
  {
   "cell_type": "code",
   "execution_count": 105,
   "metadata": {
    "collapsed": true,
    "jupyter": {
     "outputs_hidden": true
    }
   },
   "outputs": [
    {
     "name": "stdout",
     "output_type": "stream",
     "text": [
      " \n",
      " \n",
      " \n",
      " 10 10  0  0  0  0  0  0  0  0999 V2000\n",
      "   25.6200  -14.7656    0.0000 C   0  0  0  0  0  0  0  0  0  0  0  0\n",
      "   25.6137  -13.3697    0.0000 C   0  0  0  0  0  0  0  0  0  0  0  0\n",
      "   24.4098  -15.4637    0.0000 C   0  0  0  0  0  0  0  0  0  0  0  0\n",
      "   26.8430  -15.4637    0.0000 C   0  0  0  0  0  0  0  0  0  0  0  0\n",
      "   24.4098  -12.6779    0.0000 O   0  0  0  0  0  0  0  0  0  0  0  0\n",
      "   26.8174  -12.6716    0.0000 O   0  0  0  0  0  0  0  0  0  0  0  0\n",
      "   24.4098  -16.8659    0.0000 C   0  0  0  0  0  0  0  0  0  0  0  0\n",
      "   26.8430  -16.8659    0.0000 C   0  0  0  0  0  0  0  0  0  0  0  0\n",
      "   25.6200  -17.5831    0.0000 C   0  0  0  0  0  0  0  0  0  0  0  0\n",
      "   25.6137  -18.9727    0.0000 O   0  0  0  0  0  0  0  0  0  0  0  0\n",
      "  1  2  1  0     0  0\n",
      "  1  3  1  0     0  0\n",
      "  1  4  2  0     0  0\n",
      "  2  5  1  0     0  0\n",
      "  2  6  2  0     0  0\n",
      "  3  7  2  0     0  0\n",
      "  4  8  1  0     0  0\n",
      "  7  9  1  0     0  0\n",
      "  9 10  1  0     0  0\n",
      "  8  9  2  0     0  0\n",
      "M  END\n",
      "\n"
     ]
    }
   ],
   "source": [
    "cpd = 'cpd:C00156'\n",
    "url = f'https://www.genome.jp/dbget-bin/www_bget?-f+m+compound+{cpd}'\n",
    "resp = requests.get(url)\n",
    "print(resp.text)"
   ]
  },
  {
   "cell_type": "code",
   "execution_count": 34,
   "metadata": {},
   "outputs": [
    {
     "name": "stdout",
     "output_type": "stream",
     "text": [
      "Making a request for new data...\n",
      "ChEBI_request, ec: CHEBI:16048\n"
     ]
    },
    {
     "ename": "TypeError",
     "evalue": "Object of type 'Entity' is not JSON serializable",
     "output_type": "error",
     "traceback": [
      "\u001b[0;31m---------------------------------------------------------------------------\u001b[0m",
      "\u001b[0;31mTypeError\u001b[0m                                 Traceback (most recent call last)",
      "\u001b[0;32m<ipython-input-34-3c7b2380e4cb>\u001b[0m in \u001b[0;36m<module>\u001b[0;34m\u001b[0m\n\u001b[0;32m----> 1\u001b[0;31m \u001b[0mget_smile_string\u001b[0m\u001b[0;34m(\u001b[0m\u001b[0mkegg_entry\u001b[0m\u001b[0;34m)\u001b[0m\u001b[0;34m\u001b[0m\u001b[0m\n\u001b[0m",
      "\u001b[0;32m<ipython-input-27-5b85b4f687f4>\u001b[0m in \u001b[0;36mget_smile_string\u001b[0;34m(ec_data)\u001b[0m\n\u001b[1;32m      6\u001b[0m         \u001b[0;31m# TODO: not sure how to address if there are multiple of theese\u001b[0m\u001b[0;34m\u001b[0m\u001b[0;34m\u001b[0m\u001b[0m\n\u001b[1;32m      7\u001b[0m         \u001b[0mCHEBI_id\u001b[0m \u001b[0;34m=\u001b[0m \u001b[0;34m'CHEBI:'\u001b[0m \u001b[0;34m+\u001b[0m \u001b[0mChEBI_links\u001b[0m\u001b[0;34m[\u001b[0m\u001b[0;36m0\u001b[0m\u001b[0;34m]\u001b[0m\u001b[0;34m\u001b[0m\u001b[0m\n\u001b[0;32m----> 8\u001b[0;31m         \u001b[0mchebi_entry\u001b[0m \u001b[0;34m=\u001b[0m \u001b[0mkegg_cached_reqest\u001b[0m\u001b[0;34m(\u001b[0m\u001b[0mrequest_name\u001b[0m\u001b[0;34m=\u001b[0m\u001b[0;34mf'ChEBI_request'\u001b[0m\u001b[0;34m,\u001b[0m \u001b[0mec\u001b[0m\u001b[0;34m=\u001b[0m\u001b[0mCHEBI_id\u001b[0m\u001b[0;34m,\u001b[0m \u001b[0mrequest_fn\u001b[0m\u001b[0;34m=\u001b[0m\u001b[0mchebi_con\u001b[0m\u001b[0;34m.\u001b[0m\u001b[0mgetCompleteEntity\u001b[0m\u001b[0;34m,\u001b[0m \u001b[0museCaching\u001b[0m\u001b[0;34m=\u001b[0m\u001b[0museCaching\u001b[0m\u001b[0;34m)\u001b[0m\u001b[0;34m\u001b[0m\u001b[0m\n\u001b[0m\u001b[1;32m      9\u001b[0m         \u001b[0;32mreturn\u001b[0m \u001b[0mchebi_entry\u001b[0m\u001b[0;34m.\u001b[0m\u001b[0msmiles\u001b[0m\u001b[0;34m\u001b[0m\u001b[0m\n\u001b[1;32m     10\u001b[0m \u001b[0;34m\u001b[0m\u001b[0m\n",
      "\u001b[0;32m~/Desktop/flavo/flavoenzymes/cache.py\u001b[0m in \u001b[0;36mkegg_cached_reqest\u001b[0;34m(request_name, ec, request_fn, useCaching)\u001b[0m\n\u001b[1;32m    142\u001b[0m     \u001b[0;31m# need to pickle it\u001b[0m\u001b[0;34m\u001b[0m\u001b[0;34m\u001b[0m\u001b[0m\n\u001b[1;32m    143\u001b[0m     \u001b[0;31m# UPDATE: found a way using `zeep.helpers.serialize_object`\u001b[0m\u001b[0;34m\u001b[0m\u001b[0;34m\u001b[0m\u001b[0m\n\u001b[0;32m--> 144\u001b[0;31m     \u001b[0mdumped_json_cache\u001b[0m \u001b[0;34m=\u001b[0m \u001b[0mjson\u001b[0m\u001b[0;34m.\u001b[0m\u001b[0mdumps\u001b[0m\u001b[0;34m(\u001b[0m\u001b[0mCACHE_DICTION\u001b[0m\u001b[0;34m)\u001b[0m\u001b[0;34m\u001b[0m\u001b[0m\n\u001b[0m\u001b[1;32m    145\u001b[0m     \u001b[0mfw\u001b[0m \u001b[0;34m=\u001b[0m \u001b[0mopen\u001b[0m\u001b[0;34m(\u001b[0m\u001b[0mCACHE_FNAME\u001b[0m\u001b[0;34m,\u001b[0m \u001b[0;34m\"w\"\u001b[0m\u001b[0;34m)\u001b[0m\u001b[0;34m\u001b[0m\u001b[0m\n\u001b[1;32m    146\u001b[0m     \u001b[0mfw\u001b[0m\u001b[0;34m.\u001b[0m\u001b[0mwrite\u001b[0m\u001b[0;34m(\u001b[0m\u001b[0mdumped_json_cache\u001b[0m\u001b[0;34m)\u001b[0m\u001b[0;34m\u001b[0m\u001b[0m\n",
      "\u001b[0;32m/Library/Frameworks/Python.framework/Versions/3.6/lib/python3.6/json/__init__.py\u001b[0m in \u001b[0;36mdumps\u001b[0;34m(obj, skipkeys, ensure_ascii, check_circular, allow_nan, cls, indent, separators, default, sort_keys, **kw)\u001b[0m\n\u001b[1;32m    229\u001b[0m         \u001b[0mcls\u001b[0m \u001b[0;32mis\u001b[0m \u001b[0;32mNone\u001b[0m \u001b[0;32mand\u001b[0m \u001b[0mindent\u001b[0m \u001b[0;32mis\u001b[0m \u001b[0;32mNone\u001b[0m \u001b[0;32mand\u001b[0m \u001b[0mseparators\u001b[0m \u001b[0;32mis\u001b[0m \u001b[0;32mNone\u001b[0m \u001b[0;32mand\u001b[0m\u001b[0;34m\u001b[0m\u001b[0m\n\u001b[1;32m    230\u001b[0m         default is None and not sort_keys and not kw):\n\u001b[0;32m--> 231\u001b[0;31m         \u001b[0;32mreturn\u001b[0m \u001b[0m_default_encoder\u001b[0m\u001b[0;34m.\u001b[0m\u001b[0mencode\u001b[0m\u001b[0;34m(\u001b[0m\u001b[0mobj\u001b[0m\u001b[0;34m)\u001b[0m\u001b[0;34m\u001b[0m\u001b[0m\n\u001b[0m\u001b[1;32m    232\u001b[0m     \u001b[0;32mif\u001b[0m \u001b[0mcls\u001b[0m \u001b[0;32mis\u001b[0m \u001b[0;32mNone\u001b[0m\u001b[0;34m:\u001b[0m\u001b[0;34m\u001b[0m\u001b[0m\n\u001b[1;32m    233\u001b[0m         \u001b[0mcls\u001b[0m \u001b[0;34m=\u001b[0m \u001b[0mJSONEncoder\u001b[0m\u001b[0;34m\u001b[0m\u001b[0m\n",
      "\u001b[0;32m/Library/Frameworks/Python.framework/Versions/3.6/lib/python3.6/json/encoder.py\u001b[0m in \u001b[0;36mencode\u001b[0;34m(self, o)\u001b[0m\n\u001b[1;32m    197\u001b[0m         \u001b[0;31m# exceptions aren't as detailed.  The list call should be roughly\u001b[0m\u001b[0;34m\u001b[0m\u001b[0;34m\u001b[0m\u001b[0m\n\u001b[1;32m    198\u001b[0m         \u001b[0;31m# equivalent to the PySequence_Fast that ''.join() would do.\u001b[0m\u001b[0;34m\u001b[0m\u001b[0;34m\u001b[0m\u001b[0m\n\u001b[0;32m--> 199\u001b[0;31m         \u001b[0mchunks\u001b[0m \u001b[0;34m=\u001b[0m \u001b[0mself\u001b[0m\u001b[0;34m.\u001b[0m\u001b[0miterencode\u001b[0m\u001b[0;34m(\u001b[0m\u001b[0mo\u001b[0m\u001b[0;34m,\u001b[0m \u001b[0m_one_shot\u001b[0m\u001b[0;34m=\u001b[0m\u001b[0;32mTrue\u001b[0m\u001b[0;34m)\u001b[0m\u001b[0;34m\u001b[0m\u001b[0m\n\u001b[0m\u001b[1;32m    200\u001b[0m         \u001b[0;32mif\u001b[0m \u001b[0;32mnot\u001b[0m \u001b[0misinstance\u001b[0m\u001b[0;34m(\u001b[0m\u001b[0mchunks\u001b[0m\u001b[0;34m,\u001b[0m \u001b[0;34m(\u001b[0m\u001b[0mlist\u001b[0m\u001b[0;34m,\u001b[0m \u001b[0mtuple\u001b[0m\u001b[0;34m)\u001b[0m\u001b[0;34m)\u001b[0m\u001b[0;34m:\u001b[0m\u001b[0;34m\u001b[0m\u001b[0m\n\u001b[1;32m    201\u001b[0m             \u001b[0mchunks\u001b[0m \u001b[0;34m=\u001b[0m \u001b[0mlist\u001b[0m\u001b[0;34m(\u001b[0m\u001b[0mchunks\u001b[0m\u001b[0;34m)\u001b[0m\u001b[0;34m\u001b[0m\u001b[0m\n",
      "\u001b[0;32m/Library/Frameworks/Python.framework/Versions/3.6/lib/python3.6/json/encoder.py\u001b[0m in \u001b[0;36miterencode\u001b[0;34m(self, o, _one_shot)\u001b[0m\n\u001b[1;32m    255\u001b[0m                 \u001b[0mself\u001b[0m\u001b[0;34m.\u001b[0m\u001b[0mkey_separator\u001b[0m\u001b[0;34m,\u001b[0m \u001b[0mself\u001b[0m\u001b[0;34m.\u001b[0m\u001b[0mitem_separator\u001b[0m\u001b[0;34m,\u001b[0m \u001b[0mself\u001b[0m\u001b[0;34m.\u001b[0m\u001b[0msort_keys\u001b[0m\u001b[0;34m,\u001b[0m\u001b[0;34m\u001b[0m\u001b[0m\n\u001b[1;32m    256\u001b[0m                 self.skipkeys, _one_shot)\n\u001b[0;32m--> 257\u001b[0;31m         \u001b[0;32mreturn\u001b[0m \u001b[0m_iterencode\u001b[0m\u001b[0;34m(\u001b[0m\u001b[0mo\u001b[0m\u001b[0;34m,\u001b[0m \u001b[0;36m0\u001b[0m\u001b[0;34m)\u001b[0m\u001b[0;34m\u001b[0m\u001b[0m\n\u001b[0m\u001b[1;32m    258\u001b[0m \u001b[0;34m\u001b[0m\u001b[0m\n\u001b[1;32m    259\u001b[0m def _make_iterencode(markers, _default, _encoder, _indent, _floatstr,\n",
      "\u001b[0;32m/Library/Frameworks/Python.framework/Versions/3.6/lib/python3.6/json/encoder.py\u001b[0m in \u001b[0;36mdefault\u001b[0;34m(self, o)\u001b[0m\n\u001b[1;32m    178\u001b[0m         \"\"\"\n\u001b[1;32m    179\u001b[0m         raise TypeError(\"Object of type '%s' is not JSON serializable\" %\n\u001b[0;32m--> 180\u001b[0;31m                         o.__class__.__name__)\n\u001b[0m\u001b[1;32m    181\u001b[0m \u001b[0;34m\u001b[0m\u001b[0m\n\u001b[1;32m    182\u001b[0m     \u001b[0;32mdef\u001b[0m \u001b[0mencode\u001b[0m\u001b[0;34m(\u001b[0m\u001b[0mself\u001b[0m\u001b[0;34m,\u001b[0m \u001b[0mo\u001b[0m\u001b[0;34m)\u001b[0m\u001b[0;34m:\u001b[0m\u001b[0;34m\u001b[0m\u001b[0m\n",
      "\u001b[0;31mTypeError\u001b[0m: Object of type 'Entity' is not JSON serializable"
     ]
    }
   ],
   "source": [
    "get_smile_string(kegg_entry)"
   ]
  },
  {
   "cell_type": "code",
   "execution_count": 62,
   "metadata": {},
   "outputs": [
    {
     "name": "stdout",
     "output_type": "stream",
     "text": [
      "['17879', '30763']\n"
     ]
    }
   ],
   "source": [
    "# chebi_con = bioservices.ChEBI()\n",
    "\n",
    "kegg_entry = parser.parse(k.get('cpd:C00156'))\n",
    "ChEBI_links = kegg_entry['DBLINKS']['ChEBI'].split(' ')\n",
    "ChEMBL_links = kegg_entry['DBLINKS'].get('ChEMBL', None)\n",
    "print(ChEBI_links)\n",
    "\n",
    "# chebi_entry = chebi_con.getCompleteEntity('CHEBI:' + kegg_entry['DBLINKS']['ChEBI'])\n",
    "\n",
    "# print (chebi_entry.smiles)\n",
    "# print (chebi_entry.inchi)\n",
    "# print (chebi_entry.inchiKey)\n",
    "\n",
    "\n",
    "# >>> from bioservices import *\n",
    "# >>> ch = ChEBI()\n",
    "# >>> res = ch.getCompleteEntity(\"CHEBI:27732\")\n",
    "# >>> res.smiles\n",
    "# CN1C(=O)N(C)c2ncn(C)c2C1=O\n"
   ]
  },
  {
   "cell_type": "code",
   "execution_count": 63,
   "metadata": {},
   "outputs": [
    {
     "data": {
      "text/plain": [
       "'chebi:30763'"
      ]
     },
     "execution_count": 63,
     "metadata": {},
     "output_type": "execute_result"
    }
   ],
   "source": [
    "map_kegg_chebi['cpd:C00156']"
   ]
  },
  {
   "cell_type": "code",
   "execution_count": 60,
   "metadata": {},
   "outputs": [],
   "source": [
    "ChEMBL_links"
   ]
  },
  {
   "cell_type": "code",
   "execution_count": 18,
   "metadata": {},
   "outputs": [
    {
     "data": {
      "text/plain": [
       "{'ENTRY': 'C01847                      Compound',\n",
       " 'NAME': ['Reduced FMN;', 'FMNH2'],\n",
       " 'FORMULA': 'C17H23N4O9P',\n",
       " 'EXACT_MASS': 458.1203,\n",
       " 'MOL_WEIGHT': 458.3597,\n",
       " 'REACTION': ['R00025',\n",
       "  'R04102',\n",
       "  'R05218',\n",
       "  'R05705',\n",
       "  'R05706',\n",
       "  'R07210',\n",
       "  'R07664',\n",
       "  'R08908',\n",
       "  'R09083',\n",
       "  'R09313',\n",
       "  'R09314',\n",
       "  'R09559',\n",
       "  'R09798',\n",
       "  'R09819',\n",
       "  'R09936',\n",
       "  'R09937',\n",
       "  'R10203',\n",
       "  'R10206',\n",
       "  'R10551',\n",
       "  'R11161',\n",
       "  'R11162',\n",
       "  'R11163',\n",
       "  'R11164',\n",
       "  'R11225',\n",
       "  'R11404',\n",
       "  'R11454',\n",
       "  'R11455',\n",
       "  'R11456',\n",
       "  'R11457',\n",
       "  'R12149',\n",
       "  'R12538',\n",
       "  'R12544',\n",
       "  'R12545',\n",
       "  'R12546',\n",
       "  'R12547'],\n",
       " 'PATHWAY': {'map00740': 'Riboflavin metabolism',\n",
       "  'map01057': 'Biosynthesis of type II polyketide products',\n",
       "  'map01100': 'Metabolic pathways'},\n",
       " 'ENZYME': ['1.1.99.31',\n",
       "  '1.3.99.24',\n",
       "  '1.5.1.36',\n",
       "  '1.5.1.38',\n",
       "  '1.5.1.39',\n",
       "  '1.5.1.41',\n",
       "  '1.5.1.42',\n",
       "  '1.5.1.-',\n",
       "  '1.13.11.79',\n",
       "  '1.13.12.16',\n",
       "  '1.14.14.3',\n",
       "  '1.14.14.5',\n",
       "  '1.14.14.10',\n",
       "  '1.14.14.12',\n",
       "  '1.14.14.13',\n",
       "  '1.14.14.21',\n",
       "  '1.14.14.22',\n",
       "  '1.14.14.30',\n",
       "  '1.14.14.33',\n",
       "  '1.14.14.34',\n",
       "  '1.14.14.35',\n",
       "  '1.14.14.108',\n",
       "  '1.14.14.155',\n",
       "  '1.14.14.-',\n",
       "  '1.14.99.46',\n",
       "  '1.16.8.-',\n",
       "  '2.5.1.129'],\n",
       " 'DBLINKS': {'PubChem': '4964',\n",
       "  'ChEBI': '16048',\n",
       "  'PDB-CCD': 'FNR',\n",
       "  'NIKKAJI': 'J1.888.371F'},\n",
       " 'ATOM': ['1   N4x N    13.1318  -14.0085',\n",
       "  '2   C8y C    13.1318  -15.3857',\n",
       "  '3   N4x N    14.3024  -16.0743',\n",
       "  '4   C8y C    15.5419  -15.3857',\n",
       "  '5   C8y C    15.5419  -14.0085',\n",
       "  '6   C8y C    14.3024  -13.3199',\n",
       "  '7   N1y N    16.7124  -16.0743',\n",
       "  '8   C8y C    17.8830  -15.3857',\n",
       "  '9   C8y C    17.8830  -14.0085',\n",
       "  '10  N1x N    16.7124  -13.3199',\n",
       "  '11  C8x C    19.1225  -16.0743',\n",
       "  '12  C8y C    20.2931  -15.3857',\n",
       "  '13  C8y C    20.2931  -14.0085',\n",
       "  '14  C8x C    19.1225  -13.3199',\n",
       "  '15  O5x O    14.3024  -11.9427',\n",
       "  '16  O5x O    11.9611  -16.0743',\n",
       "  '17  C1a C    21.4638  -13.3199',\n",
       "  '18  C1a C    21.4638  -16.0743',\n",
       "  '19  C1b C    16.7124  -18.3467',\n",
       "  '20  C1c C    17.8830  -19.0353',\n",
       "  '21  C1c C    19.0537  -18.3467',\n",
       "  '22  C1c C    20.2243  -19.0353',\n",
       "  '23  C1b C    21.3948  -18.3467',\n",
       "  '24  O2b O    22.5655  -19.0353',\n",
       "  '25  O1a O    17.8830  -20.4124',\n",
       "  '26  O1a O    20.2243  -20.4124',\n",
       "  '27  O1a O    19.0537  -16.9694',\n",
       "  '28  P1b P    23.9427  -19.0353',\n",
       "  '29  O1c O    25.3198  -19.0353',\n",
       "  '30  O1c O    23.9427  -17.6581',\n",
       "  '31  O1c O    23.9427  -20.4124'],\n",
       " 'BOND': ['1     1   2 1',\n",
       "  '2     2   3 1',\n",
       "  '3     3   4 1',\n",
       "  '4     4   5 2',\n",
       "  '5     5   6 1',\n",
       "  '6     1   6 1',\n",
       "  '7     4   7 1',\n",
       "  '8     7   8 1',\n",
       "  '9     8   9 2',\n",
       "  '10    9  10 1',\n",
       "  '11    5  10 1',\n",
       "  '12    8  11 1',\n",
       "  '13   11  12 2',\n",
       "  '14   12  13 1',\n",
       "  '15   13  14 2',\n",
       "  '16    9  14 1',\n",
       "  '17    6  15 2',\n",
       "  '18    2  16 2',\n",
       "  '19   13  17 1',\n",
       "  '20   12  18 1',\n",
       "  '21    7  19 1',\n",
       "  '22   19  20 1',\n",
       "  '23   20  21 1',\n",
       "  '24   21  22 1',\n",
       "  '25   22  23 1',\n",
       "  '26   23  24 1',\n",
       "  '27   20  25 1 #Up',\n",
       "  '28   22  26 1 #Up',\n",
       "  '29   21  27 1 #Down',\n",
       "  '30   24  28 1',\n",
       "  '31   28  29 1',\n",
       "  '32   28  30 2',\n",
       "  '33   28  31 1']}"
      ]
     },
     "execution_count": 18,
     "metadata": {},
     "output_type": "execute_result"
    }
   ],
   "source": [
    "kegg_entry"
   ]
  },
  {
   "cell_type": "code",
   "execution_count": null,
   "metadata": {},
   "outputs": [],
   "source": []
  }
 ],
 "metadata": {
  "colab": {
   "name": "KEGG.ipynb",
   "provenance": []
  },
  "kernelspec": {
   "display_name": "ENV",
   "language": "python",
   "name": "env"
  },
  "language_info": {
   "codemirror_mode": {
    "name": "ipython",
    "version": 3
   },
   "file_extension": ".py",
   "mimetype": "text/x-python",
   "name": "python",
   "nbconvert_exporter": "python",
   "pygments_lexer": "ipython3",
   "version": "3.6.4"
  }
 },
 "nbformat": 4,
 "nbformat_minor": 4
}
