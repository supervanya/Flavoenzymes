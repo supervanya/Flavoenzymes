{
 "cells": [
  {
   "cell_type": "code",
   "execution_count": 1,
   "metadata": {
    "colab": {},
    "colab_type": "code",
    "id": "JgRQ8-v3VitM"
   },
   "outputs": [],
   "source": [
    "import bioservices\n",
    "import json\n",
    "import re\n",
    "import importlib\n",
    "import pandas as pd\n",
    "from pathlib import Path"
   ]
  },
  {
   "cell_type": "code",
   "execution_count": 2,
   "metadata": {},
   "outputs": [],
   "source": [
    "import cache\n",
    "from helpers import log \n",
    "from helpers import should_log\n",
    "from helpers import print_percent_done\n",
    "# importlib.reload(cache)\n",
    "# importlib.reload(should_log)"
   ]
  },
  {
   "cell_type": "code",
   "execution_count": 3,
   "metadata": {
    "colab": {
     "base_uri": "https://localhost:8080/",
     "height": 119
    },
    "colab_type": "code",
    "executionInfo": {
     "elapsed": 484,
     "status": "ok",
     "timestamp": 1575238962378,
     "user": {
      "displayName": "Austin Topkis",
      "photoUrl": "",
      "userId": "11500520552127769483"
     },
     "user_tz": 360
    },
    "id": "twQMgP-QVitR",
    "outputId": "4cb3a089-d9dd-4835-8e8f-02f42c18417e"
   },
   "outputs": [],
   "source": [
    "k = bioservices.kegg.KEGG()\n",
    "parser = bioservices.kegg.KEGGParser()"
   ]
  },
  {
   "cell_type": "markdown",
   "metadata": {},
   "source": [
    "# This file is WIP still:\n",
    "### TODO:\n",
    "- Convert the enzymes to a SMILES strings\n",
    "- Allow to fetch data from Kegg for ECs that are in Brenda (or other databases)\n",
    "    - perhaps first, a master list of all FlavoEnzymes can be made, then itterated over\n",
    "        \n",
    "\n",
    "### QUESTIONS:\n",
    "- SMILES string\n",
    "    - https://www.genome.jp/tools/simcomp/"
   ]
  },
  {
   "cell_type": "markdown",
   "metadata": {
    "colab_type": "text",
    "id": "ZCat-sQIVitT"
   },
   "source": [
    "### Configurables\n",
    "Edit the folling options before running the scraper"
   ]
  },
  {
   "cell_type": "code",
   "execution_count": null,
   "metadata": {
    "colab": {},
    "colab_type": "code",
    "id": "KgMXHXidVitU"
   },
   "outputs": [],
   "source": [
    "useCaching = True # setting this parameter to False will fetch new data from server, instead of using cache\n",
    "\n",
    "keywords = ['FAD', 'FMN', 'flavin', 'flavoenzyme', 'flavo']\n",
    "import_file = \"export/kegg.json\"\n",
    "export_file = \"export/kegg.json\"\n",
    "poster_child = '1.14.13.2'\n",
    "\n",
    "whitelist_path = Path('modules/scrapers/whitelist.csv')\n",
    "blacklist_path = Path('modules/scrapers/blacklist.csv')"
   ]
  },
  {
   "cell_type": "markdown",
   "metadata": {
    "colab_type": "text",
    "id": "zzVd_dPfVitW"
   },
   "source": [
    "### Helper functions"
   ]
  },
  {
   "cell_type": "code",
   "execution_count": 5,
   "metadata": {
    "colab": {},
    "colab_type": "code",
    "id": "KYsekHFfVitX"
   },
   "outputs": [],
   "source": [
    "def read_past_data(path=import_file):\n",
    "    try:\n",
    "        with open(path) as json_file:\n",
    "            return json.load(json_file)\n",
    "    except:\n",
    "        return {}"
   ]
  },
  {
   "cell_type": "code",
   "execution_count": 6,
   "metadata": {
    "colab": {},
    "colab_type": "code",
    "id": "9Rvp_eBHVitZ"
   },
   "outputs": [],
   "source": [
    "def get_ids(keyword):\n",
    "    results = k.find(database='enzyme', query=keyword)\n",
    "    results_array = results.split('\\n')\n",
    "    ids_array = [i.split('\\t')[0] for i in results_array if (i)]\n",
    "    return set(ids_array)"
   ]
  },
  {
   "cell_type": "code",
   "execution_count": 7,
   "metadata": {},
   "outputs": [],
   "source": [
    "def get_ids_for_keywords(keywords):\n",
    "    all_ids_set = set()\n",
    "    for keyword in keywords:\n",
    "        kw_ids = get_ids(keyword);\n",
    "        all_ids_set = all_ids_set | kw_ids\n",
    "    return all_ids_set"
   ]
  },
  {
   "cell_type": "code",
   "execution_count": 8,
   "metadata": {
    "colab": {},
    "colab_type": "code",
    "id": "Ifor22oYVitb"
   },
   "outputs": [],
   "source": [
    "def kegg_request(id):\n",
    "    resp = cache.kegg_cached_reqest(request_name=f'kegg_ec_request', ec=id, request_fn=k.get, useCaching=useCaching)\n",
    "    ec_parse = parser.parse(resp)\n",
    "    if 'SUBSTRATE' in ec_parse.keys():\n",
    "        ec_parse['SUBSTRATE'] = get_compounds_with_smiles(ec_parse['SUBSTRATE'])\n",
    "        ec_parse['PRODUCT'] = get_compounds_with_smiles(ec_parse['PRODUCT'])\n",
    "    return ec_parse"
   ]
  },
  {
   "cell_type": "code",
   "execution_count": 9,
   "metadata": {},
   "outputs": [],
   "source": [
    "def get_compounds_with_smiles(list_of_compounds):\n",
    "    new_compounds = {}\n",
    "    pattern = '(.+) \\[CPD:(.+)\\]'\n",
    "\n",
    "    for compound in list_of_compounds:\n",
    "        compound = compound.replace(';','') # this will be the full name\n",
    "        name = compound # this will be the short name\n",
    "        smiles_str = None\n",
    "        cpd_number = None\n",
    "        \n",
    "        if 'CPD' in compound:\n",
    "            # this breaks the strings like \"4-hydroxybenzoate [CPD:C00156];\" \n",
    "            # into an array of tuples like this: [('4-hydroxybenzoate', 'C00156')]\n",
    "            match = re.findall(pattern, name)[0]\n",
    "            \n",
    "            # constructing the cpd number, it must be like \"cpd:C00156\"\n",
    "            name = match[0]\n",
    "            cpd_number = 'cpd:' + match[1]\n",
    "            try:\n",
    "                smiles_str = cache.get_smile_string(cpd_number)\n",
    "                log(f\"compound:{name}, cpd_number:{cpd_number},name:{name},smiles: {smiles_str}\\n\\n\", 'debug')\n",
    "                if not smiles_str:\n",
    "                    raise Exception(f'Compound: {cpd_number} does not have a SMILES string.')\n",
    "            except Exception as e:\n",
    "                log(f\"{e}\", 'debug')\n",
    "                continue\n",
    "        else:\n",
    "            name = compound\n",
    "            log(f'⚠️ Compound \"{compound}\" is missing a CPD number', 'debug')\n",
    "            \n",
    "        new_compounds[name] = {\n",
    "                'name': name,\n",
    "                'smiles': smiles_str,\n",
    "                'kegg_name': compound,\n",
    "                'kegg_id': cpd_number\n",
    "            }\n",
    "    return new_compounds"
   ]
  },
  {
   "cell_type": "code",
   "execution_count": 10,
   "metadata": {
    "colab": {},
    "colab_type": "code",
    "id": "boFR8ObGVitc"
   },
   "outputs": [],
   "source": [
    "def get_all_data(ids, previous_json, verbose=False):    \n",
    "    data_dict = previous_json\n",
    "    \n",
    "    log(f'Getting data for following IDs - {ids}', 'debug')\n",
    "    for index,id in enumerate(ids):\n",
    "        ec_data = kegg_request(id)\n",
    "        name = ec_data.get('SYSNAME', id) # if sysname not found, will use ec_number\n",
    "        ec_number = id.replace('ec:','')\n",
    "        \n",
    "        ec_data['KEGG_ID'] = id\n",
    "        ec_data['EC_NUMBER'] = ec_number\n",
    "        data_dict[ec_number] = ec_data\n",
    "        \n",
    "        log(f'Getting following data - {data_dict[ec_number]}', 'silly')\n",
    "        if should_log(message_verbosity='info'):\n",
    "            print_percent_done(index=index, length=len(ids))\n",
    "            \n",
    "    return data_dict"
   ]
  },
  {
   "cell_type": "code",
   "execution_count": 11,
   "metadata": {},
   "outputs": [
    {
     "data": {
      "text/plain": [
       "{'ec:1.14.13.2'}"
      ]
     },
     "execution_count": 11,
     "metadata": {},
     "output_type": "execute_result"
    }
   ],
   "source": [
    "white_list_ids = set(pd.read_csv(whitelist_path)['ec'])\n",
    "white_list_ids"
   ]
  },
  {
   "cell_type": "code",
   "execution_count": 12,
   "metadata": {
    "colab": {},
    "colab_type": "code",
    "id": "7baXowF7Vitf"
   },
   "outputs": [],
   "source": [
    "def scrape_kegg():\n",
    "    # this needs to be read from the outside dir\n",
    "    # TODO: add all brenda wierdo ecs into the blacklist\n",
    "    white_list_ids = set(pd.read_csv(whitelist_path)['ec'])\n",
    "    black_list_ids = set(pd.read_csv(blacklist_path)['ec'])\n",
    "\n",
    "    log(f'Kegg scraping script started...','info')\n",
    "    # Reading past results from KEGG\n",
    "    previous_json = read_past_data()\n",
    "    log(f'1. Successfully read previous json data, that has total of {len(previous_json)} records', 'success')\n",
    "    prev_ids = {enzyme['KEGG_ID'] for enzyme in list(previous_json.values())}\n",
    "    \n",
    "    # Getting IDs of all entries that are missing from past\n",
    "    new_ids = get_ids_for_keywords(keywords)\n",
    "    # new_ids = set(brenda_blacklist) - set(benda_not_found)\n",
    "    \n",
    "    # TODO: make sure this line of code is not crazy! \n",
    "    # note: the parentecies are crucial here for order of operations\n",
    "    all_ids = (white_list_ids|new_ids)-(prev_ids|black_list_ids)\n",
    "                \n",
    "    # If new ids have been found, fetch the data\n",
    "    if len(all_ids) > 0:\n",
    "        log(f'2. Following potential flavins are missing from past results:','info')\n",
    "        if should_log('info'):\n",
    "            [print(f'- {ec}') for ec in all_ids]\n",
    "    \n",
    "        # Scraping the data\n",
    "        log(f'\\n3. Fetching the data','info')\n",
    "        flavins = get_all_data(all_ids, previous_json, verbose=True)\n",
    "        \n",
    "        # Writing out the results to the file\n",
    "        with open(export_file, 'w') as outfile:\n",
    "            json.dump(flavins, outfile)\n",
    "        log(f'\\nSuccessfully written out {len(all_ids)} results to \"{export_file}\"','success')\n",
    "    else:\n",
    "        log(\"Doesn't look like there are any new flavins on KEGG!\",'info')"
   ]
  },
  {
   "cell_type": "markdown",
   "metadata": {
    "colab_type": "text",
    "id": "E8CdyA0PVith"
   },
   "source": [
    "### Running the program"
   ]
  },
  {
   "cell_type": "code",
   "execution_count": null,
   "metadata": {
    "colab": {
     "base_uri": "https://localhost:8080/",
     "height": 879
    },
    "colab_type": "code",
    "executionInfo": {
     "elapsed": 13244,
     "status": "error",
     "timestamp": 1575238991737,
     "user": {
      "displayName": "Austin Topkis",
      "photoUrl": "",
      "userId": "11500520552127769483"
     },
     "user_tz": 360
    },
    "id": "0ZB_Z3EQViti",
    "outputId": "997ecedf-0708-40f5-faa2-0f5dc2206304"
   },
   "outputs": [],
   "source": [
    "scrape_kegg()"
   ]
  },
  {
   "cell_type": "markdown",
   "metadata": {},
   "source": [
    "---------------\n",
    "## The rest is a playground"
   ]
  },
  {
   "cell_type": "code",
   "execution_count": 16,
   "metadata": {},
   "outputs": [],
   "source": [
    "x = kegg_request(poster_child)"
   ]
  },
  {
   "cell_type": "code",
   "execution_count": 20,
   "metadata": {},
   "outputs": [
    {
     "data": {
      "text/plain": [
       "dict_keys(['ENTRY', 'NAME', 'CLASS', 'SYSNAME', 'REACTION', 'SUBSTRATE', 'PRODUCT', 'COMMENT', 'HISTORY', 'REFERENCE', 'ORTHOLOGY', 'GENES', 'DBLINKS'])"
      ]
     },
     "execution_count": 20,
     "metadata": {},
     "output_type": "execute_result"
    }
   ],
   "source": [
    "x.keys()"
   ]
  },
  {
   "cell_type": "code",
   "execution_count": 22,
   "metadata": {},
   "outputs": [
    {
     "data": {
      "text/plain": [
       "{'1-acyl-2-[(3E)-hexadec-3-enoyl]-[glycerolipid]': {'name': '1-acyl-2-[(3E)-hexadec-3-enoyl]-[glycerolipid]',\n",
       "  'smiles': None,\n",
       "  'kegg_name': '1-acyl-2-[(3E)-hexadec-3-enoyl]-[glycerolipid]',\n",
       "  'kegg_id': None},\n",
       " 'H2O': {'name': 'H2O',\n",
       "  'smiles': '[H]O[H]',\n",
       "  'kegg_name': 'H2O [CPD:C00001]',\n",
       "  'kegg_id': 'cpd:C00001'}}"
      ]
     },
     "execution_count": 22,
     "metadata": {},
     "output_type": "execute_result"
    }
   ],
   "source": [
    "x['PRODUCT']"
   ]
  },
  {
   "cell_type": "code",
   "execution_count": null,
   "metadata": {},
   "outputs": [],
   "source": [
    "# prints all the ECs of items without SYSNAME\n",
    "kegg = read_past_data()\n",
    "sysnames = [ec for (ec, details) in list(kegg.items()) if not details.get('SYSNAME')]\n",
    "sysnames"
   ]
  },
  {
   "cell_type": "markdown",
   "metadata": {},
   "source": [
    "### Seeing how many brenda flavins are in Kegg"
   ]
  },
  {
   "cell_type": "code",
   "execution_count": null,
   "metadata": {},
   "outputs": [],
   "source": [
    "brenda = read_past_data('export/brenda.json')\n",
    "brenda_ecs = sorted(brenda.keys())\n",
    "# brenda_flavins = get_all_data(brenda_ecs, previous_json = {}, verbose=True)\n",
    "benda_not_found=[]\n",
    "for index,id in enumerate(brenda_ecs):\n",
    "        try:\n",
    "            ec_data = kegg_request(id)\n",
    "        except:\n",
    "            benda_not_found.append(id)"
   ]
  },
  {
   "cell_type": "code",
   "execution_count": null,
   "metadata": {},
   "outputs": [],
   "source": [
    "len(benda_not_found)"
   ]
  },
  {
   "cell_type": "code",
   "execution_count": null,
   "metadata": {},
   "outputs": [],
   "source": [
    "CPD = k.parse(k.get(\"cpd:C00156\"))"
   ]
  },
  {
   "cell_type": "code",
   "execution_count": null,
   "metadata": {},
   "outputs": [],
   "source": [
    "CPD.keys()"
   ]
  },
  {
   "cell_type": "code",
   "execution_count": null,
   "metadata": {},
   "outputs": [],
   "source": [
    "CPD['FORMULA']"
   ]
  },
  {
   "cell_type": "code",
   "execution_count": null,
   "metadata": {},
   "outputs": [],
   "source": [
    "import requests"
   ]
  },
  {
   "cell_type": "code",
   "execution_count": null,
   "metadata": {},
   "outputs": [],
   "source": [
    "\n",
    "    \n",
    "target_db = 'uniprot'\n",
    "source_db = 'compound'\n",
    "cpd = 'cpd:C00156'\n",
    "url = f'http://rest.kegg.jp/conv/{target_db}/{source_db}'\n",
    "resp = requests.get(url)\n",
    "print(resp.text)"
   ]
  },
  {
   "cell_type": "code",
   "execution_count": null,
   "metadata": {},
   "outputs": [],
   "source": [
    "# perhaps we can use openbable or pybel?\n",
    "# https://pypi.org/project/openbabel/3.0.0/\n",
    "# to convert to smiles string?"
   ]
  },
  {
   "cell_type": "markdown",
   "metadata": {},
   "source": [
    "### Converting Kegg entry to SMILES"
   ]
  },
  {
   "cell_type": "code",
   "execution_count": null,
   "metadata": {},
   "outputs": [],
   "source": [
    "cpd = 'cpd:C00156'\n",
    "url = f'https://www.genome.jp/dbget-bin/www_bget?-f+m+compound+{cpd}'\n",
    "resp = requests.get(url)\n",
    "print(resp.text)"
   ]
  },
  {
   "cell_type": "code",
   "execution_count": null,
   "metadata": {},
   "outputs": [],
   "source": [
    "# chebi_con = bioservices.ChEBI()\n",
    "\n",
    "kegg_entry = parser.parse(k.get('cpd:C00156'))\n",
    "ChEBI_links = kegg_entry['DBLINKS']['ChEBI'].split(' ')\n",
    "ChEMBL_links = kegg_entry['DBLINKS'].get('ChEMBL', None)\n",
    "print(ChEBI_links)\n",
    "\n",
    "# chebi_entry = chebi_con.getCompleteEntity('CHEBI:' + kegg_entry['DBLINKS']['ChEBI'])\n",
    "\n",
    "# print (chebi_entry.smiles)\n",
    "# print (chebi_entry.inchi)\n",
    "# print (chebi_entry.inchiKey)\n",
    "\n",
    "\n",
    "# >>> from bioservices import *\n",
    "# >>> ch = ChEBI()\n",
    "# >>> res = ch.getCompleteEntity(\"CHEBI:27732\")\n",
    "# >>> res.smiles\n",
    "# CN1C(=O)N(C)c2ncn(C)c2C1=O\n"
   ]
  },
  {
   "cell_type": "code",
   "execution_count": null,
   "metadata": {},
   "outputs": [],
   "source": [
    "map_kegg_chebi['cpd:C00156']"
   ]
  },
  {
   "cell_type": "code",
   "execution_count": null,
   "metadata": {},
   "outputs": [],
   "source": [
    "ChEMBL_links"
   ]
  },
  {
   "cell_type": "code",
   "execution_count": null,
   "metadata": {},
   "outputs": [],
   "source": [
    "kegg_entry"
   ]
  },
  {
   "cell_type": "code",
   "execution_count": null,
   "metadata": {},
   "outputs": [],
   "source": [
    "PC_data = kegg_request(poster_child)"
   ]
  },
  {
   "cell_type": "code",
   "execution_count": null,
   "metadata": {},
   "outputs": [],
   "source": [
    "PC_data"
   ]
  },
  {
   "cell_type": "code",
   "execution_count": null,
   "metadata": {},
   "outputs": [],
   "source": [
    "PC_data.keys()"
   ]
  },
  {
   "cell_type": "code",
   "execution_count": null,
   "metadata": {},
   "outputs": [],
   "source": [
    "PC_data['PRODUCT'].keys()"
   ]
  },
  {
   "cell_type": "code",
   "execution_count": null,
   "metadata": {},
   "outputs": [],
   "source": [
    "data = kegg_request(poster_child)\n",
    "substrates = data['SUBSTRATE']\n",
    "products = data['PRODUCT']\n",
    "\n",
    "get_updated_compounds(substrates)\n",
    "# get_updated_compounds(products)"
   ]
  },
  {
   "cell_type": "code",
   "execution_count": null,
   "metadata": {},
   "outputs": [],
   "source": []
  }
 ],
 "metadata": {
  "colab": {
   "name": "KEGG.ipynb",
   "provenance": []
  },
  "kernelspec": {
   "display_name": "Python 3.6.8 64-bit ('flav_env': venv)",
   "language": "python",
   "name": "python36864bitflavenvvenv4617d87050c146029d4d0964fa1c2638"
  },
  "language_info": {
   "codemirror_mode": {
    "name": "ipython",
    "version": 3
   },
   "file_extension": ".py",
   "mimetype": "text/x-python",
   "name": "python",
   "nbconvert_exporter": "python",
   "pygments_lexer": "ipython3",
   "version": "3.6.8"
  }
 },
 "nbformat": 4,
 "nbformat_minor": 4
}
