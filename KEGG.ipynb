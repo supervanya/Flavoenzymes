{
 "cells": [
  {
   "cell_type": "code",
   "execution_count": 30,
   "metadata": {
    "colab": {},
    "colab_type": "code",
    "id": "JgRQ8-v3VitM"
   },
   "outputs": [],
   "source": [
    "import bioservices\n",
    "import json\n",
    "\n",
    "from cache import kegg_cached_reqest\n",
    "from helpers import print_percent_done"
   ]
  },
  {
   "cell_type": "code",
   "execution_count": 31,
   "metadata": {
    "colab": {
     "base_uri": "https://localhost:8080/",
     "height": 119
    },
    "colab_type": "code",
    "executionInfo": {
     "elapsed": 484,
     "status": "ok",
     "timestamp": 1575238962378,
     "user": {
      "displayName": "Austin Topkis",
      "photoUrl": "",
      "userId": "11500520552127769483"
     },
     "user_tz": 360
    },
    "id": "twQMgP-QVitR",
    "outputId": "4cb3a089-d9dd-4835-8e8f-02f42c18417e"
   },
   "outputs": [],
   "source": [
    "k = bioservices.kegg.KEGG()\n",
    "parser = bioservices.kegg.KEGGParser()"
   ]
  },
  {
   "cell_type": "markdown",
   "metadata": {},
   "source": [
    "# This file is WIP still:\n",
    "### TODO:\n",
    "- Convert the enzymes to a SMILES strings\n",
    "- Allow to fetch data from Kegg for ECs that are in Brenda (or other databases)\n",
    "    - perhaps first, a master list of all FlavoEnzymes can be made, then itterated over\n",
    "        \n",
    "\n",
    "### QUESTIONS:\n",
    "- SMILES string\n",
    "    - https://www.genome.jp/tools/simcomp/"
   ]
  },
  {
   "cell_type": "code",
   "execution_count": null,
   "metadata": {},
   "outputs": [],
   "source": []
  },
  {
   "cell_type": "markdown",
   "metadata": {
    "colab_type": "text",
    "id": "ZCat-sQIVitT"
   },
   "source": [
    "### Configurables\n",
    "Edit the folling options before running the scraper"
   ]
  },
  {
   "cell_type": "code",
   "execution_count": 32,
   "metadata": {
    "colab": {},
    "colab_type": "code",
    "id": "KgMXHXidVitU"
   },
   "outputs": [],
   "source": [
    "useCaching = True # setting this parameter to False will fetch new data from server, instead of using cache\n",
    "keywords = ['FAD', 'FMN', 'flavin', 'flavoenzyme']\n",
    "import_file = \"export/kegg.json\"\n",
    "export_file = \"export/kegg.json\""
   ]
  },
  {
   "cell_type": "markdown",
   "metadata": {
    "colab_type": "text",
    "id": "zzVd_dPfVitW"
   },
   "source": [
    "### Helper functions"
   ]
  },
  {
   "cell_type": "code",
   "execution_count": 60,
   "metadata": {
    "colab": {},
    "colab_type": "code",
    "id": "KYsekHFfVitX"
   },
   "outputs": [],
   "source": [
    "def read_past_data(path=import_file):\n",
    "    try:\n",
    "        with open(path) as json_file:\n",
    "            return json.load(json_file)\n",
    "    except:\n",
    "        return {}"
   ]
  },
  {
   "cell_type": "code",
   "execution_count": 61,
   "metadata": {
    "colab": {},
    "colab_type": "code",
    "id": "9Rvp_eBHVitZ"
   },
   "outputs": [],
   "source": [
    "def get_ids(keyword):\n",
    "    results = k.find(database='enzyme', query=keyword)\n",
    "    results_array = results.split('\\n')\n",
    "    ids_array = [i.split('\\t')[0] for i in results_array if (i)]\n",
    "    return set(ids_array)"
   ]
  },
  {
   "cell_type": "code",
   "execution_count": 62,
   "metadata": {},
   "outputs": [],
   "source": [
    "def get_ids_for_keywords(keywords):\n",
    "    all_ids_set = set()\n",
    "    for keyword in keywords:\n",
    "        kw_ids = get_ids(keyword);\n",
    "        all_ids_set = all_ids_set | kw_ids\n",
    "    return all_ids_set"
   ]
  },
  {
   "cell_type": "code",
   "execution_count": 63,
   "metadata": {
    "colab": {},
    "colab_type": "code",
    "id": "Ifor22oYVitb"
   },
   "outputs": [],
   "source": [
    "def get_ec_data(id):\n",
    "    resp = kegg_cached_reqest(request_name=f'kegg_ec_request', ec=id, request_fn=k.get, useCaching=useCaching)\n",
    "    ec_parse = parser.parse(resp)\n",
    "    return ec_parse"
   ]
  },
  {
   "cell_type": "code",
   "execution_count": 64,
   "metadata": {
    "colab": {},
    "colab_type": "code",
    "id": "boFR8ObGVitc"
   },
   "outputs": [],
   "source": [
    "def get_all_data(ids, previous_json, verbose=False):    \n",
    "    data_dict = previous_json\n",
    "    for index,id in enumerate(ids):\n",
    "        ec_data = get_ec_data(id)\n",
    "        name = ec_data.get('SYSNAME',id) # if sysname not found, will use ec_number\n",
    "        ec_number = id.replace('ec:','')\n",
    "        \n",
    "        ec_data['KEGG_ID'] = id\n",
    "        ec_data['EC_NUMBER'] = ec_number\n",
    "        # WARNING: keys are now EC numbers istead of sysname, but can be changed \n",
    "        data_dict[ec_number] = ec_data \n",
    "        if verbose: \n",
    "            print_percent_done(index=index, length=len(ids))\n",
    "    return data_dict"
   ]
  },
  {
   "cell_type": "code",
   "execution_count": 82,
   "metadata": {
    "colab": {},
    "colab_type": "code",
    "id": "7baXowF7Vitf"
   },
   "outputs": [],
   "source": [
    "def scrape_kegg():\n",
    "    print(f'Kegg scraping script started...')\n",
    "    # Reading past results from KEGG\n",
    "    previous_json = read_past_data()\n",
    "    print(f'1. Successfully read previous json data, that has total of {len(previous_json)} records')\n",
    "    prev_ids = {enzyme['KEGG_ID'] for enzyme in list(previous_json.values())}\n",
    "    \n",
    "    # Getting IDs of all entries that are missing from past\n",
    "#     new_ids = get_ids_for_keywords(keywords)\n",
    "    new_ids = set(brenda_blacklist) - set(benda_not_found)\n",
    "    \n",
    "    all_ids = new_ids - prev_ids    \n",
    "                \n",
    "    # If new ids have been found, fetch the data\n",
    "    if len(all_ids) > 0:\n",
    "        print(f'2. Following potential flavins are missing from past results:')\n",
    "        [print(f'{ec}', end=\" | \") for ec in all_ids]\n",
    "    \n",
    "        # Scraping the data\n",
    "        print(f'\\n3. Fetching the data')\n",
    "        flavins = get_all_data(all_ids, previous_json, verbose=True)\n",
    "        \n",
    "        # Writing out the results to the file\n",
    "        with open(export_file, 'w') as outfile:\n",
    "            json.dump(flavins, outfile)\n",
    "        print(f'\\nSuccessfully written out {len(all_ids)} results to \"{export_file}\"')\n",
    "    else:\n",
    "        print(\"[i] Doesn't look like there are any new flavins on KEGG!\")"
   ]
  },
  {
   "cell_type": "markdown",
   "metadata": {
    "colab_type": "text",
    "id": "E8CdyA0PVith"
   },
   "source": [
    "### Running the program"
   ]
  },
  {
   "cell_type": "code",
   "execution_count": null,
   "metadata": {
    "colab": {
     "base_uri": "https://localhost:8080/",
     "height": 879
    },
    "colab_type": "code",
    "executionInfo": {
     "elapsed": 13244,
     "status": "error",
     "timestamp": 1575238991737,
     "user": {
      "displayName": "Austin Topkis",
      "photoUrl": "",
      "userId": "11500520552127769483"
     },
     "user_tz": 360
    },
    "id": "0ZB_Z3EQViti",
    "outputId": "997ecedf-0708-40f5-faa2-0f5dc2206304"
   },
   "outputs": [],
   "source": [
    "scrape_kegg()"
   ]
  },
  {
   "cell_type": "code",
   "execution_count": 26,
   "metadata": {},
   "outputs": [
    {
     "data": {
      "text/plain": [
       "['3.4.22.61',\n",
       " '1.16.8.1',\n",
       " '1.6.5.11',\n",
       " '2.7.7.95',\n",
       " '1.6.8.2',\n",
       " '1.14.99.40',\n",
       " '1.14.99.7',\n",
       " '3.4.24.15',\n",
       " '1.6.8.1',\n",
       " '1.7.99.5',\n",
       " '1.13.11.32',\n",
       " '2.5.1.77',\n",
       " '3.4.24.59',\n",
       " '3.4.22.3',\n",
       " '1.5.1.29',\n",
       " '3.4.24.69',\n",
       " '3.4.21.109',\n",
       " '3.4.16.4',\n",
       " '3.4.21.1',\n",
       " '1.14.19.7',\n",
       " '1.1.99.15',\n",
       " '3.4.22.56']"
      ]
     },
     "execution_count": 26,
     "metadata": {},
     "output_type": "execute_result"
    }
   ],
   "source": [
    "# prints all the ECs of items without SYSNAME\n",
    "kegg = read_past_data()\n",
    "sysnames = [ec for (ec, details) in list(kegg.items()) if not details.get('SYSNAME')]\n",
    "sysnames"
   ]
  },
  {
   "cell_type": "markdown",
   "metadata": {},
   "source": [
    "### Seeing how many brenda flavins are in Kegg"
   ]
  },
  {
   "cell_type": "code",
   "execution_count": 27,
   "metadata": {},
   "outputs": [],
   "source": [
    "brenda = read_past_data('export/brenda.json')\n",
    "brenda_ecs = sorted(brenda.keys())\n",
    "# brenda_flavins = get_all_data(brenda_ecs, previous_json = {}, verbose=True)\n",
    "benda_not_found=[]\n",
    "for index,id in enumerate(brenda_ecs):\n",
    "        try:\n",
    "            ec_data = get_ec_data(id)\n",
    "        except:\n",
    "            benda_not_found.append(id)"
   ]
  },
  {
   "cell_type": "code",
   "execution_count": 29,
   "metadata": {},
   "outputs": [
    {
     "data": {
      "text/plain": [
       "781"
      ]
     },
     "execution_count": 29,
     "metadata": {},
     "output_type": "execute_result"
    }
   ],
   "source": [
    "len(benda_not_found)"
   ]
  },
  {
   "cell_type": "code",
   "execution_count": 93,
   "metadata": {},
   "outputs": [],
   "source": [
    "CPD = k.parse(k.get(\"cpd:C00156\"))"
   ]
  },
  {
   "cell_type": "code",
   "execution_count": 94,
   "metadata": {},
   "outputs": [
    {
     "data": {
      "text/plain": [
       "dict_keys(['ENTRY', 'NAME', 'FORMULA', 'EXACT_MASS', 'MOL_WEIGHT', 'REACTION', 'PATHWAY', 'MODULE', 'ENZYME', 'DBLINKS', 'ATOM', 'BOND'])"
      ]
     },
     "execution_count": 94,
     "metadata": {},
     "output_type": "execute_result"
    }
   ],
   "source": [
    "CPD.keys()"
   ]
  },
  {
   "cell_type": "code",
   "execution_count": 95,
   "metadata": {},
   "outputs": [
    {
     "data": {
      "text/plain": [
       "'C7H6O3'"
      ]
     },
     "execution_count": 95,
     "metadata": {},
     "output_type": "execute_result"
    }
   ],
   "source": [
    "CPD['FORMULA']"
   ]
  },
  {
   "cell_type": "code",
   "execution_count": 2,
   "metadata": {},
   "outputs": [],
   "source": [
    "import requests"
   ]
  },
  {
   "cell_type": "code",
   "execution_count": 105,
   "metadata": {},
   "outputs": [
    {
     "name": "stdout",
     "output_type": "stream",
     "text": [
      " \n",
      " \n",
      " \n",
      " 10 10  0  0  0  0  0  0  0  0999 V2000\n",
      "   25.6200  -14.7656    0.0000 C   0  0  0  0  0  0  0  0  0  0  0  0\n",
      "   25.6137  -13.3697    0.0000 C   0  0  0  0  0  0  0  0  0  0  0  0\n",
      "   24.4098  -15.4637    0.0000 C   0  0  0  0  0  0  0  0  0  0  0  0\n",
      "   26.8430  -15.4637    0.0000 C   0  0  0  0  0  0  0  0  0  0  0  0\n",
      "   24.4098  -12.6779    0.0000 O   0  0  0  0  0  0  0  0  0  0  0  0\n",
      "   26.8174  -12.6716    0.0000 O   0  0  0  0  0  0  0  0  0  0  0  0\n",
      "   24.4098  -16.8659    0.0000 C   0  0  0  0  0  0  0  0  0  0  0  0\n",
      "   26.8430  -16.8659    0.0000 C   0  0  0  0  0  0  0  0  0  0  0  0\n",
      "   25.6200  -17.5831    0.0000 C   0  0  0  0  0  0  0  0  0  0  0  0\n",
      "   25.6137  -18.9727    0.0000 O   0  0  0  0  0  0  0  0  0  0  0  0\n",
      "  1  2  1  0     0  0\n",
      "  1  3  1  0     0  0\n",
      "  1  4  2  0     0  0\n",
      "  2  5  1  0     0  0\n",
      "  2  6  2  0     0  0\n",
      "  3  7  2  0     0  0\n",
      "  4  8  1  0     0  0\n",
      "  7  9  1  0     0  0\n",
      "  9 10  1  0     0  0\n",
      "  8  9  2  0     0  0\n",
      "M  END\n",
      "\n"
     ]
    }
   ],
   "source": [
    "cpd = 'cpd:C00156'\n",
    "url = f'https://www.genome.jp/dbget-bin/www_bget?-f+m+compound+{cpd}'\n",
    "resp = requests.get(url)\n",
    "print(resp.text)"
   ]
  },
  {
   "cell_type": "code",
   "execution_count": 6,
   "metadata": {},
   "outputs": [
    {
     "name": "stdout",
     "output_type": "stream",
     "text": [
      "\n"
     ]
    }
   ],
   "source": [
    "\n",
    "    \n",
    "target_db = 'uniprot'\n",
    "source_db = 'compound'\n",
    "cpd = 'cpd:C00156'\n",
    "url = f'http://rest.kegg.jp/conv/{target_db}/{source_db}'\n",
    "resp = requests.get(url)\n",
    "print(resp.text)"
   ]
  },
  {
   "cell_type": "code",
   "execution_count": 25,
   "metadata": {},
   "outputs": [],
   "source": [
    "# perhaps we can use openbable or pybel?\n",
    "# https://pypi.org/project/openbabel/3.0.0/\n",
    "# to convert to smiles string?"
   ]
  },
  {
   "cell_type": "code",
   "execution_count": null,
   "metadata": {},
   "outputs": [],
   "source": []
  }
 ],
 "metadata": {
  "colab": {
   "name": "KEGG.ipynb",
   "provenance": []
  },
  "kernelspec": {
   "display_name": "ENV",
   "language": "python",
   "name": "env"
  },
  "language_info": {
   "codemirror_mode": {
    "name": "ipython",
    "version": 3
   },
   "file_extension": ".py",
   "mimetype": "text/x-python",
   "name": "python",
   "nbconvert_exporter": "python",
   "pygments_lexer": "ipython3",
   "version": "3.6.4"
  }
 },
 "nbformat": 4,
 "nbformat_minor": 4
}
