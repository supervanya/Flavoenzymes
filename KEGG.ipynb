{
 "cells": [
  {
   "cell_type": "code",
   "execution_count": 2,
   "metadata": {
    "colab": {},
    "colab_type": "code",
    "id": "JgRQ8-v3VitM"
   },
   "outputs": [],
   "source": [
    "import bioservices\n",
    "import json\n",
    "\n",
    "from cache import kegg_cached_reqest\n",
    "from helpers import print_percent_done"
   ]
  },
  {
   "cell_type": "code",
   "execution_count": 3,
   "metadata": {
    "colab": {
     "base_uri": "https://localhost:8080/",
     "height": 119
    },
    "colab_type": "code",
    "executionInfo": {
     "elapsed": 484,
     "status": "ok",
     "timestamp": 1575238962378,
     "user": {
      "displayName": "Austin Topkis",
      "photoUrl": "",
      "userId": "11500520552127769483"
     },
     "user_tz": 360
    },
    "id": "twQMgP-QVitR",
    "outputId": "4cb3a089-d9dd-4835-8e8f-02f42c18417e"
   },
   "outputs": [],
   "source": [
    "k = bioservices.kegg.KEGG()\n",
    "parser = bioservices.kegg.KEGGParser()"
   ]
  },
  {
   "cell_type": "markdown",
   "metadata": {
    "colab_type": "text",
    "id": "ZCat-sQIVitT"
   },
   "source": [
    "### Configurables\n",
    "Edit the folling options before running the scraper"
   ]
  },
  {
   "cell_type": "code",
   "execution_count": 4,
   "metadata": {
    "colab": {},
    "colab_type": "code",
    "id": "KgMXHXidVitU"
   },
   "outputs": [],
   "source": [
    "useCaching = True # setting this parameter to False will fetch new data from server, instead of using cache\n",
    "keywords = ['FAD', 'FMN', 'flavin', 'flavoenzyme']\n",
    "import_file = \"export/kegg.json\"\n",
    "export_file = \"export/kegg.json\""
   ]
  },
  {
   "cell_type": "markdown",
   "metadata": {
    "colab_type": "text",
    "id": "zzVd_dPfVitW"
   },
   "source": [
    "### Helper functions"
   ]
  },
  {
   "cell_type": "code",
   "execution_count": 5,
   "metadata": {
    "colab": {},
    "colab_type": "code",
    "id": "KYsekHFfVitX"
   },
   "outputs": [],
   "source": [
    "def read_past_data(path=import_file):\n",
    "    try:\n",
    "        with open(path) as json_file:\n",
    "            return json.load(json_file)\n",
    "    except:\n",
    "        return {}"
   ]
  },
  {
   "cell_type": "code",
   "execution_count": 6,
   "metadata": {
    "colab": {},
    "colab_type": "code",
    "id": "9Rvp_eBHVitZ"
   },
   "outputs": [],
   "source": [
    "def get_ids(keyword):\n",
    "    results = k.find(database='enzyme', query=keyword)\n",
    "    results_array = results.split('\\n')\n",
    "    ids_array = [i.split('\\t')[0] for i in results_array if (i)]\n",
    "    return set(ids_array)"
   ]
  },
  {
   "cell_type": "code",
   "execution_count": 7,
   "metadata": {},
   "outputs": [],
   "source": [
    "def get_ids_for_keywords(keywords):\n",
    "    all_ids_set = set()\n",
    "    for keyword in keywords:\n",
    "        kw_ids = get_ids(keyword);\n",
    "        all_ids_set = all_ids_set | kw_ids\n",
    "    return all_ids_set"
   ]
  },
  {
   "cell_type": "code",
   "execution_count": 25,
   "metadata": {
    "colab": {},
    "colab_type": "code",
    "id": "Ifor22oYVitb"
   },
   "outputs": [],
   "source": [
    "def get_ec_data(id):\n",
    "    resp = kegg_cached_reqest(request_name=f'kegg_ec_request', ec=id, request_fn=k.get, useCaching=useCaching)\n",
    "\n",
    "    ec_parse = parser.parse(resp)\n",
    "    return ec_parse"
   ]
  },
  {
   "cell_type": "code",
   "execution_count": 26,
   "metadata": {
    "colab": {},
    "colab_type": "code",
    "id": "boFR8ObGVitc"
   },
   "outputs": [],
   "source": [
    "def get_all_data(ids, previous_json, verbose=False):    \n",
    "    data_dict = previous_json\n",
    "    for index,id in enumerate(ids):\n",
    "        ec_data = get_ec_data(id)\n",
    "        name = ec_data.get('SYSNAME',id) # if sysname not found, will use ec_number\n",
    "        ec_number = id.replace('ec:','')\n",
    "        \n",
    "        ec_data['KEGG_ID'] = id\n",
    "        ec_data['EC_NUMBER'] = ec_number\n",
    "        # WARNING: keys are now EC numbers istead of sysname, but can be changed \n",
    "        data_dict[ec_number] = ec_data \n",
    "        if verbose: \n",
    "            print_percent_done(index=index, length=len(ids))\n",
    "    return data_dict"
   ]
  },
  {
   "cell_type": "code",
   "execution_count": 27,
   "metadata": {
    "colab": {},
    "colab_type": "code",
    "id": "7baXowF7Vitf"
   },
   "outputs": [],
   "source": [
    "def scrape_kegg():\n",
    "    print(f'Kegg scraping script started...')\n",
    "    # Reading past results from KEGG\n",
    "    previous_json = read_past_data()\n",
    "    print(f'1. Successfully read previous json data, that has total of {len(previous_json)} records')\n",
    "    prev_ids = {enzyme['KEGG_ID'] for enzyme in list(previous_json.values())}\n",
    "    \n",
    "    # Getting IDs of all entries that are missing from past\n",
    "    new_ids = get_ids_for_keywords(keywords)\n",
    "    \n",
    "    all_ids = new_ids - prev_ids    \n",
    "                \n",
    "    # If new ids have been found, fetch the data\n",
    "    if len(all_ids) > 0:\n",
    "        print(f'2. Following potential flavins are missing from past results:')\n",
    "        [print(f'{ec}', end=\" | \") for ec in all_ids]\n",
    "    \n",
    "        # Scraping the data\n",
    "        print(f'\\n3. Fetching the data')\n",
    "        flavins = get_all_data(all_ids, previous_json, verbose=True)\n",
    "        \n",
    "        # Writing out the results to the file\n",
    "        with open(export_file, 'w') as outfile:\n",
    "            json.dump(flavins, outfile)\n",
    "        print(f'\\nSuccessfully written out {len(all_ids)} results to \"{export_file}\"')\n",
    "    else:\n",
    "        print(\"[i] Doesn't look like there are any new flavins on KEGG!\")"
   ]
  },
  {
   "cell_type": "markdown",
   "metadata": {
    "colab_type": "text",
    "id": "E8CdyA0PVith"
   },
   "source": [
    "### Running the program"
   ]
  },
  {
   "cell_type": "code",
   "execution_count": 28,
   "metadata": {
    "colab": {
     "base_uri": "https://localhost:8080/",
     "height": 879
    },
    "colab_type": "code",
    "executionInfo": {
     "elapsed": 13244,
     "status": "error",
     "timestamp": 1575238991737,
     "user": {
      "displayName": "Austin Topkis",
      "photoUrl": "",
      "userId": "11500520552127769483"
     },
     "user_tz": 360
    },
    "id": "0ZB_Z3EQViti",
    "outputId": "997ecedf-0708-40f5-faa2-0f5dc2206304"
   },
   "outputs": [
    {
     "name": "stdout",
     "output_type": "stream",
     "text": [
      "Kegg scraping script started...\n",
      "1. Successfully read previous json data, that has total of 78 records\n",
      "[i] Doesn't look like there are any new flavins on KEGG!\n"
     ]
    }
   ],
   "source": [
    "scrape_kegg()"
   ]
  },
  {
   "cell_type": "code",
   "execution_count": 12,
   "metadata": {},
   "outputs": [
    {
     "data": {
      "text/plain": [
       "['3.4.22.61']"
      ]
     },
     "execution_count": 12,
     "metadata": {},
     "output_type": "execute_result"
    }
   ],
   "source": [
    "# prints all the ECs of items without SYSNAME\n",
    "kegg = read_past_data()\n",
    "sysnames = [ec for (ec, details) in list(kegg.items()) if not details.get('SYSNAME')]\n",
    "sysnames"
   ]
  },
  {
   "cell_type": "code",
   "execution_count": 24,
   "metadata": {},
   "outputs": [
    {
     "data": {
      "text/plain": [
       "['1.1.2.3',\n",
       " '1.1.5.3',\n",
       " '1.1.5.4',\n",
       " '1.1.5.9',\n",
       " '1.1.99.27',\n",
       " '1.12.98.1',\n",
       " '1.13.11.79',\n",
       " '1.13.12.17',\n",
       " '1.14.13.111',\n",
       " '1.14.13.113',\n",
       " '1.14.13.148',\n",
       " '1.14.13.32',\n",
       " '1.14.13.8',\n",
       " '1.14.14.20',\n",
       " '1.14.14.27',\n",
       " '1.14.14.3',\n",
       " '1.14.14.34',\n",
       " '1.14.14.5',\n",
       " '1.14.14.8',\n",
       " '1.14.14.9',\n",
       " '1.14.19.22',\n",
       " '1.14.19.23',\n",
       " '1.14.19.25',\n",
       " '1.14.19.3',\n",
       " '1.14.19.30',\n",
       " '1.14.19.31',\n",
       " '1.14.19.33',\n",
       " '1.14.19.34',\n",
       " '1.14.19.35',\n",
       " '1.14.19.42',\n",
       " '1.14.19.43',\n",
       " '1.14.19.44',\n",
       " '1.14.99.66',\n",
       " '1.2.99.7',\n",
       " '1.2.99.8',\n",
       " '1.3.8.2',\n",
       " '1.4.3.4',\n",
       " '1.5.1.20',\n",
       " '1.5.1.30',\n",
       " '1.5.1.36',\n",
       " '1.5.1.37',\n",
       " '1.5.1.38',\n",
       " '1.5.1.39',\n",
       " '1.5.1.40',\n",
       " '1.5.1.41',\n",
       " '1.5.1.42',\n",
       " '1.5.1.45',\n",
       " '1.6.2.4',\n",
       " '1.7.1.17',\n",
       " '2.1.1.148',\n",
       " '2.1.1.343',\n",
       " '2.1.1.349',\n",
       " '2.1.1.74',\n",
       " '2.5.1.129',\n",
       " '2.5.1.9',\n",
       " '2.6.1.114',\n",
       " '2.7.1.161',\n",
       " '2.7.1.180',\n",
       " '2.7.1.26',\n",
       " '2.7.1.42',\n",
       " '2.7.10.2',\n",
       " '2.7.7.2',\n",
       " '2.7.8.28',\n",
       " '3.1.3.102',\n",
       " '3.4.22.61',\n",
       " '3.5.99.1',\n",
       " '3.6.1.18',\n",
       " '4.3.1.32',\n",
       " '4.3.3.5',\n",
       " '4.6.1.15',\n",
       " '6.2.1.2',\n",
       " '6.2.1.41',\n",
       " '6.2.1.42',\n",
       " '6.2.1.49',\n",
       " '6.2.1.50',\n",
       " '6.2.1.51',\n",
       " '6.2.1.57',\n",
       " '6.2.1.59']"
      ]
     },
     "execution_count": 24,
     "metadata": {},
     "output_type": "execute_result"
    }
   ],
   "source": [
    "sorted(kegg.keys())"
   ]
  },
  {
   "cell_type": "code",
   "execution_count": null,
   "metadata": {},
   "outputs": [],
   "source": []
  }
 ],
 "metadata": {
  "colab": {
   "name": "KEGG.ipynb",
   "provenance": []
  },
  "kernelspec": {
   "display_name": "ENV",
   "language": "python",
   "name": "env"
  },
  "language_info": {
   "codemirror_mode": {
    "name": "ipython",
    "version": 3
   },
   "file_extension": ".py",
   "mimetype": "text/x-python",
   "name": "python",
   "nbconvert_exporter": "python",
   "pygments_lexer": "ipython3",
   "version": "3.6.4"
  }
 },
 "nbformat": 4,
 "nbformat_minor": 4
}
