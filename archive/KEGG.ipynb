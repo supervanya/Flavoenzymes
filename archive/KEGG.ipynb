{
 "cells": [
  {
   "cell_type": "code",
   "execution_count": 1,
   "metadata": {
    "colab": {},
    "colab_type": "code",
    "id": "JgRQ8-v3VitM"
   },
   "outputs": [],
   "source": [
    "import bioservices\n",
    "import json\n",
    "import re\n",
    "import importlib\n",
    "import pandas as pd\n",
    "from pathlib import Path"
   ]
  },
  {
   "cell_type": "code",
   "execution_count": 36,
   "metadata": {},
   "outputs": [
    {
     "data": {
      "text/plain": [
       "<module 'cache' from '/Users/oneoPk/code/flavo/flavoenzymes-repo/archive/cache.py'>"
      ]
     },
     "execution_count": 36,
     "metadata": {},
     "output_type": "execute_result"
    }
   ],
   "source": [
    "import cache\n",
    "from logger import log \n",
    "from logger import should_log \n",
    "# from helpers import log \n",
    "# from helpers import should_log\n",
    "# from helpers import print_percent_done\n",
    "# importlib.reload(cache)\n",
    "# importlib.reload(should_log)"
   ]
  },
  {
   "cell_type": "code",
   "execution_count": 17,
   "metadata": {
    "colab": {
     "base_uri": "https://localhost:8080/",
     "height": 119
    },
    "colab_type": "code",
    "executionInfo": {
     "elapsed": 484,
     "status": "ok",
     "timestamp": 1575238962378,
     "user": {
      "displayName": "Austin Topkis",
      "photoUrl": "",
      "userId": "11500520552127769483"
     },
     "user_tz": 360
    },
    "id": "twQMgP-QVitR",
    "outputId": "4cb3a089-d9dd-4835-8e8f-02f42c18417e"
   },
   "outputs": [],
   "source": [
    "k = bioservices.kegg.KEGG()\n",
    "parser = bioservices.kegg.KEGGParser()"
   ]
  },
  {
   "cell_type": "markdown",
   "metadata": {},
   "source": [
    "# This file is WIP still:\n",
    "### TODO:\n",
    "- Convert the enzymes to a SMILES strings\n",
    "- Allow to fetch data from Kegg for ECs that are in Brenda (or other databases)\n",
    "    - perhaps first, a master list of all FlavoEnzymes can be made, then itterated over\n",
    "        \n",
    "\n",
    "### QUESTIONS:\n",
    "- SMILES string\n",
    "    - https://www.genome.jp/tools/simcomp/"
   ]
  },
  {
   "cell_type": "markdown",
   "metadata": {
    "colab_type": "text",
    "id": "ZCat-sQIVitT"
   },
   "source": [
    "### Configurables\n",
    "Edit the folling options before running the scraper"
   ]
  },
  {
   "cell_type": "code",
   "execution_count": 2,
   "metadata": {
    "colab": {},
    "colab_type": "code",
    "id": "KgMXHXidVitU"
   },
   "outputs": [],
   "source": [
    "useCaching = True # setting this parameter to False will fetch new data from server, instead of using cache\n",
    "\n",
    "keywords = ['FAD', 'FMN', 'flavin', 'flavoenzyme', 'flavo']\n",
    "import_file = \"export/kegg.json\"\n",
    "export_file = \"export/kegg.json\"\n",
    "poster_child = '1.14.13.2'\n",
    "\n",
    "whitelist_path = Path('modules/scrapers/whitelist.csv')\n",
    "blacklist_path = Path('modules/scrapers/blacklist.csv')"
   ]
  },
  {
   "cell_type": "markdown",
   "metadata": {
    "colab_type": "text",
    "id": "zzVd_dPfVitW"
   },
   "source": [
    "### Helper functions"
   ]
  },
  {
   "cell_type": "code",
   "execution_count": 3,
   "metadata": {
    "colab": {},
    "colab_type": "code",
    "id": "KYsekHFfVitX"
   },
   "outputs": [],
   "source": [
    "def read_past_data(path=import_file):\n",
    "    try:\n",
    "        with open(path) as json_file:\n",
    "            return json.load(json_file)\n",
    "    except:\n",
    "        return {}"
   ]
  },
  {
   "cell_type": "code",
   "execution_count": 4,
   "metadata": {
    "colab": {},
    "colab_type": "code",
    "id": "9Rvp_eBHVitZ"
   },
   "outputs": [],
   "source": [
    "def get_ids(keyword):\n",
    "    results = k.find(database='enzyme', query=keyword)\n",
    "    results_array = results.split('\\n')\n",
    "    ids_array = [i.split('\\t')[0] for i in results_array if (i)]\n",
    "    return set(ids_array)"
   ]
  },
  {
   "cell_type": "code",
   "execution_count": 5,
   "metadata": {},
   "outputs": [],
   "source": [
    "def get_ids_for_keywords(keywords):\n",
    "    all_ids_set = set()\n",
    "    for keyword in keywords:\n",
    "        kw_ids = get_ids(keyword);\n",
    "        all_ids_set = all_ids_set | kw_ids\n",
    "    return all_ids_set"
   ]
  },
  {
   "cell_type": "code",
   "execution_count": 6,
   "metadata": {
    "colab": {},
    "colab_type": "code",
    "id": "Ifor22oYVitb"
   },
   "outputs": [],
   "source": [
    "def kegg_request(id):\n",
    "    resp = cache.kegg_cached_reqest(request_name=f'kegg_ec_request', ec=id, request_fn=k.get, useCaching=useCaching)\n",
    "    ec_parse = parser.parse(resp)\n",
    "    if 'SUBSTRATE' in ec_parse.keys():\n",
    "        ec_parse['SUBSTRATE'] = get_compounds_with_smiles(ec_parse['SUBSTRATE'])\n",
    "        ec_parse['PRODUCT'] = get_compounds_with_smiles(ec_parse['PRODUCT'])\n",
    "    return ec_parse"
   ]
  },
  {
   "cell_type": "code",
   "execution_count": 7,
   "metadata": {},
   "outputs": [],
   "source": [
    "def get_compounds_with_smiles(list_of_compounds):\n",
    "    new_compounds = {}\n",
    "    pattern = '(.+) \\[CPD:(.+)\\]'\n",
    "\n",
    "    for compound in list_of_compounds:\n",
    "        compound = compound.replace(';','') # this will be the full name\n",
    "        name = compound # this will be the short name\n",
    "        smiles_str = None\n",
    "        cpd_number = None\n",
    "        \n",
    "        if 'CPD' in compound:\n",
    "            # this breaks the strings like \"4-hydroxybenzoate [CPD:C00156];\" \n",
    "            # into an array of tuples like this: [('4-hydroxybenzoate', 'C00156')]\n",
    "            match = re.findall(pattern, name)[0]\n",
    "            \n",
    "            # constructing the cpd number, it must be like \"cpd:C00156\"\n",
    "            name = match[0]\n",
    "            cpd_number = 'cpd:' + match[1]\n",
    "            try:\n",
    "                smiles_str = cache.get_smile_string(cpd_number)\n",
    "                log(f\"compound:{name}, cpd_number:{cpd_number},name:{name},smiles: {smiles_str}\\n\\n\", 'debug')\n",
    "                if not smiles_str:\n",
    "                    raise Exception(f'Compound: {cpd_number} does not have a SMILES string.')\n",
    "            except Exception as e:\n",
    "                log(f\"{e}\", 'debug')\n",
    "                continue\n",
    "        else:\n",
    "            name = compound\n",
    "            log(f'⚠️ Compound \"{compound}\" is missing a CPD number', 'debug')\n",
    "            \n",
    "        new_compounds[name] = {\n",
    "                'name': name,\n",
    "                'smiles': smiles_str,\n",
    "                'kegg_name': compound,\n",
    "                'kegg_id': cpd_number\n",
    "            }\n",
    "    return new_compounds"
   ]
  },
  {
   "cell_type": "code",
   "execution_count": 29,
   "metadata": {
    "colab": {},
    "colab_type": "code",
    "id": "boFR8ObGVitc"
   },
   "outputs": [],
   "source": [
    "def get_all_data(ids, previous_json, verbose=False):    \n",
    "    data_dict = previous_json\n",
    "    \n",
    "    log(f'Getting data for following IDs - {ids}', 'debug')\n",
    "    for index,id in enumerate(ids):\n",
    "        ec_data = kegg_request(id)\n",
    "        name = ec_data.get('SYSNAME', id) # if sysname not found, will use ec_number\n",
    "        ec_number = id.replace('ec:','')\n",
    "        \n",
    "        ec_data['KEGG_ID'] = id\n",
    "        ec_data['EC_NUMBER'] = ec_number\n",
    "        data_dict[ec_number] = ec_data\n",
    "        \n",
    "        log(f'Getting following data - {data_dict[ec_number]}', 'silly')\n",
    "            \n",
    "    return data_dict"
   ]
  },
  {
   "cell_type": "code",
   "execution_count": 9,
   "metadata": {},
   "outputs": [
    {
     "ename": "FileNotFoundError",
     "evalue": "[Errno 2] File modules/scrapers/whitelist.csv does not exist: 'modules/scrapers/whitelist.csv'",
     "output_type": "error",
     "traceback": [
      "\u001b[0;31m---------------------------------------------------------------------------\u001b[0m",
      "\u001b[0;31mFileNotFoundError\u001b[0m                         Traceback (most recent call last)",
      "\u001b[0;32m<ipython-input-9-2e74bfd1428a>\u001b[0m in \u001b[0;36m<module>\u001b[0;34m\u001b[0m\n\u001b[0;32m----> 1\u001b[0;31m \u001b[0mwhite_list_ids\u001b[0m \u001b[0;34m=\u001b[0m \u001b[0mset\u001b[0m\u001b[0;34m(\u001b[0m\u001b[0mpd\u001b[0m\u001b[0;34m.\u001b[0m\u001b[0mread_csv\u001b[0m\u001b[0;34m(\u001b[0m\u001b[0mwhitelist_path\u001b[0m\u001b[0;34m)\u001b[0m\u001b[0;34m[\u001b[0m\u001b[0;34m'ec'\u001b[0m\u001b[0;34m]\u001b[0m\u001b[0;34m)\u001b[0m\u001b[0;34m\u001b[0m\u001b[0;34m\u001b[0m\u001b[0m\n\u001b[0m\u001b[1;32m      2\u001b[0m \u001b[0mwhite_list_ids\u001b[0m\u001b[0;34m\u001b[0m\u001b[0;34m\u001b[0m\u001b[0m\n",
      "\u001b[0;32m~/code/flavo/flavoenzymes-repo/flav_env/lib/python3.6/site-packages/pandas/io/parsers.py\u001b[0m in \u001b[0;36mparser_f\u001b[0;34m(filepath_or_buffer, sep, delimiter, header, names, index_col, usecols, squeeze, prefix, mangle_dupe_cols, dtype, engine, converters, true_values, false_values, skipinitialspace, skiprows, skipfooter, nrows, na_values, keep_default_na, na_filter, verbose, skip_blank_lines, parse_dates, infer_datetime_format, keep_date_col, date_parser, dayfirst, cache_dates, iterator, chunksize, compression, thousands, decimal, lineterminator, quotechar, quoting, doublequote, escapechar, comment, encoding, dialect, error_bad_lines, warn_bad_lines, delim_whitespace, low_memory, memory_map, float_precision)\u001b[0m\n\u001b[1;32m    674\u001b[0m         )\n\u001b[1;32m    675\u001b[0m \u001b[0;34m\u001b[0m\u001b[0m\n\u001b[0;32m--> 676\u001b[0;31m         \u001b[0;32mreturn\u001b[0m \u001b[0m_read\u001b[0m\u001b[0;34m(\u001b[0m\u001b[0mfilepath_or_buffer\u001b[0m\u001b[0;34m,\u001b[0m \u001b[0mkwds\u001b[0m\u001b[0;34m)\u001b[0m\u001b[0;34m\u001b[0m\u001b[0;34m\u001b[0m\u001b[0m\n\u001b[0m\u001b[1;32m    677\u001b[0m \u001b[0;34m\u001b[0m\u001b[0m\n\u001b[1;32m    678\u001b[0m     \u001b[0mparser_f\u001b[0m\u001b[0;34m.\u001b[0m\u001b[0m__name__\u001b[0m \u001b[0;34m=\u001b[0m \u001b[0mname\u001b[0m\u001b[0;34m\u001b[0m\u001b[0;34m\u001b[0m\u001b[0m\n",
      "\u001b[0;32m~/code/flavo/flavoenzymes-repo/flav_env/lib/python3.6/site-packages/pandas/io/parsers.py\u001b[0m in \u001b[0;36m_read\u001b[0;34m(filepath_or_buffer, kwds)\u001b[0m\n\u001b[1;32m    446\u001b[0m \u001b[0;34m\u001b[0m\u001b[0m\n\u001b[1;32m    447\u001b[0m     \u001b[0;31m# Create the parser.\u001b[0m\u001b[0;34m\u001b[0m\u001b[0;34m\u001b[0m\u001b[0;34m\u001b[0m\u001b[0m\n\u001b[0;32m--> 448\u001b[0;31m     \u001b[0mparser\u001b[0m \u001b[0;34m=\u001b[0m \u001b[0mTextFileReader\u001b[0m\u001b[0;34m(\u001b[0m\u001b[0mfp_or_buf\u001b[0m\u001b[0;34m,\u001b[0m \u001b[0;34m**\u001b[0m\u001b[0mkwds\u001b[0m\u001b[0;34m)\u001b[0m\u001b[0;34m\u001b[0m\u001b[0;34m\u001b[0m\u001b[0m\n\u001b[0m\u001b[1;32m    449\u001b[0m \u001b[0;34m\u001b[0m\u001b[0m\n\u001b[1;32m    450\u001b[0m     \u001b[0;32mif\u001b[0m \u001b[0mchunksize\u001b[0m \u001b[0;32mor\u001b[0m \u001b[0miterator\u001b[0m\u001b[0;34m:\u001b[0m\u001b[0;34m\u001b[0m\u001b[0;34m\u001b[0m\u001b[0m\n",
      "\u001b[0;32m~/code/flavo/flavoenzymes-repo/flav_env/lib/python3.6/site-packages/pandas/io/parsers.py\u001b[0m in \u001b[0;36m__init__\u001b[0;34m(self, f, engine, **kwds)\u001b[0m\n\u001b[1;32m    878\u001b[0m             \u001b[0mself\u001b[0m\u001b[0;34m.\u001b[0m\u001b[0moptions\u001b[0m\u001b[0;34m[\u001b[0m\u001b[0;34m\"has_index_names\"\u001b[0m\u001b[0;34m]\u001b[0m \u001b[0;34m=\u001b[0m \u001b[0mkwds\u001b[0m\u001b[0;34m[\u001b[0m\u001b[0;34m\"has_index_names\"\u001b[0m\u001b[0;34m]\u001b[0m\u001b[0;34m\u001b[0m\u001b[0;34m\u001b[0m\u001b[0m\n\u001b[1;32m    879\u001b[0m \u001b[0;34m\u001b[0m\u001b[0m\n\u001b[0;32m--> 880\u001b[0;31m         \u001b[0mself\u001b[0m\u001b[0;34m.\u001b[0m\u001b[0m_make_engine\u001b[0m\u001b[0;34m(\u001b[0m\u001b[0mself\u001b[0m\u001b[0;34m.\u001b[0m\u001b[0mengine\u001b[0m\u001b[0;34m)\u001b[0m\u001b[0;34m\u001b[0m\u001b[0;34m\u001b[0m\u001b[0m\n\u001b[0m\u001b[1;32m    881\u001b[0m \u001b[0;34m\u001b[0m\u001b[0m\n\u001b[1;32m    882\u001b[0m     \u001b[0;32mdef\u001b[0m \u001b[0mclose\u001b[0m\u001b[0;34m(\u001b[0m\u001b[0mself\u001b[0m\u001b[0;34m)\u001b[0m\u001b[0;34m:\u001b[0m\u001b[0;34m\u001b[0m\u001b[0;34m\u001b[0m\u001b[0m\n",
      "\u001b[0;32m~/code/flavo/flavoenzymes-repo/flav_env/lib/python3.6/site-packages/pandas/io/parsers.py\u001b[0m in \u001b[0;36m_make_engine\u001b[0;34m(self, engine)\u001b[0m\n\u001b[1;32m   1112\u001b[0m     \u001b[0;32mdef\u001b[0m \u001b[0m_make_engine\u001b[0m\u001b[0;34m(\u001b[0m\u001b[0mself\u001b[0m\u001b[0;34m,\u001b[0m \u001b[0mengine\u001b[0m\u001b[0;34m=\u001b[0m\u001b[0;34m\"c\"\u001b[0m\u001b[0;34m)\u001b[0m\u001b[0;34m:\u001b[0m\u001b[0;34m\u001b[0m\u001b[0;34m\u001b[0m\u001b[0m\n\u001b[1;32m   1113\u001b[0m         \u001b[0;32mif\u001b[0m \u001b[0mengine\u001b[0m \u001b[0;34m==\u001b[0m \u001b[0;34m\"c\"\u001b[0m\u001b[0;34m:\u001b[0m\u001b[0;34m\u001b[0m\u001b[0;34m\u001b[0m\u001b[0m\n\u001b[0;32m-> 1114\u001b[0;31m             \u001b[0mself\u001b[0m\u001b[0;34m.\u001b[0m\u001b[0m_engine\u001b[0m \u001b[0;34m=\u001b[0m \u001b[0mCParserWrapper\u001b[0m\u001b[0;34m(\u001b[0m\u001b[0mself\u001b[0m\u001b[0;34m.\u001b[0m\u001b[0mf\u001b[0m\u001b[0;34m,\u001b[0m \u001b[0;34m**\u001b[0m\u001b[0mself\u001b[0m\u001b[0;34m.\u001b[0m\u001b[0moptions\u001b[0m\u001b[0;34m)\u001b[0m\u001b[0;34m\u001b[0m\u001b[0;34m\u001b[0m\u001b[0m\n\u001b[0m\u001b[1;32m   1115\u001b[0m         \u001b[0;32melse\u001b[0m\u001b[0;34m:\u001b[0m\u001b[0;34m\u001b[0m\u001b[0;34m\u001b[0m\u001b[0m\n\u001b[1;32m   1116\u001b[0m             \u001b[0;32mif\u001b[0m \u001b[0mengine\u001b[0m \u001b[0;34m==\u001b[0m \u001b[0;34m\"python\"\u001b[0m\u001b[0;34m:\u001b[0m\u001b[0;34m\u001b[0m\u001b[0;34m\u001b[0m\u001b[0m\n",
      "\u001b[0;32m~/code/flavo/flavoenzymes-repo/flav_env/lib/python3.6/site-packages/pandas/io/parsers.py\u001b[0m in \u001b[0;36m__init__\u001b[0;34m(self, src, **kwds)\u001b[0m\n\u001b[1;32m   1889\u001b[0m         \u001b[0mkwds\u001b[0m\u001b[0;34m[\u001b[0m\u001b[0;34m\"usecols\"\u001b[0m\u001b[0;34m]\u001b[0m \u001b[0;34m=\u001b[0m \u001b[0mself\u001b[0m\u001b[0;34m.\u001b[0m\u001b[0musecols\u001b[0m\u001b[0;34m\u001b[0m\u001b[0;34m\u001b[0m\u001b[0m\n\u001b[1;32m   1890\u001b[0m \u001b[0;34m\u001b[0m\u001b[0m\n\u001b[0;32m-> 1891\u001b[0;31m         \u001b[0mself\u001b[0m\u001b[0;34m.\u001b[0m\u001b[0m_reader\u001b[0m \u001b[0;34m=\u001b[0m \u001b[0mparsers\u001b[0m\u001b[0;34m.\u001b[0m\u001b[0mTextReader\u001b[0m\u001b[0;34m(\u001b[0m\u001b[0msrc\u001b[0m\u001b[0;34m,\u001b[0m \u001b[0;34m**\u001b[0m\u001b[0mkwds\u001b[0m\u001b[0;34m)\u001b[0m\u001b[0;34m\u001b[0m\u001b[0;34m\u001b[0m\u001b[0m\n\u001b[0m\u001b[1;32m   1892\u001b[0m         \u001b[0mself\u001b[0m\u001b[0;34m.\u001b[0m\u001b[0munnamed_cols\u001b[0m \u001b[0;34m=\u001b[0m \u001b[0mself\u001b[0m\u001b[0;34m.\u001b[0m\u001b[0m_reader\u001b[0m\u001b[0;34m.\u001b[0m\u001b[0munnamed_cols\u001b[0m\u001b[0;34m\u001b[0m\u001b[0;34m\u001b[0m\u001b[0m\n\u001b[1;32m   1893\u001b[0m \u001b[0;34m\u001b[0m\u001b[0m\n",
      "\u001b[0;32mpandas/_libs/parsers.pyx\u001b[0m in \u001b[0;36mpandas._libs.parsers.TextReader.__cinit__\u001b[0;34m()\u001b[0m\n",
      "\u001b[0;32mpandas/_libs/parsers.pyx\u001b[0m in \u001b[0;36mpandas._libs.parsers.TextReader._setup_parser_source\u001b[0;34m()\u001b[0m\n",
      "\u001b[0;31mFileNotFoundError\u001b[0m: [Errno 2] File modules/scrapers/whitelist.csv does not exist: 'modules/scrapers/whitelist.csv'"
     ]
    }
   ],
   "source": [
    "white_list_ids = set(pd.read_csv(whitelist_path)['ec'])\n",
    "white_list_ids"
   ]
  },
  {
   "cell_type": "code",
   "execution_count": null,
   "metadata": {
    "colab": {},
    "colab_type": "code",
    "id": "7baXowF7Vitf"
   },
   "outputs": [],
   "source": [
    "def scrape_kegg():\n",
    "    # this needs to be read from the outside dir\n",
    "    # TODO: add all brenda wierdo ecs into the blacklist\n",
    "    white_list_ids = set(pd.read_csv(whitelist_path)['ec'])\n",
    "    black_list_ids = set(pd.read_csv(blacklist_path)['ec'])\n",
    "\n",
    "    log(f'Kegg scraping script started...','info')\n",
    "    # Reading past results from KEGG\n",
    "    previous_json = read_past_data()\n",
    "    log(f'1. Successfully read previous json data, that has total of {len(previous_json)} records', 'success')\n",
    "    prev_ids = {enzyme['KEGG_ID'] for enzyme in list(previous_json.values())}\n",
    "    \n",
    "    # Getting IDs of all entries that are missing from past\n",
    "    new_ids = get_ids_for_keywords(keywords)\n",
    "    # new_ids = set(brenda_blacklist) - set(benda_not_found)\n",
    "    \n",
    "    # TODO: make sure this line of code is not crazy! \n",
    "    # note: the parentecies are crucial here for order of operations\n",
    "    all_ids = (white_list_ids|new_ids)-(prev_ids|black_list_ids)\n",
    "                \n",
    "    # If new ids have been found, fetch the data\n",
    "    if len(all_ids) > 0:\n",
    "        log(f'2. Following potential flavins are missing from past results:','info')\n",
    "        if should_log('info'):\n",
    "            [print(f'- {ec}') for ec in all_ids]\n",
    "    \n",
    "        # Scraping the data\n",
    "        log(f'\\n3. Fetching the data','info')\n",
    "        flavins = get_all_data(all_ids, previous_json, verbose=True)\n",
    "        \n",
    "        # Writing out the results to the file\n",
    "        with open(export_file, 'w') as outfile:\n",
    "            json.dump(flavins, outfile)\n",
    "        log(f'\\nSuccessfully written out {len(all_ids)} results to \"{export_file}\"','success')\n",
    "    else:\n",
    "        log(\"Doesn't look like there are any new flavins on KEGG!\",'info')"
   ]
  },
  {
   "cell_type": "markdown",
   "metadata": {
    "colab_type": "text",
    "id": "E8CdyA0PVith"
   },
   "source": [
    "### Running the program"
   ]
  },
  {
   "cell_type": "code",
   "execution_count": null,
   "metadata": {
    "colab": {
     "base_uri": "https://localhost:8080/",
     "height": 879
    },
    "colab_type": "code",
    "executionInfo": {
     "elapsed": 13244,
     "status": "error",
     "timestamp": 1575238991737,
     "user": {
      "displayName": "Austin Topkis",
      "photoUrl": "",
      "userId": "11500520552127769483"
     },
     "user_tz": 360
    },
    "id": "0ZB_Z3EQViti",
    "outputId": "997ecedf-0708-40f5-faa2-0f5dc2206304"
   },
   "outputs": [],
   "source": [
    "scrape_kegg()"
   ]
  },
  {
   "cell_type": "markdown",
   "metadata": {},
   "source": [
    "---------------\n",
    "## The rest is a playground"
   ]
  },
  {
   "cell_type": "code",
   "execution_count": 16,
   "metadata": {},
   "outputs": [],
   "source": [
    "x = kegg_request(poster_child)"
   ]
  },
  {
   "cell_type": "code",
   "execution_count": 20,
   "metadata": {},
   "outputs": [
    {
     "data": {
      "text/plain": [
       "dict_keys(['ENTRY', 'NAME', 'CLASS', 'SYSNAME', 'REACTION', 'SUBSTRATE', 'PRODUCT', 'COMMENT', 'HISTORY', 'REFERENCE', 'ORTHOLOGY', 'GENES', 'DBLINKS'])"
      ]
     },
     "execution_count": 20,
     "metadata": {},
     "output_type": "execute_result"
    }
   ],
   "source": [
    "x.keys()"
   ]
  },
  {
   "cell_type": "code",
   "execution_count": 22,
   "metadata": {},
   "outputs": [
    {
     "data": {
      "text/plain": [
       "{'1-acyl-2-[(3E)-hexadec-3-enoyl]-[glycerolipid]': {'name': '1-acyl-2-[(3E)-hexadec-3-enoyl]-[glycerolipid]',\n",
       "  'smiles': None,\n",
       "  'kegg_name': '1-acyl-2-[(3E)-hexadec-3-enoyl]-[glycerolipid]',\n",
       "  'kegg_id': None},\n",
       " 'H2O': {'name': 'H2O',\n",
       "  'smiles': '[H]O[H]',\n",
       "  'kegg_name': 'H2O [CPD:C00001]',\n",
       "  'kegg_id': 'cpd:C00001'}}"
      ]
     },
     "execution_count": 22,
     "metadata": {},
     "output_type": "execute_result"
    }
   ],
   "source": [
    "x['PRODUCT']"
   ]
  },
  {
   "cell_type": "code",
   "execution_count": null,
   "metadata": {},
   "outputs": [],
   "source": [
    "# prints all the ECs of items without SYSNAME\n",
    "kegg = read_past_data()\n",
    "sysnames = [ec for (ec, details) in list(kegg.items()) if not details.get('SYSNAME')]\n",
    "sysnames"
   ]
  },
  {
   "cell_type": "markdown",
   "metadata": {},
   "source": [
    "### Seeing how many brenda flavins are in Kegg"
   ]
  },
  {
   "cell_type": "code",
   "execution_count": null,
   "metadata": {},
   "outputs": [],
   "source": [
    "brenda = read_past_data('export/brenda.json')\n",
    "brenda_ecs = sorted(brenda.keys())\n",
    "# brenda_flavins = get_all_data(brenda_ecs, previous_json = {}, verbose=True)\n",
    "benda_not_found=[]\n",
    "for index,id in enumerate(brenda_ecs):\n",
    "        try:\n",
    "            ec_data = kegg_request(id)\n",
    "        except:\n",
    "            benda_not_found.append(id)"
   ]
  },
  {
   "cell_type": "code",
   "execution_count": null,
   "metadata": {},
   "outputs": [],
   "source": [
    "len(benda_not_found)"
   ]
  },
  {
   "cell_type": "code",
   "execution_count": null,
   "metadata": {},
   "outputs": [],
   "source": [
    "CPD = k.parse(k.get(\"cpd:C00156\"))"
   ]
  },
  {
   "cell_type": "code",
   "execution_count": null,
   "metadata": {},
   "outputs": [],
   "source": [
    "CPD.keys()"
   ]
  },
  {
   "cell_type": "code",
   "execution_count": null,
   "metadata": {},
   "outputs": [],
   "source": [
    "CPD['FORMULA']"
   ]
  },
  {
   "cell_type": "code",
   "execution_count": null,
   "metadata": {},
   "outputs": [],
   "source": [
    "import requests"
   ]
  },
  {
   "cell_type": "code",
   "execution_count": null,
   "metadata": {},
   "outputs": [],
   "source": [
    "\n",
    "    \n",
    "target_db = 'uniprot'\n",
    "source_db = 'compound'\n",
    "cpd = 'cpd:C00156'\n",
    "url = f'http://rest.kegg.jp/conv/{target_db}/{source_db}'\n",
    "resp = requests.get(url)\n",
    "print(resp.text)"
   ]
  },
  {
   "cell_type": "code",
   "execution_count": null,
   "metadata": {},
   "outputs": [],
   "source": [
    "# perhaps we can use openbable or pybel?\n",
    "# https://pypi.org/project/openbabel/3.0.0/\n",
    "# to convert to smiles string?"
   ]
  },
  {
   "cell_type": "markdown",
   "metadata": {},
   "source": [
    "### Converting Kegg entry to SMILES"
   ]
  },
  {
   "cell_type": "code",
   "execution_count": null,
   "metadata": {},
   "outputs": [],
   "source": [
    "cpd = 'cpd:C00156'\n",
    "url = f'https://www.genome.jp/dbget-bin/www_bget?-f+m+compound+{cpd}'\n",
    "resp = requests.get(url)\n",
    "print(resp.text)"
   ]
  },
  {
   "cell_type": "code",
   "execution_count": null,
   "metadata": {},
   "outputs": [],
   "source": [
    "# chebi_con = bioservices.ChEBI()\n",
    "\n",
    "kegg_entry = parser.parse(k.get('cpd:C00156'))\n",
    "ChEBI_links = kegg_entry['DBLINKS']['ChEBI'].split(' ')\n",
    "ChEMBL_links = kegg_entry['DBLINKS'].get('ChEMBL', None)\n",
    "print(ChEBI_links)\n",
    "\n",
    "# chebi_entry = chebi_con.getCompleteEntity('CHEBI:' + kegg_entry['DBLINKS']['ChEBI'])\n",
    "\n",
    "# print (chebi_entry.smiles)\n",
    "# print (chebi_entry.inchi)\n",
    "# print (chebi_entry.inchiKey)\n",
    "\n",
    "\n",
    "# >>> from bioservices import *\n",
    "# >>> ch = ChEBI()\n",
    "# >>> res = ch.getCompleteEntity(\"CHEBI:27732\")\n",
    "# >>> res.smiles\n",
    "# CN1C(=O)N(C)c2ncn(C)c2C1=O\n"
   ]
  },
  {
   "cell_type": "code",
   "execution_count": null,
   "metadata": {},
   "outputs": [],
   "source": [
    "map_kegg_chebi['cpd:C00156']"
   ]
  },
  {
   "cell_type": "code",
   "execution_count": null,
   "metadata": {},
   "outputs": [],
   "source": [
    "ChEMBL_links"
   ]
  },
  {
   "cell_type": "code",
   "execution_count": null,
   "metadata": {},
   "outputs": [],
   "source": [
    "kegg_entry"
   ]
  },
  {
   "cell_type": "code",
   "execution_count": null,
   "metadata": {},
   "outputs": [],
   "source": [
    "PC_data = kegg_request(poster_child)"
   ]
  },
  {
   "cell_type": "code",
   "execution_count": null,
   "metadata": {},
   "outputs": [],
   "source": [
    "PC_data"
   ]
  },
  {
   "cell_type": "code",
   "execution_count": null,
   "metadata": {},
   "outputs": [],
   "source": [
    "PC_data.keys()"
   ]
  },
  {
   "cell_type": "code",
   "execution_count": null,
   "metadata": {},
   "outputs": [],
   "source": [
    "PC_data['PRODUCT'].keys()"
   ]
  },
  {
   "cell_type": "code",
   "execution_count": null,
   "metadata": {},
   "outputs": [],
   "source": [
    "data = kegg_request(poster_child)\n",
    "substrates = data['SUBSTRATE']\n",
    "products = data['PRODUCT']\n",
    "\n",
    "get_updated_compounds(substrates)\n",
    "# get_updated_compounds(products)"
   ]
  },
  {
   "cell_type": "code",
   "execution_count": 45,
   "metadata": {},
   "outputs": [
    {
     "ename": "AttributeError",
     "evalue": "'NoneType' object has no attribute 'split'",
     "output_type": "error",
     "traceback": [
      "\u001b[0;31m---------------------------------------------------------------------------\u001b[0m",
      "\u001b[0;31mAttributeError\u001b[0m                            Traceback (most recent call last)",
      "\u001b[0;32m<ipython-input-45-6813f07882ff>\u001b[0m in \u001b[0;36m<module>\u001b[0;34m\u001b[0m\n\u001b[0;32m----> 1\u001b[0;31m \u001b[0mget_all_data\u001b[0m\u001b[0;34m(\u001b[0m\u001b[0;34m[\u001b[0m\u001b[0;34m'ec:4.2.1.48'\u001b[0m\u001b[0;34m]\u001b[0m\u001b[0;34m,\u001b[0m \u001b[0;34m{\u001b[0m\u001b[0;34m}\u001b[0m\u001b[0;34m,\u001b[0m \u001b[0mverbose\u001b[0m\u001b[0;34m=\u001b[0m\u001b[0;32mTrue\u001b[0m\u001b[0;34m)\u001b[0m\u001b[0;34m\u001b[0m\u001b[0;34m\u001b[0m\u001b[0m\n\u001b[0m",
      "\u001b[0;32m<ipython-input-29-8409aa8ff91f>\u001b[0m in \u001b[0;36mget_all_data\u001b[0;34m(ids, previous_json, verbose)\u001b[0m\n\u001b[1;32m      4\u001b[0m     \u001b[0mlog\u001b[0m\u001b[0;34m(\u001b[0m\u001b[0;34mf'Getting data for following IDs - {ids}'\u001b[0m\u001b[0;34m,\u001b[0m \u001b[0;34m'debug'\u001b[0m\u001b[0;34m)\u001b[0m\u001b[0;34m\u001b[0m\u001b[0;34m\u001b[0m\u001b[0m\n\u001b[1;32m      5\u001b[0m     \u001b[0;32mfor\u001b[0m \u001b[0mindex\u001b[0m\u001b[0;34m,\u001b[0m\u001b[0mid\u001b[0m \u001b[0;32min\u001b[0m \u001b[0menumerate\u001b[0m\u001b[0;34m(\u001b[0m\u001b[0mids\u001b[0m\u001b[0;34m)\u001b[0m\u001b[0;34m:\u001b[0m\u001b[0;34m\u001b[0m\u001b[0;34m\u001b[0m\u001b[0m\n\u001b[0;32m----> 6\u001b[0;31m         \u001b[0mec_data\u001b[0m \u001b[0;34m=\u001b[0m \u001b[0mkegg_request\u001b[0m\u001b[0;34m(\u001b[0m\u001b[0mid\u001b[0m\u001b[0;34m)\u001b[0m\u001b[0;34m\u001b[0m\u001b[0;34m\u001b[0m\u001b[0m\n\u001b[0m\u001b[1;32m      7\u001b[0m         \u001b[0mname\u001b[0m \u001b[0;34m=\u001b[0m \u001b[0mec_data\u001b[0m\u001b[0;34m.\u001b[0m\u001b[0mget\u001b[0m\u001b[0;34m(\u001b[0m\u001b[0;34m'SYSNAME'\u001b[0m\u001b[0;34m,\u001b[0m \u001b[0mid\u001b[0m\u001b[0;34m)\u001b[0m \u001b[0;31m# if sysname not found, will use ec_number\u001b[0m\u001b[0;34m\u001b[0m\u001b[0;34m\u001b[0m\u001b[0m\n\u001b[1;32m      8\u001b[0m         \u001b[0mec_number\u001b[0m \u001b[0;34m=\u001b[0m \u001b[0mid\u001b[0m\u001b[0;34m.\u001b[0m\u001b[0mreplace\u001b[0m\u001b[0;34m(\u001b[0m\u001b[0;34m'ec:'\u001b[0m\u001b[0;34m,\u001b[0m\u001b[0;34m''\u001b[0m\u001b[0;34m)\u001b[0m\u001b[0;34m\u001b[0m\u001b[0;34m\u001b[0m\u001b[0m\n",
      "\u001b[0;32m<ipython-input-6-cea2deff5dd7>\u001b[0m in \u001b[0;36mkegg_request\u001b[0;34m(id)\u001b[0m\n\u001b[1;32m      1\u001b[0m \u001b[0;32mdef\u001b[0m \u001b[0mkegg_request\u001b[0m\u001b[0;34m(\u001b[0m\u001b[0mid\u001b[0m\u001b[0;34m)\u001b[0m\u001b[0;34m:\u001b[0m\u001b[0;34m\u001b[0m\u001b[0;34m\u001b[0m\u001b[0m\n\u001b[1;32m      2\u001b[0m     \u001b[0mresp\u001b[0m \u001b[0;34m=\u001b[0m \u001b[0mcache\u001b[0m\u001b[0;34m.\u001b[0m\u001b[0mkegg_cached_reqest\u001b[0m\u001b[0;34m(\u001b[0m\u001b[0mrequest_name\u001b[0m\u001b[0;34m=\u001b[0m\u001b[0;34mf'kegg_ec_request'\u001b[0m\u001b[0;34m,\u001b[0m \u001b[0mec\u001b[0m\u001b[0;34m=\u001b[0m\u001b[0mid\u001b[0m\u001b[0;34m,\u001b[0m \u001b[0mrequest_fn\u001b[0m\u001b[0;34m=\u001b[0m\u001b[0mk\u001b[0m\u001b[0;34m.\u001b[0m\u001b[0mget\u001b[0m\u001b[0;34m,\u001b[0m \u001b[0museCaching\u001b[0m\u001b[0;34m=\u001b[0m\u001b[0museCaching\u001b[0m\u001b[0;34m)\u001b[0m\u001b[0;34m\u001b[0m\u001b[0;34m\u001b[0m\u001b[0m\n\u001b[0;32m----> 3\u001b[0;31m     \u001b[0mec_parse\u001b[0m \u001b[0;34m=\u001b[0m \u001b[0mparser\u001b[0m\u001b[0;34m.\u001b[0m\u001b[0mparse\u001b[0m\u001b[0;34m(\u001b[0m\u001b[0mresp\u001b[0m\u001b[0;34m)\u001b[0m\u001b[0;34m\u001b[0m\u001b[0;34m\u001b[0m\u001b[0m\n\u001b[0m\u001b[1;32m      4\u001b[0m     \u001b[0;32mif\u001b[0m \u001b[0;34m'SUBSTRATE'\u001b[0m \u001b[0;32min\u001b[0m \u001b[0mec_parse\u001b[0m\u001b[0;34m.\u001b[0m\u001b[0mkeys\u001b[0m\u001b[0;34m(\u001b[0m\u001b[0;34m)\u001b[0m\u001b[0;34m:\u001b[0m\u001b[0;34m\u001b[0m\u001b[0;34m\u001b[0m\u001b[0m\n\u001b[1;32m      5\u001b[0m         \u001b[0mec_parse\u001b[0m\u001b[0;34m[\u001b[0m\u001b[0;34m'SUBSTRATE'\u001b[0m\u001b[0;34m]\u001b[0m \u001b[0;34m=\u001b[0m \u001b[0mget_compounds_with_smiles\u001b[0m\u001b[0;34m(\u001b[0m\u001b[0mec_parse\u001b[0m\u001b[0;34m[\u001b[0m\u001b[0;34m'SUBSTRATE'\u001b[0m\u001b[0;34m]\u001b[0m\u001b[0;34m)\u001b[0m\u001b[0;34m\u001b[0m\u001b[0;34m\u001b[0m\u001b[0m\n",
      "\u001b[0;32m~/code/flavo/flavoenzymes-repo/flav_env/lib/python3.6/site-packages/bioservices/kegg.py\u001b[0m in \u001b[0;36mparse\u001b[0;34m(self, res)\u001b[0m\n\u001b[1;32m   1187\u001b[0m             \u001b[0;34m>>\u001b[0m\u001b[0;34m>\u001b[0m \u001b[0md\u001b[0m \u001b[0;34m=\u001b[0m \u001b[0ms\u001b[0m\u001b[0;34m.\u001b[0m\u001b[0mparse\u001b[0m\u001b[0;34m(\u001b[0m\u001b[0mres\u001b[0m\u001b[0;34m)\u001b[0m\u001b[0;34m\u001b[0m\u001b[0;34m\u001b[0m\u001b[0m\n\u001b[1;32m   1188\u001b[0m         \"\"\"\n\u001b[0;32m-> 1189\u001b[0;31m         \u001b[0mentry\u001b[0m \u001b[0;34m=\u001b[0m \u001b[0mres\u001b[0m\u001b[0;34m.\u001b[0m\u001b[0msplit\u001b[0m\u001b[0;34m(\u001b[0m\u001b[0;34m\"\\n\"\u001b[0m\u001b[0;34m)\u001b[0m\u001b[0;34m[\u001b[0m\u001b[0;36m0\u001b[0m\u001b[0;34m]\u001b[0m\u001b[0;34m.\u001b[0m\u001b[0msplit\u001b[0m\u001b[0;34m(\u001b[0m\u001b[0;34m)\u001b[0m\u001b[0;34m[\u001b[0m\u001b[0;36m0\u001b[0m\u001b[0;34m]\u001b[0m\u001b[0;34m\u001b[0m\u001b[0;34m\u001b[0m\u001b[0m\n\u001b[0m\u001b[1;32m   1190\u001b[0m         \u001b[0;32mif\u001b[0m \u001b[0mentry\u001b[0m \u001b[0;34m==\u001b[0m \u001b[0;34m\"ENTRY\"\u001b[0m\u001b[0;34m:\u001b[0m\u001b[0;34m\u001b[0m\u001b[0;34m\u001b[0m\u001b[0m\n\u001b[1;32m   1191\u001b[0m             \u001b[0mdbentry\u001b[0m \u001b[0;34m=\u001b[0m \u001b[0mres\u001b[0m\u001b[0;34m.\u001b[0m\u001b[0msplit\u001b[0m\u001b[0;34m(\u001b[0m\u001b[0;34m\"\\n\"\u001b[0m\u001b[0;34m)\u001b[0m\u001b[0;34m[\u001b[0m\u001b[0;36m0\u001b[0m\u001b[0;34m]\u001b[0m\u001b[0;34m.\u001b[0m\u001b[0msplit\u001b[0m\u001b[0;34m(\u001b[0m\u001b[0;32mNone\u001b[0m\u001b[0;34m,\u001b[0m \u001b[0;36m2\u001b[0m\u001b[0;34m)\u001b[0m\u001b[0;34m[\u001b[0m\u001b[0;36m2\u001b[0m\u001b[0;34m]\u001b[0m\u001b[0;34m\u001b[0m\u001b[0;34m\u001b[0m\u001b[0m\n",
      "\u001b[0;31mAttributeError\u001b[0m: 'NoneType' object has no attribute 'split'"
     ]
    }
   ],
   "source": [
    "get_all_data(['ec:4.2.1.48'], {}, verbose=True)"
   ]
  },
  {
   "cell_type": "code",
   "execution_count": 44,
   "metadata": {},
   "outputs": [
    {
     "ename": "AttributeError",
     "evalue": "'NoneType' object has no attribute 'split'",
     "output_type": "error",
     "traceback": [
      "\u001b[0;31m---------------------------------------------------------------------------\u001b[0m",
      "\u001b[0;31mAttributeError\u001b[0m                            Traceback (most recent call last)",
      "\u001b[0;32m<ipython-input-44-4782684a8fd3>\u001b[0m in \u001b[0;36m<module>\u001b[0;34m\u001b[0m\n\u001b[0;32m----> 1\u001b[0;31m \u001b[0mkegg_request\u001b[0m\u001b[0;34m(\u001b[0m\u001b[0;34m'ec:4.2.1.48'\u001b[0m\u001b[0;34m)\u001b[0m\u001b[0;34m\u001b[0m\u001b[0;34m\u001b[0m\u001b[0m\n\u001b[0m",
      "\u001b[0;32m<ipython-input-6-cea2deff5dd7>\u001b[0m in \u001b[0;36mkegg_request\u001b[0;34m(id)\u001b[0m\n\u001b[1;32m      1\u001b[0m \u001b[0;32mdef\u001b[0m \u001b[0mkegg_request\u001b[0m\u001b[0;34m(\u001b[0m\u001b[0mid\u001b[0m\u001b[0;34m)\u001b[0m\u001b[0;34m:\u001b[0m\u001b[0;34m\u001b[0m\u001b[0;34m\u001b[0m\u001b[0m\n\u001b[1;32m      2\u001b[0m     \u001b[0mresp\u001b[0m \u001b[0;34m=\u001b[0m \u001b[0mcache\u001b[0m\u001b[0;34m.\u001b[0m\u001b[0mkegg_cached_reqest\u001b[0m\u001b[0;34m(\u001b[0m\u001b[0mrequest_name\u001b[0m\u001b[0;34m=\u001b[0m\u001b[0;34mf'kegg_ec_request'\u001b[0m\u001b[0;34m,\u001b[0m \u001b[0mec\u001b[0m\u001b[0;34m=\u001b[0m\u001b[0mid\u001b[0m\u001b[0;34m,\u001b[0m \u001b[0mrequest_fn\u001b[0m\u001b[0;34m=\u001b[0m\u001b[0mk\u001b[0m\u001b[0;34m.\u001b[0m\u001b[0mget\u001b[0m\u001b[0;34m,\u001b[0m \u001b[0museCaching\u001b[0m\u001b[0;34m=\u001b[0m\u001b[0museCaching\u001b[0m\u001b[0;34m)\u001b[0m\u001b[0;34m\u001b[0m\u001b[0;34m\u001b[0m\u001b[0m\n\u001b[0;32m----> 3\u001b[0;31m     \u001b[0mec_parse\u001b[0m \u001b[0;34m=\u001b[0m \u001b[0mparser\u001b[0m\u001b[0;34m.\u001b[0m\u001b[0mparse\u001b[0m\u001b[0;34m(\u001b[0m\u001b[0mresp\u001b[0m\u001b[0;34m)\u001b[0m\u001b[0;34m\u001b[0m\u001b[0;34m\u001b[0m\u001b[0m\n\u001b[0m\u001b[1;32m      4\u001b[0m     \u001b[0;32mif\u001b[0m \u001b[0;34m'SUBSTRATE'\u001b[0m \u001b[0;32min\u001b[0m \u001b[0mec_parse\u001b[0m\u001b[0;34m.\u001b[0m\u001b[0mkeys\u001b[0m\u001b[0;34m(\u001b[0m\u001b[0;34m)\u001b[0m\u001b[0;34m:\u001b[0m\u001b[0;34m\u001b[0m\u001b[0;34m\u001b[0m\u001b[0m\n\u001b[1;32m      5\u001b[0m         \u001b[0mec_parse\u001b[0m\u001b[0;34m[\u001b[0m\u001b[0;34m'SUBSTRATE'\u001b[0m\u001b[0;34m]\u001b[0m \u001b[0;34m=\u001b[0m \u001b[0mget_compounds_with_smiles\u001b[0m\u001b[0;34m(\u001b[0m\u001b[0mec_parse\u001b[0m\u001b[0;34m[\u001b[0m\u001b[0;34m'SUBSTRATE'\u001b[0m\u001b[0;34m]\u001b[0m\u001b[0;34m)\u001b[0m\u001b[0;34m\u001b[0m\u001b[0;34m\u001b[0m\u001b[0m\n",
      "\u001b[0;32m~/code/flavo/flavoenzymes-repo/flav_env/lib/python3.6/site-packages/bioservices/kegg.py\u001b[0m in \u001b[0;36mparse\u001b[0;34m(self, res)\u001b[0m\n\u001b[1;32m   1187\u001b[0m             \u001b[0;34m>>\u001b[0m\u001b[0;34m>\u001b[0m \u001b[0md\u001b[0m \u001b[0;34m=\u001b[0m \u001b[0ms\u001b[0m\u001b[0;34m.\u001b[0m\u001b[0mparse\u001b[0m\u001b[0;34m(\u001b[0m\u001b[0mres\u001b[0m\u001b[0;34m)\u001b[0m\u001b[0;34m\u001b[0m\u001b[0;34m\u001b[0m\u001b[0m\n\u001b[1;32m   1188\u001b[0m         \"\"\"\n\u001b[0;32m-> 1189\u001b[0;31m         \u001b[0mentry\u001b[0m \u001b[0;34m=\u001b[0m \u001b[0mres\u001b[0m\u001b[0;34m.\u001b[0m\u001b[0msplit\u001b[0m\u001b[0;34m(\u001b[0m\u001b[0;34m\"\\n\"\u001b[0m\u001b[0;34m)\u001b[0m\u001b[0;34m[\u001b[0m\u001b[0;36m0\u001b[0m\u001b[0;34m]\u001b[0m\u001b[0;34m.\u001b[0m\u001b[0msplit\u001b[0m\u001b[0;34m(\u001b[0m\u001b[0;34m)\u001b[0m\u001b[0;34m[\u001b[0m\u001b[0;36m0\u001b[0m\u001b[0;34m]\u001b[0m\u001b[0;34m\u001b[0m\u001b[0;34m\u001b[0m\u001b[0m\n\u001b[0m\u001b[1;32m   1190\u001b[0m         \u001b[0;32mif\u001b[0m \u001b[0mentry\u001b[0m \u001b[0;34m==\u001b[0m \u001b[0;34m\"ENTRY\"\u001b[0m\u001b[0;34m:\u001b[0m\u001b[0;34m\u001b[0m\u001b[0;34m\u001b[0m\u001b[0m\n\u001b[1;32m   1191\u001b[0m             \u001b[0mdbentry\u001b[0m \u001b[0;34m=\u001b[0m \u001b[0mres\u001b[0m\u001b[0;34m.\u001b[0m\u001b[0msplit\u001b[0m\u001b[0;34m(\u001b[0m\u001b[0;34m\"\\n\"\u001b[0m\u001b[0;34m)\u001b[0m\u001b[0;34m[\u001b[0m\u001b[0;36m0\u001b[0m\u001b[0;34m]\u001b[0m\u001b[0;34m.\u001b[0m\u001b[0msplit\u001b[0m\u001b[0;34m(\u001b[0m\u001b[0;32mNone\u001b[0m\u001b[0;34m,\u001b[0m \u001b[0;36m2\u001b[0m\u001b[0;34m)\u001b[0m\u001b[0;34m[\u001b[0m\u001b[0;36m2\u001b[0m\u001b[0;34m]\u001b[0m\u001b[0;34m\u001b[0m\u001b[0;34m\u001b[0m\u001b[0m\n",
      "\u001b[0;31mAttributeError\u001b[0m: 'NoneType' object has no attribute 'split'"
     ]
    }
   ],
   "source": [
    "kegg_request('ec:4.2.1.48')"
   ]
  },
  {
   "cell_type": "code",
   "execution_count": 48,
   "metadata": {},
   "outputs": [],
   "source": [
    "resp = cache.kegg_cached_reqest(request_name=f'kegg_ec_request', ec='ec:2.1.1.88', request_fn=k.get, useCaching=True)"
   ]
  },
  {
   "cell_type": "code",
   "execution_count": 49,
   "metadata": {},
   "outputs": [
    {
     "name": "stdout",
     "output_type": "stream",
     "text": [
      "ENTRY       EC 2.1.1.88                 Enzyme\n",
      "NAME        8-hydroxyquercetin 8-O-methyltransferase;\n",
      "            flavonol 8-O-methyltransferase;\n",
      "            flavonol 8-methyltransferase;\n",
      "            S-adenosyl-L-methionine:3,3',4',5,7,8-hexahydroxyflavone 8-O-methyltransferase;\n",
      "            8-hydroxyquercitin 8-O-methyltransferase [mis-spelt]\n",
      "CLASS       Transferases;\n",
      "            Transferring one-carbon groups;\n",
      "            Methyltransferases\n",
      "SYSNAME     S-adenosyl-L-methionine:3,5,7,8,3',4'-hexahydroxyflavone 8-O-methyltransferase\n",
      "REACTION    S-adenosyl-L-methionine + 3,5,7,8,3',4'-hexahydroxyflavone = S-adenosyl-L-homocysteine + 3,5,7,3',4'-pentahydroxy-8-methoxyflavone [RN:R04398]\n",
      "ALL_REAC    R04398\n",
      "SUBSTRATE   S-adenosyl-L-methionine [CPD:C00019];\n",
      "            3,5,7,8,3',4'-hexahydroxyflavone\n",
      "PRODUCT     S-adenosyl-L-homocysteine [CPD:C00021];\n",
      "            3,5,7,3',4'-pentahydroxy-8-methoxyflavone\n",
      "COMMENT     Also acts on 8-hydroxykaempferol, but not on the glycosides of 8-hydroxyflavonols. An enzyme from the flower buds of Lotus corniculatus.\n",
      "HISTORY     EC 2.1.1.88 created 1989\n",
      "REFERENCE   1  [PMID:4076180]\n",
      "  AUTHORS   Jay M, De Luca V, Ibrahim RK.\n",
      "  TITLE     Purification, properties and kinetic mechanism of flavonol 8-O-methyltransferase from Lotus corniculatus L.\n",
      "  JOURNAL   Eur J Biochem 153:321-5 (1985)\n",
      "            DOI:10.1111/j.1432-1033.1985.tb09304.x\n",
      "DBLINKS     ExplorEnz - The Enzyme Database: 2.1.1.88\n",
      "            IUBMB Enzyme Nomenclature: 2.1.1.88\n",
      "            ExPASy - ENZYME nomenclature database: 2.1.1.88\n",
      "            BRENDA, the Enzyme Database: 2.1.1.88\n",
      "            CAS: 99775-17-4\n",
      "///\n",
      "\n"
     ]
    }
   ],
   "source": [
    "print(resp)"
   ]
  },
  {
   "cell_type": "code",
   "execution_count": null,
   "metadata": {},
   "outputs": [],
   "source": []
  }
 ],
 "metadata": {
  "colab": {
   "name": "KEGG.ipynb",
   "provenance": []
  },
  "kernelspec": {
   "display_name": "Python 3",
   "language": "python",
   "name": "python3"
  },
  "language_info": {
   "codemirror_mode": {
    "name": "ipython",
    "version": 3
   },
   "file_extension": ".py",
   "mimetype": "text/x-python",
   "name": "python",
   "nbconvert_exporter": "python",
   "pygments_lexer": "ipython3",
   "version": "3.6.8"
  }
 },
 "nbformat": 4,
 "nbformat_minor": 4
}
