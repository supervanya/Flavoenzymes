{
 "cells": [
  {
   "cell_type": "code",
   "execution_count": 63,
   "metadata": {},
   "outputs": [],
   "source": [
    "import json\n",
    "import pandas as pd\n",
    "import numpy as np\n",
    "from numpy import nan"
   ]
  },
  {
   "cell_type": "code",
   "execution_count": 64,
   "metadata": {},
   "outputs": [],
   "source": [
    "combined_data = '../export/combined.json'\n",
    "output_csv = 'flavoenzymes_to_sort.csv'"
   ]
  },
  {
   "cell_type": "code",
   "execution_count": 65,
   "metadata": {},
   "outputs": [],
   "source": [
    "def read_json_data(path):\n",
    "    with open(path) as json_file:\n",
    "        return json.load(json_file)"
   ]
  },
  {
   "cell_type": "code",
   "execution_count": 66,
   "metadata": {},
   "outputs": [],
   "source": [
    "# reading and creating df from combined data\n",
    "flavoenzyme_data = read_json_data(combined_data)\n",
    "df=pd.DataFrame(flavoenzyme_data.values(), index=flavoenzyme_data.keys())\n",
    "\n",
    "# processing the df\n",
    "df.reset_index(inplace=True)\n",
    "df.dropna()\n",
    "df.rename(columns={'index':'ec'},inplace=True)\n",
    "\n",
    "df['SUBSTRATE'] = df['SUBSTRATE'].map(json.dumps)\n",
    "df['PRODUCT'] = df['PRODUCT'].map(json.dumps)\n",
    "\n",
    "df['bin']=0\n",
    "df['OxidativeHalf']=0\n",
    "df['ReductionHalf']=0\n",
    "\n",
    "# outputting the df\n",
    "df.to_csv(output_csv, index=False)"
   ]
  }
 ],
 "metadata": {
  "kernelspec": {
   "display_name": "Python 3",
   "language": "python",
   "name": "python3"
  },
  "language_info": {
   "codemirror_mode": {
    "name": "ipython",
    "version": 3
   },
   "file_extension": ".py",
   "mimetype": "text/x-python",
   "name": "python",
   "nbconvert_exporter": "python",
   "pygments_lexer": "ipython3",
   "version": "3.6.4"
  }
 },
 "nbformat": 4,
 "nbformat_minor": 4
}
