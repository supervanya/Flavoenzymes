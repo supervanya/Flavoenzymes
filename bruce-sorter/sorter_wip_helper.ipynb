{
 "cells": [
  {
   "cell_type": "code",
   "execution_count": 182,
   "metadata": {},
   "outputs": [
    {
     "ename": "FileNotFoundError",
     "evalue": "[Errno 2] File flavoenzyme_Classification.csv does not exist: 'flavoenzyme_Classification.csv'",
     "output_type": "error",
     "traceback": [
      "\u001b[0;31m---------------------------------------------------------------------------\u001b[0m",
      "\u001b[0;31mFileNotFoundError\u001b[0m                         Traceback (most recent call last)",
      "\u001b[0;32m<ipython-input-182-5cdfb4b24d99>\u001b[0m in \u001b[0;36m<module>\u001b[0;34m\u001b[0m\n\u001b[1;32m     10\u001b[0m \u001b[0;34m\u001b[0m\u001b[0m\n\u001b[1;32m     11\u001b[0m \u001b[0mFILE_NAME\u001b[0m \u001b[0;34m=\u001b[0m \u001b[0;34m'flavoenzyme_Classification.csv'\u001b[0m\u001b[0;34m\u001b[0m\u001b[0m\n\u001b[0;32m---> 12\u001b[0;31m \u001b[0mDF\u001b[0m \u001b[0;34m=\u001b[0m \u001b[0mpd\u001b[0m\u001b[0;34m.\u001b[0m\u001b[0mread_csv\u001b[0m\u001b[0;34m(\u001b[0m\u001b[0mFILE_NAME\u001b[0m\u001b[0;34m)\u001b[0m\u001b[0;34m\u001b[0m\u001b[0m\n\u001b[0m\u001b[1;32m     13\u001b[0m \u001b[0mNUMBER_ENZYMES_LEFT\u001b[0m \u001b[0;34m=\u001b[0m \u001b[0mlen\u001b[0m\u001b[0;34m(\u001b[0m\u001b[0mDF\u001b[0m\u001b[0;34m[\u001b[0m\u001b[0mDF\u001b[0m\u001b[0;34m.\u001b[0m\u001b[0mbin\u001b[0m \u001b[0;34m==\u001b[0m \u001b[0;36m0\u001b[0m\u001b[0;34m]\u001b[0m\u001b[0;34m)\u001b[0m\u001b[0;34m\u001b[0m\u001b[0m\n",
      "\u001b[0;32m~/Desktop/flavo/flavoenzymes/ENV/lib/python3.6/site-packages/pandas/io/parsers.py\u001b[0m in \u001b[0;36mparser_f\u001b[0;34m(filepath_or_buffer, sep, delimiter, header, names, index_col, usecols, squeeze, prefix, mangle_dupe_cols, dtype, engine, converters, true_values, false_values, skipinitialspace, skiprows, skipfooter, nrows, na_values, keep_default_na, na_filter, verbose, skip_blank_lines, parse_dates, infer_datetime_format, keep_date_col, date_parser, dayfirst, cache_dates, iterator, chunksize, compression, thousands, decimal, lineterminator, quotechar, quoting, doublequote, escapechar, comment, encoding, dialect, error_bad_lines, warn_bad_lines, delim_whitespace, low_memory, memory_map, float_precision)\u001b[0m\n\u001b[1;32m    674\u001b[0m         )\n\u001b[1;32m    675\u001b[0m \u001b[0;34m\u001b[0m\u001b[0m\n\u001b[0;32m--> 676\u001b[0;31m         \u001b[0;32mreturn\u001b[0m \u001b[0m_read\u001b[0m\u001b[0;34m(\u001b[0m\u001b[0mfilepath_or_buffer\u001b[0m\u001b[0;34m,\u001b[0m \u001b[0mkwds\u001b[0m\u001b[0;34m)\u001b[0m\u001b[0;34m\u001b[0m\u001b[0m\n\u001b[0m\u001b[1;32m    677\u001b[0m \u001b[0;34m\u001b[0m\u001b[0m\n\u001b[1;32m    678\u001b[0m     \u001b[0mparser_f\u001b[0m\u001b[0;34m.\u001b[0m\u001b[0m__name__\u001b[0m \u001b[0;34m=\u001b[0m \u001b[0mname\u001b[0m\u001b[0;34m\u001b[0m\u001b[0m\n",
      "\u001b[0;32m~/Desktop/flavo/flavoenzymes/ENV/lib/python3.6/site-packages/pandas/io/parsers.py\u001b[0m in \u001b[0;36m_read\u001b[0;34m(filepath_or_buffer, kwds)\u001b[0m\n\u001b[1;32m    446\u001b[0m \u001b[0;34m\u001b[0m\u001b[0m\n\u001b[1;32m    447\u001b[0m     \u001b[0;31m# Create the parser.\u001b[0m\u001b[0;34m\u001b[0m\u001b[0;34m\u001b[0m\u001b[0m\n\u001b[0;32m--> 448\u001b[0;31m     \u001b[0mparser\u001b[0m \u001b[0;34m=\u001b[0m \u001b[0mTextFileReader\u001b[0m\u001b[0;34m(\u001b[0m\u001b[0mfp_or_buf\u001b[0m\u001b[0;34m,\u001b[0m \u001b[0;34m**\u001b[0m\u001b[0mkwds\u001b[0m\u001b[0;34m)\u001b[0m\u001b[0;34m\u001b[0m\u001b[0m\n\u001b[0m\u001b[1;32m    449\u001b[0m \u001b[0;34m\u001b[0m\u001b[0m\n\u001b[1;32m    450\u001b[0m     \u001b[0;32mif\u001b[0m \u001b[0mchunksize\u001b[0m \u001b[0;32mor\u001b[0m \u001b[0miterator\u001b[0m\u001b[0;34m:\u001b[0m\u001b[0;34m\u001b[0m\u001b[0m\n",
      "\u001b[0;32m~/Desktop/flavo/flavoenzymes/ENV/lib/python3.6/site-packages/pandas/io/parsers.py\u001b[0m in \u001b[0;36m__init__\u001b[0;34m(self, f, engine, **kwds)\u001b[0m\n\u001b[1;32m    878\u001b[0m             \u001b[0mself\u001b[0m\u001b[0;34m.\u001b[0m\u001b[0moptions\u001b[0m\u001b[0;34m[\u001b[0m\u001b[0;34m\"has_index_names\"\u001b[0m\u001b[0;34m]\u001b[0m \u001b[0;34m=\u001b[0m \u001b[0mkwds\u001b[0m\u001b[0;34m[\u001b[0m\u001b[0;34m\"has_index_names\"\u001b[0m\u001b[0;34m]\u001b[0m\u001b[0;34m\u001b[0m\u001b[0m\n\u001b[1;32m    879\u001b[0m \u001b[0;34m\u001b[0m\u001b[0m\n\u001b[0;32m--> 880\u001b[0;31m         \u001b[0mself\u001b[0m\u001b[0;34m.\u001b[0m\u001b[0m_make_engine\u001b[0m\u001b[0;34m(\u001b[0m\u001b[0mself\u001b[0m\u001b[0;34m.\u001b[0m\u001b[0mengine\u001b[0m\u001b[0;34m)\u001b[0m\u001b[0;34m\u001b[0m\u001b[0m\n\u001b[0m\u001b[1;32m    881\u001b[0m \u001b[0;34m\u001b[0m\u001b[0m\n\u001b[1;32m    882\u001b[0m     \u001b[0;32mdef\u001b[0m \u001b[0mclose\u001b[0m\u001b[0;34m(\u001b[0m\u001b[0mself\u001b[0m\u001b[0;34m)\u001b[0m\u001b[0;34m:\u001b[0m\u001b[0;34m\u001b[0m\u001b[0m\n",
      "\u001b[0;32m~/Desktop/flavo/flavoenzymes/ENV/lib/python3.6/site-packages/pandas/io/parsers.py\u001b[0m in \u001b[0;36m_make_engine\u001b[0;34m(self, engine)\u001b[0m\n\u001b[1;32m   1112\u001b[0m     \u001b[0;32mdef\u001b[0m \u001b[0m_make_engine\u001b[0m\u001b[0;34m(\u001b[0m\u001b[0mself\u001b[0m\u001b[0;34m,\u001b[0m \u001b[0mengine\u001b[0m\u001b[0;34m=\u001b[0m\u001b[0;34m\"c\"\u001b[0m\u001b[0;34m)\u001b[0m\u001b[0;34m:\u001b[0m\u001b[0;34m\u001b[0m\u001b[0m\n\u001b[1;32m   1113\u001b[0m         \u001b[0;32mif\u001b[0m \u001b[0mengine\u001b[0m \u001b[0;34m==\u001b[0m \u001b[0;34m\"c\"\u001b[0m\u001b[0;34m:\u001b[0m\u001b[0;34m\u001b[0m\u001b[0m\n\u001b[0;32m-> 1114\u001b[0;31m             \u001b[0mself\u001b[0m\u001b[0;34m.\u001b[0m\u001b[0m_engine\u001b[0m \u001b[0;34m=\u001b[0m \u001b[0mCParserWrapper\u001b[0m\u001b[0;34m(\u001b[0m\u001b[0mself\u001b[0m\u001b[0;34m.\u001b[0m\u001b[0mf\u001b[0m\u001b[0;34m,\u001b[0m \u001b[0;34m**\u001b[0m\u001b[0mself\u001b[0m\u001b[0;34m.\u001b[0m\u001b[0moptions\u001b[0m\u001b[0;34m)\u001b[0m\u001b[0;34m\u001b[0m\u001b[0m\n\u001b[0m\u001b[1;32m   1115\u001b[0m         \u001b[0;32melse\u001b[0m\u001b[0;34m:\u001b[0m\u001b[0;34m\u001b[0m\u001b[0m\n\u001b[1;32m   1116\u001b[0m             \u001b[0;32mif\u001b[0m \u001b[0mengine\u001b[0m \u001b[0;34m==\u001b[0m \u001b[0;34m\"python\"\u001b[0m\u001b[0;34m:\u001b[0m\u001b[0;34m\u001b[0m\u001b[0m\n",
      "\u001b[0;32m~/Desktop/flavo/flavoenzymes/ENV/lib/python3.6/site-packages/pandas/io/parsers.py\u001b[0m in \u001b[0;36m__init__\u001b[0;34m(self, src, **kwds)\u001b[0m\n\u001b[1;32m   1889\u001b[0m         \u001b[0mkwds\u001b[0m\u001b[0;34m[\u001b[0m\u001b[0;34m\"usecols\"\u001b[0m\u001b[0;34m]\u001b[0m \u001b[0;34m=\u001b[0m \u001b[0mself\u001b[0m\u001b[0;34m.\u001b[0m\u001b[0musecols\u001b[0m\u001b[0;34m\u001b[0m\u001b[0m\n\u001b[1;32m   1890\u001b[0m \u001b[0;34m\u001b[0m\u001b[0m\n\u001b[0;32m-> 1891\u001b[0;31m         \u001b[0mself\u001b[0m\u001b[0;34m.\u001b[0m\u001b[0m_reader\u001b[0m \u001b[0;34m=\u001b[0m \u001b[0mparsers\u001b[0m\u001b[0;34m.\u001b[0m\u001b[0mTextReader\u001b[0m\u001b[0;34m(\u001b[0m\u001b[0msrc\u001b[0m\u001b[0;34m,\u001b[0m \u001b[0;34m**\u001b[0m\u001b[0mkwds\u001b[0m\u001b[0;34m)\u001b[0m\u001b[0;34m\u001b[0m\u001b[0m\n\u001b[0m\u001b[1;32m   1892\u001b[0m         \u001b[0mself\u001b[0m\u001b[0;34m.\u001b[0m\u001b[0munnamed_cols\u001b[0m \u001b[0;34m=\u001b[0m \u001b[0mself\u001b[0m\u001b[0;34m.\u001b[0m\u001b[0m_reader\u001b[0m\u001b[0;34m.\u001b[0m\u001b[0munnamed_cols\u001b[0m\u001b[0;34m\u001b[0m\u001b[0m\n\u001b[1;32m   1893\u001b[0m \u001b[0;34m\u001b[0m\u001b[0m\n",
      "\u001b[0;32mpandas/_libs/parsers.pyx\u001b[0m in \u001b[0;36mpandas._libs.parsers.TextReader.__cinit__\u001b[0;34m()\u001b[0m\n",
      "\u001b[0;32mpandas/_libs/parsers.pyx\u001b[0m in \u001b[0;36mpandas._libs.parsers.TextReader._setup_parser_source\u001b[0;34m()\u001b[0m\n",
      "\u001b[0;31mFileNotFoundError\u001b[0m: [Errno 2] File flavoenzyme_Classification.csv does not exist: 'flavoenzyme_Classification.csv'"
     ]
    }
   ],
   "source": [
    "import pandas as pd\n",
    "import json\n",
    "\n",
    "Red_answers = ['etrans', 'thiol', 'htrans', 'e', 't', 'h']\n",
    "Red_answers_prompt = \"Enter one of: etrans(e), thiol(t), htrans(t)\"\n",
    "Ox_answers  = ['htrans', 'disulfide', 'etrans', 'oxidase', 'mono', 'newmono', 'h', 'd', 'e', 'o', 'm', 'n']\n",
    "Ox_answers_prompt = \"Enter one of: htrans(h), disulfide(d), etrans(e), oxidase(o), mono(m), newmono(n)\"\n",
    "\n",
    "emily_map = {'a':'eTrans, HTrans','b':'eTrans, DisulfideRed','c':'eTrans, eTrans','d':'eTrans, Oxidase','e':'eTrans, Monoox','f':'eTrans, NewMonoox','g':'ThiolOx, HTrans','h':'ThiolOx, DisulfideRed','i':'ThiolOx, eTrans','j':'ThiolOx, Oxidase','k':'ThiolOx, Monoox','l':'ThiolOx, NewMonoox','m':'HTrans, HTrans','n':'HTrans, DisulfideRed','o':'HTrans, eTrans','p':'HTrans, Oxidase','q':'HTrans, Monoox','r':'HTrans, NewMonoox'}\n",
    "\n",
    "FILE_NAME = 'flavoenzyme_Classification.csv'\n",
    "DF = pd.read_csv(FILE_NAME)\n",
    "NUMBER_ENZYMES_LEFT = len(DF[DF.bin == 0])"
   ]
  },
  {
   "cell_type": "code",
   "execution_count": 155,
   "metadata": {},
   "outputs": [],
   "source": [
    "import string"
   ]
  },
  {
   "cell_type": "code",
   "execution_count": 156,
   "metadata": {},
   "outputs": [],
   "source": [
    "Red_answers = ['etrans', 'thiol', 'htrans']\n",
    "Ox_answers  = ['htrans', 'disulfide', 'etrans', 'oxidase', 'mono', 'newmono']\n",
    "emily_map = {'a':'eTrans, HTrans','b':'eTrans, DisulfideRed','c':'eTrans, eTrans','d':'eTrans, Oxidase','e':'eTrans, Monoox','f':'eTrans, NewMonoox','g':'ThiolOx, HTrans','h':'ThiolOx, DisulfideRed','i':'ThiolOx, eTrans','j':'ThiolOx, Oxidase','k':'ThiolOx, Monoox','l':'ThiolOx, NewMonoox','m':'HTrans, HTrans','n':'HTrans, DisulfideRed','o':'HTrans, eTrans','p':'HTrans, Oxidase','q':'HTrans, Monoox','r':'HTrans, NewMonoox'}\n",
    "mapping = {}\n",
    "alphabet = list(string.ascii_lowercase)\n",
    "\n",
    "for red_ans in Red_answers:\n",
    "    for ox_ans in Ox_answers:\n",
    "        perm = f\"{red_ans}-{ox_ans}\"\n",
    "        mapping[perm] = alphabet.pop(0)\n",
    "        \n",
    "emily_map_reverse = {}\n",
    "for key, value in emily_map.items():\n",
    "    emily_map_reverse[value] = key\n"
   ]
  },
  {
   "cell_type": "code",
   "execution_count": 167,
   "metadata": {},
   "outputs": [],
   "source": [
    "def getUnsortedEnzymesIndex():\n",
    "    return DF[DF.bin == 0].index\n"
   ]
  },
  {
   "cell_type": "code",
   "execution_count": 175,
   "metadata": {},
   "outputs": [
    {
     "data": {
      "text/plain": [
       "785"
      ]
     },
     "execution_count": 175,
     "metadata": {},
     "output_type": "execute_result"
    }
   ],
   "source": [
    "len(getUnsortedEnzymesIndex())"
   ]
  },
  {
   "cell_type": "code",
   "execution_count": 104,
   "metadata": {},
   "outputs": [
    {
     "data": {
      "text/plain": [
       "0    a\n",
       "1    a\n",
       "Name: bin, dtype: object"
      ]
     },
     "execution_count": 104,
     "metadata": {},
     "output_type": "execute_result"
    }
   ],
   "source": [
    "DF.loc[0:1,'bin']"
   ]
  },
  {
   "cell_type": "code",
   "execution_count": 84,
   "metadata": {},
   "outputs": [
    {
     "data": {
      "text/plain": [
       "Index(['SYSNAME', 'SUBSTRATE', 'PRODUCT', 'bin', 'OxidativeHalf',\n",
       "       'ReductionHalf'],\n",
       "      dtype='object')"
      ]
     },
     "execution_count": 84,
     "metadata": {},
     "output_type": "execute_result"
    }
   ],
   "source": [
    "DF.columns"
   ]
  },
  {
   "cell_type": "code",
   "execution_count": 122,
   "metadata": {},
   "outputs": [
    {
     "data": {
      "text/plain": [
       "\"['S-adenosyl-L-methionine [CPD:C00019];', '8-amino-8-demethylriboflavin [CPD:C21646];', '8-demethyl-8-(methylamino)riboflavin [CPD:C21648]']\""
      ]
     },
     "execution_count": 122,
     "metadata": {},
     "output_type": "execute_result"
    }
   ],
   "source": [
    "DF.iloc[1]['SUBSTRATE']"
   ]
  },
  {
   "cell_type": "code",
   "execution_count": 88,
   "metadata": {},
   "outputs": [
    {
     "data": {
      "text/plain": [
       "'6,7-dimethyl-8-(1-D-ribityl)lumazine:6,7-dimethyl-8-(1-D-ribityl)lumazine 2,3-butanediyltransferase'"
      ]
     },
     "execution_count": 88,
     "metadata": {},
     "output_type": "execute_result"
    }
   ],
   "source": [
    "DF.iloc[0]['SYSNAME']"
   ]
  },
  {
   "cell_type": "code",
   "execution_count": 124,
   "metadata": {},
   "outputs": [
    {
     "data": {
      "text/plain": [
       "'6,7-dimethyl-8-(1-D-ribityl)lumazine:6,7-dimethyl-8-(1-D-ribityl)lumazine 2,3-butanediyltransferase'"
      ]
     },
     "execution_count": 124,
     "metadata": {},
     "output_type": "execute_result"
    }
   ],
   "source": [
    "DF.at[0,'SYSNAME']"
   ]
  },
  {
   "cell_type": "code",
   "execution_count": 4,
   "metadata": {},
   "outputs": [],
   "source": [
    "import pandas as pd\n",
    "import json\n",
    "\n",
    "\"\"\"\n",
    "Program Flow:\n",
    "1. Prints entree (ENZYME) from the csv\n",
    "2. Q1. Prompts the user for the classification (options: exit | NAF | ......real classifications..... )\n",
    "    a. If answer is valid classification -> write to the CSV\n",
    "        i. Ask Q2\n",
    "    b. If answer is 'other              -> prompt for description -> write to the CSV\n",
    "        i. Ask Q2\n",
    "    c. If answer is 'exit'              -> exit the program\n",
    "    d. If answer is 'NAF'               -> write to the CSV\n",
    "\n",
    "\n",
    "Ask Q2 (function):\n",
    "1. prompt for classification:\n",
    "    a. If answer is valid classification:\n",
    "        i. Assign Bin\n",
    "    b. If answer is 'other:\n",
    "        i. prompt for description ->  Assign Bin -> write to the CSV\n",
    "\"\"\"\n",
    "\n",
    "FILE_NAME = 'bruce-sorter/flavoenzymes_to_sort.csv'\n",
    "DF = pd.read_csv(FILE_NAME)\n",
    "NUMBER_ENZYMES_LEFT = len(DF[DF.bin == 0])\n",
    "\n",
    "# question specific parameters \n",
    "Red_answers_col_name = 'ReductionHalf'\n",
    "Red_answers = ['etrans', 'thiol', 'htrans', 'e', 't', 'h']\n",
    "Red_answers_prompt = \"Enter one of: etrans(e), thiol(t), htrans(h). For example, you can enter 'etrans' or just 'e'\"\n",
    "\n",
    "Ox_answers_col_name = 'OxidativeHalf'\n",
    "Ox_answers  = ['htrans', 'disulfide', 'etrans', 'oxidase', 'mono', 'newmono', 'h', 'd', 'e', 'o', 'm', 'n']\n",
    "Ox_answers_prompt = \"Enter one of: htrans(h), disulfide(d), etrans(e), oxidase(o), mono(m), newmono(n)\\nFor example, you can enter 'newmono' or just 'n'\"\n",
    "\n",
    "# mappings\n",
    "answer_map = {\n",
    "    'htrans':    'HTrans',\n",
    "    'disulfide': 'DisulfideRed',\n",
    "    'etrans':    'eTrans',\n",
    "    'oxidase':   'Oxidase',\n",
    "    'mono':      'Monoox',\n",
    "    'newmono':   'NewMonoox',\n",
    "    'e': 'eTrans',\n",
    "    't': 'thiol',\n",
    "    'h': 'HTrans',\n",
    "    'd': 'DisulfideRed',\n",
    "    'o': 'Oxidase',\n",
    "    'm': 'Monoox',\n",
    "    'n': 'NewMonoox',\n",
    "    'thiol': 'ThiolOx'\n",
    "    }\n",
    "\n",
    "bin_answer_map = {\n",
    "    'eTrans, HTrans': 'a',\n",
    "    'eTrans, DisulfideRed': 'b',\n",
    "    'eTrans, eTrans': 'c',\n",
    "    'eTrans, Oxidase': 'd',\n",
    "    'eTrans, Monoox': 'e',\n",
    "    'eTrans, NewMonoox': 'f',\n",
    "    'ThiolOx, HTrans': 'g',\n",
    "    'ThiolOx, DisulfideRed': 'h',\n",
    "    'ThiolOx, eTrans': 'i',\n",
    "    'ThiolOx, Oxidase': 'j',\n",
    "    'ThiolOx, Monoox': 'k',\n",
    "    'ThiolOx, NewMonoox': 'l',\n",
    "    'HTrans, HTrans': 'm',\n",
    "    'HTrans, DisulfideRed': 'n',\n",
    "    'HTrans, eTrans': 'o',\n",
    "    'HTrans, Oxidase': 'p',\n",
    "    'HTrans, Monoox': 'q',\n",
    "    'HTrans, NewMonoox': 'r'\n",
    "}\n",
    "\n",
    "def getUnsortedEnzymesIndex():\n",
    "    return DF[DF.bin == 0].index\n",
    "\n",
    "def saveProgressToCSV():\n",
    "    DF.to_csv(FILE_NAME,index=False)\n",
    "\n",
    "def writeToCSV(answer,index,column):\n",
    "    print(f\"anser,index,column:{[answer,index,column]}\")\n",
    "    DF.at[index,column] = answer_map[answer]\n",
    "    saveProgressToCSV()\n",
    "\n",
    "def writeNAFtoCSV(index):\n",
    "    writeToCSV('NAF',index,'bin')\n",
    "\n",
    "def printGreeting():\n",
    "    print(\"**************************************************\")\n",
    "    print(\"***   Hi Bruce, ready to sort some enzymes?    ***\")\n",
    "    print(\"**************************************************\")\n",
    "    print(f'\\nIt looks like there are {NUMBER_ENZYMES_LEFT} enzymes left\\n\\n')\n",
    "\n",
    "def askPrompt(index,prompt):\n",
    "    '''\n",
    "    prints the enzyme properties to the terminal\n",
    "    propmpts the user for answer\n",
    "    returns the answer\n",
    "    '''\n",
    "    name = DF.at[index,'SYSNAME']\n",
    "    substrates = json.loads(DF.at[index,'SUBSTRATE'])\n",
    "    products = json.loads(DF.at[index,'PRODUCT'])\n",
    "    ec = DF.at[index,'ec']\n",
    "\n",
    "    \n",
    "    print(\"This is the enzyme:\")\n",
    "    print(f'Kegg link: https://www.genome.jp/dbget-bin/www_bget?ec:{ec}')\n",
    "    print(f'Brenda link: https://www.brenda-enzymes.info/enzyme.php?ecno={ec}')\n",
    "    \n",
    "    print(f\"Name: {name}\")\n",
    "    \n",
    "    print(f\"Substrates:\")\n",
    "    [print(f\" • {s}\") for s in substrates]\n",
    "    \n",
    "    print(f\"Products:\")\n",
    "    [print(f\" • {p}\") for p in products]\n",
    "    \n",
    "    return input(prompt + \"\\n > \")\n",
    "\n",
    "def handleInvalidInput(answer):\n",
    "    print(f'⚠️ You have entered \"{answer}\". That is not a valid input. Try again?')\n",
    "    input(\"PRESS ENTER/RETURN TO CONTINUE...\")\n",
    "\n",
    "def handleQuestion(index,possible_answers,prompt,column):\n",
    "    answer = askPrompt(index, prompt)\n",
    "    if (answer == 'exit'):\n",
    "        quit()\n",
    "    elif (answer == 'NAF'):\n",
    "        writeNAFtoCSV(index)\n",
    "    elif (answer in Red_answers) or (answer in ['other','idk']):\n",
    "        writeToCSV(answer,index,column)\n",
    "    else:\n",
    "        handleInvalidInput(answer)\n",
    "        handleQuestion(index,possible_answers,prompt,column)\n",
    "\n",
    "def handleQ1(index):\n",
    "    handleQuestion(index, possible_answers=Red_answers, prompt=Red_answers_prompt, column=Red_answers_col_name)\n",
    "\n",
    "def handleQ2(index):\n",
    "    handleQuestion(index, possible_answers=Ox_answers, prompt=Ox_answers_prompt, column=Ox_answers_col_name)\n",
    "\n",
    "def handleBinning(index):\n",
    "    ox = DF.at[index, Ox_answers_col_name]\n",
    "    red = DF.at[index, Red_answers_col_name]\n",
    "\n",
    "    if 'idk' in [ox,red]:\n",
    "        writeToCSV('idk',index,'bin')\n",
    "    elif 'other' in [ox,red]:\n",
    "        writeToCSV('other',index,'bin')\n",
    "    else:\n",
    "        bin = bin_answer_map[f\"{ox}, {red}\"]\n",
    "        writeToCSV(bin,index,'bin')\n",
    "\n",
    "\n",
    "\n",
    "\n",
    "def quit():\n",
    "    if NUMBER_ENZYMES_LEFT == 0:\n",
    "        print('You are done! no more remaining enzymes')\n",
    "    else:\n",
    "        print(f'Thans! You still have {NUMBER_ENZYMES_LEFT} enzymes left to sort, have a good day!')\n",
    "    exit()\n",
    "\n",
    "def main():\n",
    "    unsortedEnzymes = getUnsortedEnzymesIndex()\n",
    "    if len(unsortedEnzymes) > 0:\n",
    "        printGreeting() \n",
    "        for index in unsortedEnzymes:\n",
    "            print(f'index:{index}')\n",
    "            handleQ1(index)\n",
    "            handleQ2(index)\n",
    "            handleBinning(index)\n",
    "    else:\n",
    "        quit() # this will say there is no remaining enzymes"
   ]
  },
  {
   "cell_type": "code",
   "execution_count": 11,
   "metadata": {},
   "outputs": [],
   "source": [
    "DF.iloc[0] = 'sd'"
   ]
  },
  {
   "cell_type": "code",
   "execution_count": 21,
   "metadata": {},
   "outputs": [],
   "source": [
    "DF.loc[1,'bin'] = 'sdf'"
   ]
  },
  {
   "cell_type": "code",
   "execution_count": 22,
   "metadata": {},
   "outputs": [
    {
     "data": {
      "text/html": [
       "<div>\n",
       "<style scoped>\n",
       "    .dataframe tbody tr th:only-of-type {\n",
       "        vertical-align: middle;\n",
       "    }\n",
       "\n",
       "    .dataframe tbody tr th {\n",
       "        vertical-align: top;\n",
       "    }\n",
       "\n",
       "    .dataframe thead th {\n",
       "        text-align: right;\n",
       "    }\n",
       "</style>\n",
       "<table border=\"1\" class=\"dataframe\">\n",
       "  <thead>\n",
       "    <tr style=\"text-align: right;\">\n",
       "      <th></th>\n",
       "      <th>ec</th>\n",
       "      <th>SYSNAME</th>\n",
       "      <th>SUBSTRATE</th>\n",
       "      <th>PRODUCT</th>\n",
       "      <th>bin</th>\n",
       "      <th>OxidativeHalf</th>\n",
       "      <th>ReductionHalf</th>\n",
       "    </tr>\n",
       "  </thead>\n",
       "  <tbody>\n",
       "    <tr>\n",
       "      <th>0</th>\n",
       "      <td>sd</td>\n",
       "      <td>sdf</td>\n",
       "      <td>sd</td>\n",
       "      <td>sd</td>\n",
       "      <td>sd</td>\n",
       "      <td>sd</td>\n",
       "      <td>sd</td>\n",
       "    </tr>\n",
       "    <tr>\n",
       "      <th>1</th>\n",
       "      <td>2.1.1.343</td>\n",
       "      <td>sdf</td>\n",
       "      <td>[\"8-amino-8-demethyl-D-riboflavin\", \"8-amino-8...</td>\n",
       "      <td>[\"8-demethyl-8-(methylamino)riboflavin [CPD:C2...</td>\n",
       "      <td>sdf</td>\n",
       "      <td>NaN</td>\n",
       "      <td>NaN</td>\n",
       "    </tr>\n",
       "    <tr>\n",
       "      <th>2</th>\n",
       "      <td>1.1.5.4</td>\n",
       "      <td>(S)-malate:quinone oxidoreductase</td>\n",
       "      <td>[\"(S)-malate\", \"(S)-malate [CPD:C00149];\", \"2,...</td>\n",
       "      <td>[\"?\", \"a quinol\", \"dimethyl naphthoquinol\", \"d...</td>\n",
       "      <td>NaN</td>\n",
       "      <td>NaN</td>\n",
       "      <td>NaN</td>\n",
       "    </tr>\n",
       "    <tr>\n",
       "      <th>3</th>\n",
       "      <td>3.5.99.1</td>\n",
       "      <td>riboflavin hydrolase</td>\n",
       "      <td>[\"2-hydroxyethylflavin\", \"3-hydroxypropylflavi...</td>\n",
       "      <td>[\"3-methylribitol\", \"7,8-dichloro-10-hydroxybe...</td>\n",
       "      <td>NaN</td>\n",
       "      <td>NaN</td>\n",
       "      <td>NaN</td>\n",
       "    </tr>\n",
       "    <tr>\n",
       "      <th>4</th>\n",
       "      <td>6.2.1.49</td>\n",
       "      <td>long-chain fatty acid:holo-[mycocerosate synth...</td>\n",
       "      <td>[\"ATP\", \"ATP [CPD:C00002];\", \"a long-chain fat...</td>\n",
       "      <td>[\"AMP\", \"AMP [CPD:C00020];\", \"a long-chain acy...</td>\n",
       "      <td>NaN</td>\n",
       "      <td>NaN</td>\n",
       "      <td>NaN</td>\n",
       "    </tr>\n",
       "    <tr>\n",
       "      <th>...</th>\n",
       "      <td>...</td>\n",
       "      <td>...</td>\n",
       "      <td>...</td>\n",
       "      <td>...</td>\n",
       "      <td>...</td>\n",
       "      <td>...</td>\n",
       "      <td>...</td>\n",
       "    </tr>\n",
       "    <tr>\n",
       "      <th>780</th>\n",
       "      <td>7.2.1.2</td>\n",
       "      <td>ferredoxin:NAD+ oxidoreductase (Na+-transporting)</td>\n",
       "      <td>[\"2 reduced ferredoxin\", \"2 reduced ferredoxin...</td>\n",
       "      <td>[\"2 oxidized ferredoxin\", \"2 oxidized ferredox...</td>\n",
       "      <td>NaN</td>\n",
       "      <td>NaN</td>\n",
       "      <td>NaN</td>\n",
       "    </tr>\n",
       "    <tr>\n",
       "      <th>781</th>\n",
       "      <td>7.2.4.5</td>\n",
       "      <td>(2E)-4-carboxybut-2-enoyl-CoA carboxy-lyase [(...</td>\n",
       "      <td>[\"(2E)-4-carboxybut-2-enoyl-CoA\", \"4-carboxybu...</td>\n",
       "      <td>[\"(2E)-but-2-enoyl-CoA\", \"?\", \"CO2\", \"Na+[side...</td>\n",
       "      <td>NaN</td>\n",
       "      <td>NaN</td>\n",
       "      <td>NaN</td>\n",
       "    </tr>\n",
       "    <tr>\n",
       "      <th>782</th>\n",
       "      <td>7.4.2.3</td>\n",
       "      <td>ATP phosphohydrolase (mitochondrial protein-im...</td>\n",
       "      <td>[\"ATP\", \"H2O\", \"dihydrofolate reductase[side 1...</td>\n",
       "      <td>[\"?\", \"ADP\", \"dihydrofolate reductase[side 2]\"...</td>\n",
       "      <td>NaN</td>\n",
       "      <td>NaN</td>\n",
       "      <td>NaN</td>\n",
       "    </tr>\n",
       "    <tr>\n",
       "      <th>783</th>\n",
       "      <td>7.4.2.5</td>\n",
       "      <td>ATP phosphohydrolase (ABC-type, peptide-export...</td>\n",
       "      <td>[\"5'-L-phenylalanyl-glycyl-floxuridine/in\", \"A...</td>\n",
       "      <td>[\"5'-L-phenylalanyl-glycyl-floxuridine/out\", \"...</td>\n",
       "      <td>NaN</td>\n",
       "      <td>NaN</td>\n",
       "      <td>NaN</td>\n",
       "    </tr>\n",
       "    <tr>\n",
       "      <th>784</th>\n",
       "      <td>7.6.2.2</td>\n",
       "      <td>ATP phosphohydrolase (ABC-type, xenobiotic-exp...</td>\n",
       "      <td>[\"1,13-bis[4'-(4H-chromen-4-on-2-yl)phenyl]-N-...</td>\n",
       "      <td>[\"1,13-bis[4'-(4H-chromen-4-on-2-yl)phenyl]-N-...</td>\n",
       "      <td>NaN</td>\n",
       "      <td>NaN</td>\n",
       "      <td>NaN</td>\n",
       "    </tr>\n",
       "  </tbody>\n",
       "</table>\n",
       "<p>785 rows × 7 columns</p>\n",
       "</div>"
      ],
      "text/plain": [
       "            ec                                            SYSNAME  \\\n",
       "0           sd                                                sdf   \n",
       "1    2.1.1.343                                                sdf   \n",
       "2      1.1.5.4                  (S)-malate:quinone oxidoreductase   \n",
       "3     3.5.99.1                               riboflavin hydrolase   \n",
       "4     6.2.1.49  long-chain fatty acid:holo-[mycocerosate synth...   \n",
       "..         ...                                                ...   \n",
       "780    7.2.1.2  ferredoxin:NAD+ oxidoreductase (Na+-transporting)   \n",
       "781    7.2.4.5  (2E)-4-carboxybut-2-enoyl-CoA carboxy-lyase [(...   \n",
       "782    7.4.2.3  ATP phosphohydrolase (mitochondrial protein-im...   \n",
       "783    7.4.2.5  ATP phosphohydrolase (ABC-type, peptide-export...   \n",
       "784    7.6.2.2  ATP phosphohydrolase (ABC-type, xenobiotic-exp...   \n",
       "\n",
       "                                             SUBSTRATE  \\\n",
       "0                                                   sd   \n",
       "1    [\"8-amino-8-demethyl-D-riboflavin\", \"8-amino-8...   \n",
       "2    [\"(S)-malate\", \"(S)-malate [CPD:C00149];\", \"2,...   \n",
       "3    [\"2-hydroxyethylflavin\", \"3-hydroxypropylflavi...   \n",
       "4    [\"ATP\", \"ATP [CPD:C00002];\", \"a long-chain fat...   \n",
       "..                                                 ...   \n",
       "780  [\"2 reduced ferredoxin\", \"2 reduced ferredoxin...   \n",
       "781  [\"(2E)-4-carboxybut-2-enoyl-CoA\", \"4-carboxybu...   \n",
       "782  [\"ATP\", \"H2O\", \"dihydrofolate reductase[side 1...   \n",
       "783  [\"5'-L-phenylalanyl-glycyl-floxuridine/in\", \"A...   \n",
       "784  [\"1,13-bis[4'-(4H-chromen-4-on-2-yl)phenyl]-N-...   \n",
       "\n",
       "                                               PRODUCT  bin OxidativeHalf  \\\n",
       "0                                                   sd   sd            sd   \n",
       "1    [\"8-demethyl-8-(methylamino)riboflavin [CPD:C2...  sdf           NaN   \n",
       "2    [\"?\", \"a quinol\", \"dimethyl naphthoquinol\", \"d...  NaN           NaN   \n",
       "3    [\"3-methylribitol\", \"7,8-dichloro-10-hydroxybe...  NaN           NaN   \n",
       "4    [\"AMP\", \"AMP [CPD:C00020];\", \"a long-chain acy...  NaN           NaN   \n",
       "..                                                 ...  ...           ...   \n",
       "780  [\"2 oxidized ferredoxin\", \"2 oxidized ferredox...  NaN           NaN   \n",
       "781  [\"(2E)-but-2-enoyl-CoA\", \"?\", \"CO2\", \"Na+[side...  NaN           NaN   \n",
       "782  [\"?\", \"ADP\", \"dihydrofolate reductase[side 2]\"...  NaN           NaN   \n",
       "783  [\"5'-L-phenylalanyl-glycyl-floxuridine/out\", \"...  NaN           NaN   \n",
       "784  [\"1,13-bis[4'-(4H-chromen-4-on-2-yl)phenyl]-N-...  NaN           NaN   \n",
       "\n",
       "    ReductionHalf  \n",
       "0              sd  \n",
       "1             NaN  \n",
       "2             NaN  \n",
       "3             NaN  \n",
       "4             NaN  \n",
       "..            ...  \n",
       "780           NaN  \n",
       "781           NaN  \n",
       "782           NaN  \n",
       "783           NaN  \n",
       "784           NaN  \n",
       "\n",
       "[785 rows x 7 columns]"
      ]
     },
     "execution_count": 22,
     "metadata": {},
     "output_type": "execute_result"
    }
   ],
   "source": [
    "DF"
   ]
  },
  {
   "cell_type": "code",
   "execution_count": 8,
   "metadata": {},
   "outputs": [
    {
     "ename": "SyntaxError",
     "evalue": "can't assign to function call (<ipython-input-8-03018cef459b>, line 1)",
     "output_type": "error",
     "traceback": [
      "\u001b[0;36m  File \u001b[0;32m\"<ipython-input-8-03018cef459b>\"\u001b[0;36m, line \u001b[0;32m1\u001b[0m\n\u001b[0;31m    DF.at[0,'bin'].as_type(\"str\") = 'sd'\u001b[0m\n\u001b[0m                                        ^\u001b[0m\n\u001b[0;31mSyntaxError\u001b[0m\u001b[0;31m:\u001b[0m can't assign to function call\n"
     ]
    }
   ],
   "source": [
    "DF.at[0,'bin'].as_type(\"str\") = 'sd'"
   ]
  },
  {
   "cell_type": "code",
   "execution_count": null,
   "metadata": {},
   "outputs": [],
   "source": []
  }
 ],
 "metadata": {
  "kernelspec": {
   "display_name": "Python 3",
   "language": "python",
   "name": "python3"
  },
  "language_info": {
   "codemirror_mode": {
    "name": "ipython",
    "version": 3
   },
   "file_extension": ".py",
   "mimetype": "text/x-python",
   "name": "python",
   "nbconvert_exporter": "python",
   "pygments_lexer": "ipython3",
   "version": "3.6.4"
  }
 },
 "nbformat": 4,
 "nbformat_minor": 4
}
