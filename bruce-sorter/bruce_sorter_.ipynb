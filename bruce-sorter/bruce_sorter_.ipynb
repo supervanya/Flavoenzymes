{
 "cells": [
  {
   "cell_type": "code",
   "execution_count": 22,
   "metadata": {},
   "outputs": [],
   "source": [
    "import json\n",
    "import pandas as pd"
   ]
  },
  {
   "cell_type": "code",
   "execution_count": 23,
   "metadata": {},
   "outputs": [],
   "source": [
    "combined_data = 'export/combined.json'"
   ]
  },
  {
   "cell_type": "code",
   "execution_count": 24,
   "metadata": {},
   "outputs": [],
   "source": [
    "def read_json_data(path):\n",
    "    with open(path) as json_file:\n",
    "        return json.load(json_file)"
   ]
  },
  {
   "cell_type": "code",
   "execution_count": 25,
   "metadata": {},
   "outputs": [],
   "source": [
    "flavoenzyme_data = read_json_data(export_file)"
   ]
  },
  {
   "cell_type": "code",
   "execution_count": 34,
   "metadata": {},
   "outputs": [],
   "source": [
    "poster_child = '1.14.13.2'\n",
    "pdb_set=set()"
   ]
  },
  {
   "cell_type": "code",
   "execution_count": 35,
   "metadata": {},
   "outputs": [],
   "source": [
    "\n",
    "for enzyme in flavoenzyme_data.values():\n",
    "    has_pdb = enzyme.get('PDB', False)\n",
    "    if has_pdb:\n",
    "        for pdb in enzyme['PDB']:\n",
    "            pdb_set.add(pdb)"
   ]
  },
  {
   "cell_type": "code",
   "execution_count": 40,
   "metadata": {},
   "outputs": [
    {
     "data": {
      "text/plain": [
       "False"
      ]
     },
     "execution_count": 40,
     "metadata": {},
     "output_type": "execute_result"
    }
   ],
   "source": []
  },
  {
   "cell_type": "code",
   "execution_count": 27,
   "metadata": {},
   "outputs": [
    {
     "data": {
      "text/plain": [
       "{'SYSNAME': '4-hydroxybenzoate,NADPH:oxygen oxidoreductase (3-hydroxylating)',\n",
       " 'SUBSTRATE': ['2,3-dihydroxybenzoate',\n",
       "  '2,4-dihydroxybenzoate',\n",
       "  '2,5-dihydroxybenzoate',\n",
       "  '2-chloro-4-hydroxybenzoate',\n",
       "  '2-fluoro-4-hydroxybenzoate',\n",
       "  '3,4-dihydroxybenzoate',\n",
       "  '3,4-dihydroxybenzoic acid',\n",
       "  '3,5-dihydroxybenzoate',\n",
       "  '3-Chloro-4-hydroxybenzoate',\n",
       "  '3-Fluoro-4-hydroxybenzoate',\n",
       "  '3-bromo-4-hydroxybenzoate',\n",
       "  '3-chlorophenol',\n",
       "  '3-hydroxyanthranilate',\n",
       "  '4-aminobenzoate',\n",
       "  '4-chlorophenol',\n",
       "  '4-chlororesorcinol',\n",
       "  '4-hydroxybenzoate',\n",
       "  '4-hydroxybenzoate [CPD:C00156];',\n",
       "  '4-mercaptobenzoate',\n",
       "  '4-nitrophenol',\n",
       "  '4-toluate',\n",
       "  'H+',\n",
       "  'H+ [CPD:C00080];',\n",
       "  'NADH',\n",
       "  'NADP+',\n",
       "  'NADPH',\n",
       "  'NADPH [CPD:C00005];',\n",
       "  'O2',\n",
       "  'O2 [CPD:C00007]',\n",
       "  'benzene sulfonate',\n",
       "  'ferricyanide',\n",
       "  'hydroquinone',\n",
       "  'm-hydroxybenzoate',\n",
       "  'more',\n",
       "  'p-hydroxybenzoate'],\n",
       " 'PRODUCT': ['2,3,4-trihydroxybenzoate',\n",
       "  '2,4,5-trihydroxybenzoate',\n",
       "  '3,4-dihydroxybenzoate [CPD:C00230];',\n",
       "  \"4,4'-dithiobisbenzoate\",\n",
       "  '?',\n",
       "  'H2O',\n",
       "  'H2O [CPD:C00001]',\n",
       "  'NAD+',\n",
       "  'NADP+',\n",
       "  'NADP+ [CPD:C00006];',\n",
       "  'ferrocyanide',\n",
       "  'gallic acid',\n",
       "  'protocatechuate'],\n",
       " 'PDB': ['1bf3',\n",
       "  '1bgj',\n",
       "  '1bgn',\n",
       "  '1bkw',\n",
       "  '1cc4',\n",
       "  '1cc6',\n",
       "  '1cj2',\n",
       "  '1cj3',\n",
       "  '1cj4',\n",
       "  '1d7l',\n",
       "  '1dob',\n",
       "  '1doc',\n",
       "  '1dod',\n",
       "  '1doe',\n",
       "  '1ius',\n",
       "  '1iut',\n",
       "  '1iuu',\n",
       "  '1iuv',\n",
       "  '1iuw',\n",
       "  '1iux',\n",
       "  '1k0i',\n",
       "  '1k0j',\n",
       "  '1k0l',\n",
       "  '1pbb',\n",
       "  '1pbc',\n",
       "  '1pbd',\n",
       "  '1pbe',\n",
       "  '1pbf',\n",
       "  '1pdh',\n",
       "  '1phh',\n",
       "  '1pxa',\n",
       "  '1pxb',\n",
       "  '1pxc',\n",
       "  '1ykj',\n",
       "  '2phh',\n",
       "  '6dll',\n",
       "  '6ju1']}"
      ]
     },
     "execution_count": 27,
     "metadata": {},
     "output_type": "execute_result"
    }
   ],
   "source": [
    "flavoenzyme_data[poster_child]"
   ]
  },
  {
   "cell_type": "code",
   "execution_count": null,
   "metadata": {},
   "outputs": [],
   "source": [
    "flavoenzyme_data['']"
   ]
  },
  {
   "cell_type": "code",
   "execution_count": null,
   "metadata": {},
   "outputs": [],
   "source": [
    "#Print in pretty format enzyme's name, products, and substrates\n",
    "#"
   ]
  }
 ],
 "metadata": {
  "kernelspec": {
   "display_name": "Python 3",
   "language": "python",
   "name": "python3"
  },
  "language_info": {
   "codemirror_mode": {
    "name": "ipython",
    "version": 3
   },
   "file_extension": ".py",
   "mimetype": "text/x-python",
   "name": "python",
   "nbconvert_exporter": "python",
   "pygments_lexer": "ipython3",
   "version": "3.6.4"
  }
 },
 "nbformat": 4,
 "nbformat_minor": 4
}
