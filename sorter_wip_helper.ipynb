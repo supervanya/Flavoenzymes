{
 "cells": [
  {
   "cell_type": "code",
   "execution_count": 154,
   "metadata": {},
   "outputs": [],
   "source": [
    "import pandas as pd\n",
    "import json\n",
    "\n",
    "Red_answers = ['etrans', 'thiol', 'htrans', 'e', 't', 'h']\n",
    "Red_answers_prompt = \"Enter one of: etrans(e), thiol(t), htrans(t)\"\n",
    "Ox_answers  = ['htrans', 'disulfide', 'etrans', 'oxidase', 'mono', 'newmono', 'h', 'd', 'e', 'o', 'm', 'n']\n",
    "Ox_answers_prompt = \"Enter one of: htrans(h), disulfide(d), etrans(e), oxidase(o), mono(m), newmono(n)\"\n",
    "\n",
    "emily_map = {'a':'eTrans, HTrans','b':'eTrans, DisulfideRed','c':'eTrans, eTrans','d':'eTrans, Oxidase','e':'eTrans, Monoox','f':'eTrans, NewMonoox','g':'ThiolOx, HTrans','h':'ThiolOx, DisulfideRed','i':'ThiolOx, eTrans','j':'ThiolOx, Oxidase','k':'ThiolOx, Monoox','l':'ThiolOx, NewMonoox','m':'HTrans, HTrans','n':'HTrans, DisulfideRed','o':'HTrans, eTrans','p':'HTrans, Oxidase','q':'HTrans, Monoox','r':'HTrans, NewMonoox'}\n",
    "\n",
    "FILE_NAME = 'bruce-sorter/flavoenzymes_to_sort.csv'\n",
    "DF = pd.read_csv(FILE_NAME)\n",
    "NUMBER_ENZYMES_LEFT = len(DF[DF.bin == 0])"
   ]
  },
  {
   "cell_type": "code",
   "execution_count": 155,
   "metadata": {},
   "outputs": [],
   "source": [
    "import string"
   ]
  },
  {
   "cell_type": "code",
   "execution_count": 156,
   "metadata": {},
   "outputs": [],
   "source": [
    "Red_answers = ['etrans', 'thiol', 'htrans']\n",
    "Ox_answers  = ['htrans', 'disulfide', 'etrans', 'oxidase', 'mono', 'newmono']\n",
    "emily_map = {'a':'eTrans, HTrans','b':'eTrans, DisulfideRed','c':'eTrans, eTrans','d':'eTrans, Oxidase','e':'eTrans, Monoox','f':'eTrans, NewMonoox','g':'ThiolOx, HTrans','h':'ThiolOx, DisulfideRed','i':'ThiolOx, eTrans','j':'ThiolOx, Oxidase','k':'ThiolOx, Monoox','l':'ThiolOx, NewMonoox','m':'HTrans, HTrans','n':'HTrans, DisulfideRed','o':'HTrans, eTrans','p':'HTrans, Oxidase','q':'HTrans, Monoox','r':'HTrans, NewMonoox'}\n",
    "mapping = {}\n",
    "alphabet = list(string.ascii_lowercase)\n",
    "\n",
    "for red_ans in Red_answers:\n",
    "    for ox_ans in Ox_answers:\n",
    "        perm = f\"{red_ans}-{ox_ans}\"\n",
    "        mapping[perm] = alphabet.pop(0)\n",
    "        \n",
    "emily_map_reverse = {}\n",
    "for key, value in emily_map.items():\n",
    "    emily_map_reverse[value] = key\n"
   ]
  },
  {
   "cell_type": "code",
   "execution_count": 165,
   "metadata": {},
   "outputs": [],
   "source": [
    "def askQuestion(index,prompt):\n",
    "    '''\n",
    "    prints the enzyme properties to the terminal\n",
    "    propmpts the user for answer\n",
    "    returns the answer\n",
    "    '''\n",
    "    name = DF.at[index,'SYSNAME']\n",
    "    substrates = json.loads(DF.at[index,'SUBSTRATE'])\n",
    "    products = json.loads(DF.at[index,'PRODUCT'])\n",
    "    ec = DF.at[index,'ec']\n",
    "\n",
    "    \n",
    "    print(\"This is the enzyme:\")\n",
    "    print(f'Kegg link: https://www.genome.jp/dbget-bin/www_bget?ec:{ec}')\n",
    "    print(f'Brenda link: https://www.brenda-enzymes.info/enzyme.php?ecno={ec}')\n",
    "    \n",
    "    print(f\"Name: {name}\")\n",
    "    \n",
    "    print(f\"Substrates:\")\n",
    "    [print(f\" • {s}\") for s in substrates]\n",
    "    \n",
    "    print(f\"Products:\")\n",
    "    [print(f\" • {p}\") for p in products]\n",
    "    \n",
    "    return input(prompt + \"\\n > \")"
   ]
  },
  {
   "cell_type": "code",
   "execution_count": null,
   "metadata": {},
   "outputs": [
    {
     "name": "stdout",
     "output_type": "stream",
     "text": [
      "This is the enzyme:\n",
      "Kegg link: https://www.genome.jp/dbget-bin/www_bget?ec:2.1.1.343\n",
      "Brenda link: https://www.brenda-enzymes.info/enzyme.php?ecno=2.1.1.343\n",
      "Name: S-adenosyl-L-methionine:8-amino-8-demethylriboflavin N,N-dimethyltransferase\n",
      "Substrates:\n",
      " • 8-amino-8-demethyl-D-riboflavin\n",
      " • 8-amino-8-demethylriboflavin [CPD:C21646];\n",
      " • 8-demethyl-8-(methylamino)riboflavin [CPD:C21648]\n",
      " • S-adenosyl-L-methionine\n",
      " • S-adenosyl-L-methionine [CPD:C00019];\n",
      " • more\n",
      "Products:\n",
      " • 8-demethyl-8-(methylamino)riboflavin [CPD:C21648]\n",
      " • ?\n",
      " • S-adenosyl-L-homocysteine\n",
      " • S-adenosyl-L-homocysteine [CPD:C00021];\n",
      " • roseoflavin\n",
      " • roseoflavin [CPD:C21647];\n"
     ]
    }
   ],
   "source": [
    "askQuestion(1,'hey there?')"
   ]
  },
  {
   "cell_type": "code",
   "execution_count": 104,
   "metadata": {},
   "outputs": [
    {
     "data": {
      "text/plain": [
       "0    a\n",
       "1    a\n",
       "Name: bin, dtype: object"
      ]
     },
     "execution_count": 104,
     "metadata": {},
     "output_type": "execute_result"
    }
   ],
   "source": [
    "DF.loc[0:1,'bin']"
   ]
  },
  {
   "cell_type": "code",
   "execution_count": 84,
   "metadata": {},
   "outputs": [
    {
     "data": {
      "text/plain": [
       "Index(['SYSNAME', 'SUBSTRATE', 'PRODUCT', 'bin', 'OxidativeHalf',\n",
       "       'ReductionHalf'],\n",
       "      dtype='object')"
      ]
     },
     "execution_count": 84,
     "metadata": {},
     "output_type": "execute_result"
    }
   ],
   "source": [
    "DF.columns"
   ]
  },
  {
   "cell_type": "code",
   "execution_count": 122,
   "metadata": {},
   "outputs": [
    {
     "data": {
      "text/plain": [
       "\"['S-adenosyl-L-methionine [CPD:C00019];', '8-amino-8-demethylriboflavin [CPD:C21646];', '8-demethyl-8-(methylamino)riboflavin [CPD:C21648]']\""
      ]
     },
     "execution_count": 122,
     "metadata": {},
     "output_type": "execute_result"
    }
   ],
   "source": [
    "DF.iloc[1]['SUBSTRATE']"
   ]
  },
  {
   "cell_type": "code",
   "execution_count": 88,
   "metadata": {},
   "outputs": [
    {
     "data": {
      "text/plain": [
       "'6,7-dimethyl-8-(1-D-ribityl)lumazine:6,7-dimethyl-8-(1-D-ribityl)lumazine 2,3-butanediyltransferase'"
      ]
     },
     "execution_count": 88,
     "metadata": {},
     "output_type": "execute_result"
    }
   ],
   "source": [
    "DF.iloc[0]['SYSNAME']"
   ]
  },
  {
   "cell_type": "code",
   "execution_count": 124,
   "metadata": {},
   "outputs": [
    {
     "data": {
      "text/plain": [
       "'6,7-dimethyl-8-(1-D-ribityl)lumazine:6,7-dimethyl-8-(1-D-ribityl)lumazine 2,3-butanediyltransferase'"
      ]
     },
     "execution_count": 124,
     "metadata": {},
     "output_type": "execute_result"
    }
   ],
   "source": [
    "DF.at[0,'SYSNAME']"
   ]
  },
  {
   "cell_type": "code",
   "execution_count": null,
   "metadata": {},
   "outputs": [],
   "source": []
  }
 ],
 "metadata": {
  "kernelspec": {
   "display_name": "Python 3",
   "language": "python",
   "name": "python3"
  },
  "language_info": {
   "codemirror_mode": {
    "name": "ipython",
    "version": 3
   },
   "file_extension": ".py",
   "mimetype": "text/x-python",
   "name": "python",
   "nbconvert_exporter": "python",
   "pygments_lexer": "ipython3",
   "version": "3.6.4"
  }
 },
 "nbformat": 4,
 "nbformat_minor": 4
}
